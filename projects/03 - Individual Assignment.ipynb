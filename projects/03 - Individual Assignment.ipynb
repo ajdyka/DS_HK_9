{
 "cells": [
  {
   "cell_type": "markdown",
   "metadata": {},
   "source": [
    "# Individual Assignment : Classification Problem"
   ]
  },
  {
   "cell_type": "markdown",
   "metadata": {},
   "source": [
    "As a lead-up to your course project, the final class assignment will be to build the best classification model for a dataset of your choice.\n",
    "\n",
    "The objective is to showcase your machine learning abilities and uptake of the course materials thus-far. We will use this assignment as a measure of your progress."
   ]
  },
  {
   "cell_type": "markdown",
   "metadata": {},
   "source": [
    "## Deliverables"
   ]
  },
  {
   "cell_type": "markdown",
   "metadata": {},
   "source": [
    "A Jupyter notebook submitted through the [submission](https://docs.google.com/a/type.hk/forms/d/1bn5ZAsOpj2VnFPP4K-sV0l5qmyHfUi6aQ2fQHgghnco/viewform) form containing:\n",
    "* Exploratory Data Analysis\n",
    "* Use of appropriate validation techniques\n",
    "* Attempt to use and compare ensemble methods\n",
    "* Evaluation of model's strengths and weaknesses\n",
    "\n",
    "The goal will be to build the _strongest_ predictor. Though an interpretation of the model might give you a leg up, the goal is to build the strongest pedictor. Hence it may be a good to turn to a black-box algorithms this time around :)"
   ]
  },
  {
   "cell_type": "markdown",
   "metadata": {},
   "source": [
    "### Chosen Topics "
   ]
  },
  {
   "cell_type": "code",
   "execution_count": 4,
   "metadata": {
    "collapsed": true
   },
   "outputs": [],
   "source": [
    "import pandas as pd\n",
    "import itertools"
   ]
  },
  {
   "cell_type": "code",
   "execution_count": 13,
   "metadata": {
    "collapsed": false
   },
   "outputs": [
    {
     "data": {
      "text/html": [
       "<div>\n",
       "<table border=\"1\" class=\"dataframe\">\n",
       "  <thead>\n",
       "    <tr style=\"text-align: right;\">\n",
       "      <th></th>\n",
       "      <th>name</th>\n",
       "      <th>topic</th>\n",
       "      <th>dataset</th>\n",
       "    </tr>\n",
       "  </thead>\n",
       "  <tbody>\n",
       "    <tr>\n",
       "      <th>0</th>\n",
       "      <td>dickson</td>\n",
       "      <td>bs</td>\n",
       "      <td>http://bigdata-madesimple.com/big-data-bullshit/</td>\n",
       "    </tr>\n",
       "  </tbody>\n",
       "</table>\n",
       "</div>"
      ],
      "text/plain": [
       "      name topic                                           dataset\n",
       "0  dickson    bs  http://bigdata-madesimple.com/big-data-bullshit/"
      ]
     },
     "execution_count": 13,
     "metadata": {},
     "output_type": "execute_result"
    }
   ],
   "source": [
    "teams = pd.DataFrame({\n",
    "    'name' : ['dickson'],\n",
    "    'topic' : ['bs'],\n",
    "    'dataset' : ['http://bigdata-madesimple.com/big-data-bullshit/']})\n",
    "teams = teams[['name','topic','dataset']]\n",
    "teams"
   ]
  }
 ],
 "metadata": {
  "kernelspec": {
   "display_name": "Python 2",
   "language": "python",
   "name": "python2"
  },
  "language_info": {
   "codemirror_mode": {
    "name": "ipython",
    "version": 2
   },
   "file_extension": ".py",
   "mimetype": "text/x-python",
   "name": "python",
   "nbconvert_exporter": "python",
   "pygments_lexer": "ipython2",
   "version": "2.7.10"
  }
 },
 "nbformat": 4,
 "nbformat_minor": 0
}

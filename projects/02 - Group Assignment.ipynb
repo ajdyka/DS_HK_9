{
 "cells": [
  {
   "cell_type": "markdown",
   "metadata": {},
   "source": [
    "# Group Assignment : Estimation Problem"
   ]
  },
  {
   "cell_type": "markdown",
   "metadata": {},
   "source": [
    "Team up in pairs, and build the best estimation model for a dataset of your choice, see [datasets](http://nbviewer.jupyter.org/github/ga-students/DS_HK_8/blob/gh-pages/notebooks/AA%20-%20Datasets.ipynb) for a list of resources."
   ]
  },
  {
   "cell_type": "markdown",
   "metadata": {},
   "source": [
    "### Deliverables"
   ]
  },
  {
   "cell_type": "markdown",
   "metadata": {},
   "source": [
    "A 10 minute presentation in class for your peers showcasing;\n",
    "* Exploratory Data Analysis\n",
    "* Motivation for feature selection\n",
    "* Checking whether the preconditions for linear regression have been met\n",
    "* Evaluation of model's strengths and weaknesses\n",
    "\n",
    "Audiences can be assumed to understand all your technical points, so don't be afraid to dive into the code to showcase your solutions! iPython notebook comes with a slideshow mode, consider [using it](http://www.damian.oquanta.info/posts/make-your-slides-with-ipython.html)\n",
    "    "
   ]
  },
  {
   "cell_type": "markdown",
   "metadata": {},
   "source": [
    "### Useful Book"
   ]
  },
  {
   "cell_type": "markdown",
   "metadata": {},
   "source": [
    "Login // Password for the book \n",
    "\n",
    "        media // guidance\n",
    "\n",
    "Any dataset from [Regression Analysis by Example](http://www.stat.nus.edu.sg/~zhangjt/teaching/textbook/datasets.htm)"
   ]
  },
  {
   "cell_type": "markdown",
   "metadata": {},
   "source": [
    "### Teams"
   ]
  },
  {
   "cell_type": "code",
   "execution_count": 4,
   "metadata": {
    "collapsed": true
   },
   "outputs": [],
   "source": [
    "import pandas as pd\n",
    "import itertools"
   ]
  },
  {
   "cell_type": "code",
   "execution_count": 5,
   "metadata": {
    "collapsed": false
   },
   "outputs": [
    {
     "data": {
      "text/html": [
       "<div>\n",
       "<table border=\"1\" class=\"dataframe\">\n",
       "  <thead>\n",
       "    <tr style=\"text-align: right;\">\n",
       "      <th></th>\n",
       "      <th>DATASET</th>\n",
       "      <th>PLAYER 1</th>\n",
       "      <th>PLAYER 2</th>\n",
       "    </tr>\n",
       "  </thead>\n",
       "  <tbody>\n",
       "    <tr>\n",
       "      <th>0</th>\n",
       "      <td></td>\n",
       "      <td></td>\n",
       "      <td></td>\n",
       "    </tr>\n",
       "  </tbody>\n",
       "</table>\n",
       "</div>"
      ],
      "text/plain": [
       "  DATASET PLAYER 1 PLAYER 2\n",
       "0                          "
      ]
     },
     "execution_count": 5,
     "metadata": {},
     "output_type": "execute_result"
    }
   ],
   "source": [
    "teams = pd.DataFrame({\n",
    "    'PLAYER 1' : [''],\n",
    "    'PLAYER 2' : [''],\n",
    "    'DATASET' : ['']})\n",
    "                 \n",
    "teams"
   ]
  }
 ],
 "metadata": {
  "kernelspec": {
   "display_name": "Python 2",
   "language": "python",
   "name": "python2"
  },
  "language_info": {
   "codemirror_mode": {
    "name": "ipython",
    "version": 2
   },
   "file_extension": ".py",
   "mimetype": "text/x-python",
   "name": "python",
   "nbconvert_exporter": "python",
   "pygments_lexer": "ipython2",
   "version": "2.7.10"
  }
 },
 "nbformat": 4,
 "nbformat_minor": 0
}

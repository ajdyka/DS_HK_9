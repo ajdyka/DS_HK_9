{
 "cells": [
  {
   "cell_type": "markdown",
   "metadata": {},
   "source": [
    "# Datasets"
   ]
  },
  {
   "cell_type": "markdown",
   "metadata": {},
   "source": [
    "### Open data catalogs from various governments and NGOs:\n",
    "* [Data Gov HK](data.gov.hk)\n",
    "* [NYC Open Data](https://nycopendata.socrata.com/)\n",
    "* [DC Open Data Catalog](http://data.dc.gov/) / [OpenDataDC](http://www.opendatadc.org/)\n",
    "* [DataLA](https://data.lacity.org/)\n",
    "* [data.gov](https://www.data.gov/) (see also: [Project Open Data Dashboard](http://data.civicagency.org/))\n",
    "* [data.gov.uk](http://data.gov.uk/)\n",
    "* [US Census Bureau](http://www.census.gov/)\n",
    "* [World Bank Open Data](http://data.worldbank.org/)\n",
    "* [Humanitarian Data Exchange](http://docs.hdx.rwlabs.org/)\n",
    "* [Sunlight Foundation](http://sunlightfoundation.com/api/): government-focused data\n",
    "* [ProPublica Data Store](https://projects.propublica.org/data-store/)\n",
    "\n",
    "### Datasets hosted by academic institutions:\n",
    "* [UC Irvine Machine Learning Repository](http://archive.ics.uci.edu/ml/): datasets specifically designed for machine learning\n",
    "* [Stanford Large Network Dataset Collection](http://snap.stanford.edu/data/): graph data\n",
    "* [Inter-university Consortium for Political and Social Research](http://www.icpsr.umich.edu/)\n",
    "* [Pittsburgh Science of Learning Center's DataShop](http://www.learnlab.org/technologies/datashop/)\n",
    "* [Academic Torrents](http://academictorrents.com/): distributed network for sharing large research datasets\n",
    "* [Dataverse Project](http://dataverse.org/): searchable archive of research data\n",
    "\n",
    "### Datasets hosted by private companies:\n",
    "* [Quandl](https://www.quandl.com/): over 10 million financial, economic, and social datasets\n",
    "* [Amazon Web Services Public Data Sets](http://aws.amazon.com/datasets/)\n",
    "* [Kaggle](http://www.kaggle.com/) provides datasets with their challenges, but each competition has its own rules as to whether the data can be used outside of the scope of the competition.\n",
    "\n",
    "### Big lists of datasets:\n",
    "* [Rdatasets](http://vincentarelbundock.github.io/Rdatasets/): collection of 700+ datasets originally distributed with R packages\n",
    "* [RDataMining.com](http://www.rdatamining.com/resources/data)\n",
    "* [KDnuggets](http://www.kdnuggets.com/datasets/index.html)\n",
    "* [inside-R](http://www.inside-r.org/howto/finding-data-internet)\n",
    "* [100+ Interesting Data Sets for Statistics](http://rs.io/2014/05/29/list-of-data-sets.html)\n",
    "* [20 Free Big Data Sources](http://smartdatacollective.com/bernardmarr/235366/big-data-20-free-big-data-sources-everyone-should-know)\n",
    "* [Sebastian Raschka](https://github.com/rasbt/pattern_classification/blob/master/resources/dataset_collections.md): datasets categorized by format and topic\n",
    "\n",
    "### APIs:\n",
    "* [Apigee](https://apigee.com/providers): explore dozens of popular APIs\n",
    "* [Mashape](https://www.mashape.com/): explore hundreds of APIs\n",
    "* [Python APIs](http://www.pythonforbeginners.com/api/list-of-python-apis): Python wrappers for many APIs\n",
    "\n",
    "### Other interesting datasets:\n",
    "* [FiveThirtyEight](https://github.com/fivethirtyeight/data): data and code related to their articles\n",
    "* [Donors Choose](http://data.donorschoose.org/open-data/overview/): data related to their projects\n",
    "* [200,000+ Jeopardy questions](http://www.reddit.com/r/datasets/comments/1uyd0t/200000_jeopardy_questions_in_a_json_file/)\n",
    "* [CrowdFlower](http://www.crowdflower.com/data-for-everyone): interesting datasets created or enhanced by their contributors\n",
    "\n",
    "### Other resources:\n",
    "* [Datasets Subreddit](http://www.reddit.com/r/datasets/): ask for help finding a specific data set, or post your own\n",
    "* [Center for Data Innovation](http://www.datainnovation.org/category/publications/data-set-blog/): blog posts about interesting, recently-released data sets.\n",
    "\n",
    "This is just the tip of the iceberg; there's a lot of data out there!"
   ]
  }
 ],
 "metadata": {
  "kernelspec": {
   "display_name": "Python 2",
   "language": "python",
   "name": "python2"
  },
  "language_info": {
   "codemirror_mode": {
    "name": "ipython",
    "version": 2
   },
   "file_extension": ".py",
   "mimetype": "text/x-python",
   "name": "python",
   "nbconvert_exporter": "python",
   "pygments_lexer": "ipython2",
   "version": "2.7.10"
  }
 },
 "nbformat": 4,
 "nbformat_minor": 0
}

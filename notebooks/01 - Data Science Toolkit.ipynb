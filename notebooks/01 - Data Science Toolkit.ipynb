{
 "cells": [
  {
   "cell_type": "markdown",
   "metadata": {},
   "source": [
    "![](http://research.ncsu.edu/dsi/files/2014/10/data-science2.jpg)"
   ]
  },
  {
   "cell_type": "markdown",
   "metadata": {
    "slideshow": {
     "slide_type": "slide"
    }
   },
   "source": [
    "# The Journey Begins"
   ]
  },
  {
   "cell_type": "markdown",
   "metadata": {},
   "source": [
    "> We don’t receive wisdom; we must discover it for ourselves after a journey that no one can take for us or spare us.\n",
    "\n",
    "<footer>~ Marcel Proust</footer>"
   ]
  },
  {
   "cell_type": "markdown",
   "metadata": {},
   "source": [
    "### Getting the class files"
   ]
  },
  {
   "cell_type": "markdown",
   "metadata": {},
   "source": [
    "Get them from [Github](https://github.com/ga-students/DS_HK_9/). Either use \n",
    "\n",
    "```bash\n",
    "cd ~/DataBox/DS_HK_9/ && git pull origin gh-pages\n",
    "``` \n",
    "\n",
    "or,\n",
    "\n",
    "![](assets/Screenshot from 2015-06-06 01-44-09.png)\n",
    "\n",
    "[download them as a ZIP](https://github.com/ga-students/DS_HK_9/archive/gh-pages.zip).\n",
    "\n",
    "Make sure you put the _contents_ of the archive in `~/DataBox/DS_HK_9/` and **not** the whole folder, as it is wrapper in a top-level directory.\n",
    "\n",
    "![](assets/unpack.png)"
   ]
  },
  {
   "cell_type": "markdown",
   "metadata": {},
   "source": [
    "Cool. The latest notebook should now be in your browser... and be the same as the one I'm showing you here :)"
   ]
  },
  {
   "cell_type": "markdown",
   "metadata": {},
   "source": [
    "![break](assets/agenda.png)"
   ]
  },
  {
   "cell_type": "markdown",
   "metadata": {
    "slideshow": {
     "slide_type": "slide"
    }
   },
   "source": [
    "## Agenda"
   ]
  },
  {
   "cell_type": "markdown",
   "metadata": {},
   "source": [
    "1. What Is Data Science?\n",
    "1. What can Data Science do?\n",
    "1. The Data Science Workflow\n",
    "1. Levels of Measurements\n",
    "\n",
    "**Labs** :\n",
    "1. Python Datatypes\n",
    "1.  Working In Unix And Python"
   ]
  },
  {
   "cell_type": "markdown",
   "metadata": {},
   "source": [
    "![break](assets/theory.png)"
   ]
  },
  {
   "cell_type": "markdown",
   "metadata": {
    "slideshow": {
     "slide_type": "slide"
    }
   },
   "source": [
    "## What is Data Science?"
   ]
  },
  {
   "cell_type": "markdown",
   "metadata": {},
   "source": [
    "> Data science is the study of the generalizable extraction of knowledge from data.\n",
    "\n"
   ]
  },
  {
   "cell_type": "markdown",
   "metadata": {},
   "source": [
    "[![](assets/CGZeXMnWwAAnCyN.jpg)](http://drewconway.com/zia/2013/3/26/the-data-science-venn-diagram)"
   ]
  },
  {
   "cell_type": "markdown",
   "metadata": {
    "slideshow": {
     "slide_type": "slide"
    }
   },
   "source": [
    "* A set of tools and techniques used to extract useful information from data.\n",
    "* An interdisciplinary, problem-oriented subject.\n",
    "* The application of scientific techniques to practical problems.\n",
    "* A rapidly growing field."
   ]
  },
  {
   "cell_type": "markdown",
   "metadata": {},
   "source": [
    "## Compared with straight up Statistics"
   ]
  },
  {
   "cell_type": "markdown",
   "metadata": {},
   "source": [
    "### Prediction vs Understanding\n",
    "\n",
    "The biggest difference between statistics and machine learning is that statistics emphasizes _inference_, whereas machine learning emphasized _prediction_. When you do statistics, you want to infer the process by which data you have was generated. When you do machine learning, you want to know how you can predict what future data will look like w.r.t. some variable. The former approach will allow you to better _understand_ all the factors and parameters that underpin a model, whereas the latter might allow you to respond to expected values.\n",
    "\n",
    "#### White-box vs Black Box Models\n",
    "\n",
    "Most of statistics from its birth until now has been concerned with white box methods – making assumptions, and using models to make predictions, and statistical tests. White box methods aims to understand the process that creates information, and choosing the right model.The majority of machine learning on the other hand is based on black box algorithms. We attempt to gather enough data to train a computer to make predictions."
   ]
  },
  {
   "cell_type": "markdown",
   "metadata": {},
   "source": [
    "### A Tale of Two Data Scientists"
   ]
  },
  {
   "cell_type": "markdown",
   "metadata": {},
   "source": [
    "[![](assets/DS_diagram.jpg)](http://www.p-value.info/2012/12/what-is-data-scientist.html)"
   ]
  },
  {
   "cell_type": "markdown",
   "metadata": {},
   "source": [
    "But really... it's more like this...    "
   ]
  },
  {
   "cell_type": "markdown",
   "metadata": {},
   "source": [
    "[![](assets/vizstars.png)](http://columbiadatascience.com/author/columbiadatascience/page/5/)"
   ]
  },
  {
   "cell_type": "markdown",
   "metadata": {},
   "source": [
    "### Data Science at Work"
   ]
  },
  {
   "cell_type": "markdown",
   "metadata": {},
   "source": [
    "Online discussions just got an upgrade with [Polis](https://pol.is/)"
   ]
  },
  {
   "cell_type": "code",
   "execution_count": 1,
   "metadata": {
    "collapsed": false
   },
   "outputs": [
    {
     "data": {
      "text/html": [
       "<iframe width=960 height=500 src=\"https://pol.is/\" ></iframe>"
      ],
      "text/plain": [
       "<IPython.core.display.HTML object>"
      ]
     },
     "execution_count": 1,
     "metadata": {},
     "output_type": "execute_result"
    }
   ],
   "source": [
    "from IPython.display import HTML\n",
    "HTML('<iframe width=960 height=500 src=\"https://pol.is/\" ></iframe>')"
   ]
  },
  {
   "cell_type": "markdown",
   "metadata": {},
   "source": [
    "Google's AI can now play [breakout](http://www.wired.com/2015/02/google-ai-plays-atari-like-pros/)"
   ]
  },
  {
   "cell_type": "code",
   "execution_count": 2,
   "metadata": {
    "collapsed": false
   },
   "outputs": [
    {
     "data": {
      "text/html": [
       "<video width=960 controls=true preload=\"true\" src=\"http://dp8hsntg6do36.cloudfront.net/54ecfb1361646d4abb080000/0f8caf64-0986-4839-80af-d91543820cbblow.webm\"></video>"
      ],
      "text/plain": [
       "<IPython.core.display.HTML object>"
      ]
     },
     "execution_count": 2,
     "metadata": {},
     "output_type": "execute_result"
    }
   ],
   "source": [
    "HTML('<video width=960 controls=true preload=\"true\" src=\"http://dp8hsntg6do36.cloudfront.net/54ecfb1361646d4abb080000/0f8caf64-0986-4839-80af-d91543820cbblow.webm\"></video>')"
   ]
  },
  {
   "cell_type": "markdown",
   "metadata": {},
   "source": [
    "\n",
    "Teaching AI to [hang with the crew](http://www.theatlantic.com/technology/archive/2013/01/ibms-watson-memorized-the-entire-urban-dictionary-then-his-overlords-had-to-delete-it/267047/)"
   ]
  },
  {
   "cell_type": "code",
   "execution_count": 3,
   "metadata": {
    "collapsed": false
   },
   "outputs": [
    {
     "data": {
      "text/html": [
       "<iframe width=960 src=\"http://www.theatlantic.com/technology/archive/2013/01/ibms-watson-memorized-the-entire-urban-dictionary-then-his-overlords-had-to-delete-it/267047/\" height=500></iframe>"
      ],
      "text/plain": [
       "<IPython.core.display.HTML object>"
      ]
     },
     "execution_count": 3,
     "metadata": {},
     "output_type": "execute_result"
    }
   ],
   "source": [
    "HTML('<iframe width=960 src=\"http://www.theatlantic.com/technology/archive/2013/01/ibms-watson-memorized-the-entire-urban-dictionary-then-his-overlords-had-to-delete-it/267047/\" height=500></iframe>')"
   ]
  },
  {
   "cell_type": "markdown",
   "metadata": {},
   "source": [
    "Finding a perfect match on [OKCupid](http://www.wired.com/2014/01/how-to-hack-okcupid/all/)"
   ]
  },
  {
   "cell_type": "markdown",
   "metadata": {},
   "source": [
    "[![](assets/ff_lovehacker2_large.jpg)](http://www.wired.com/2014/01/how-to-hack-okcupid/all/)"
   ]
  },
  {
   "cell_type": "code",
   "execution_count": 4,
   "metadata": {
    "collapsed": false
   },
   "outputs": [
    {
     "data": {
      "text/html": [
       "<iframe width=960 height=500 src=\"http://nerds.airbnb.com/aerosolve/\"></iframe>"
      ],
      "text/plain": [
       "<IPython.core.display.HTML object>"
      ]
     },
     "execution_count": 4,
     "metadata": {},
     "output_type": "execute_result"
    }
   ],
   "source": [
    "HTML('<iframe width=960 height=500 src=\"http://nerds.airbnb.com/aerosolve/\"></iframe>')"
   ]
  },
  {
   "cell_type": "markdown",
   "metadata": {},
   "source": [
    "## The Data Science Ecosystem"
   ]
  },
  {
   "cell_type": "markdown",
   "metadata": {},
   "source": [
    "### Humans"
   ]
  },
  {
   "cell_type": "markdown",
   "metadata": {},
   "source": [
    "![](assets/1-GHPmSrpN0d19Z5XlGaxIxA.png)"
   ]
  },
  {
   "cell_type": "markdown",
   "metadata": {},
   "source": [
    "<small>Source : [@Balázs Kégl](https://medium.com/@balazskegl/the-data-science-ecosystem-678459ba6013)</small>"
   ]
  },
  {
   "cell_type": "markdown",
   "metadata": {
    "slideshow": {
     "slide_type": "slide"
    }
   },
   "source": [
    "### Vendors"
   ]
  },
  {
   "cell_type": "markdown",
   "metadata": {},
   "source": [
    "![](assets/Data_Science_Ecosystem.jpg)"
   ]
  },
  {
   "cell_type": "markdown",
   "metadata": {},
   "source": [
    "<small>Source : [CrowdFlower](http://www.crowdflower.com/blog/the-data-science-ecosystem)</small>"
   ]
  },
  {
   "cell_type": "markdown",
   "metadata": {},
   "source": [
    "### Hong Kong Data Science Scene"
   ]
  },
  {
   "cell_type": "markdown",
   "metadata": {},
   "source": [
    "#### Omnistream"
   ]
  },
  {
   "cell_type": "code",
   "execution_count": 5,
   "metadata": {
    "collapsed": false
   },
   "outputs": [
    {
     "data": {
      "text/html": [
       "<iframe width=960 height=500 src=\"http://omnistream.co/\"></iframe>"
      ],
      "text/plain": [
       "<IPython.core.display.HTML object>"
      ]
     },
     "execution_count": 5,
     "metadata": {},
     "output_type": "execute_result"
    }
   ],
   "source": [
    "HTML('<iframe width=960 height=500 src=\"http://omnistream.co/\"></iframe>')"
   ]
  },
  {
   "cell_type": "markdown",
   "metadata": {},
   "source": [
    "#### AmbiLabs"
   ]
  },
  {
   "cell_type": "code",
   "execution_count": 20,
   "metadata": {
    "collapsed": false
   },
   "outputs": [
    {
     "data": {
      "text/html": [
       "<iframe width=960 height=500 src=\"http://www.ambiclimate.com/\"></iframe>"
      ],
      "text/plain": [
       "<IPython.core.display.HTML object>"
      ]
     },
     "execution_count": 20,
     "metadata": {},
     "output_type": "execute_result"
    }
   ],
   "source": [
    "from IPython.display import HTML\n",
    "HTML('<iframe width=960 height=500 src=\"http://www.ambiclimate.com/\"></iframe>')"
   ]
  },
  {
   "cell_type": "markdown",
   "metadata": {},
   "source": [
    "#### Droste"
   ]
  },
  {
   "cell_type": "code",
   "execution_count": 7,
   "metadata": {
    "collapsed": false
   },
   "outputs": [
    {
     "data": {
      "text/html": [
       "<iframe width=960 height=500 src=\"http://www.droste.hk\"></iframe>"
      ],
      "text/plain": [
       "<IPython.core.display.HTML object>"
      ]
     },
     "execution_count": 7,
     "metadata": {},
     "output_type": "execute_result"
    }
   ],
   "source": [
    "HTML('<iframe width=960 height=500 src=\"http://www.droste.hk\"></iframe>')"
   ]
  },
  {
   "cell_type": "markdown",
   "metadata": {},
   "source": [
    "#### General Sensing"
   ]
  },
  {
   "cell_type": "code",
   "execution_count": 8,
   "metadata": {
    "collapsed": false
   },
   "outputs": [
    {
     "data": {
      "text/html": [
       "<iframe width=960 height=500 src=\"http://www.generalsensing.com/medsenseclear\"></iframe>"
      ],
      "text/plain": [
       "<IPython.core.display.HTML object>"
      ]
     },
     "execution_count": 8,
     "metadata": {},
     "output_type": "execute_result"
    }
   ],
   "source": [
    "HTML('<iframe width=960 height=500 src=\"http://www.generalsensing.com/medsenseclear\"></iframe>')"
   ]
  },
  {
   "cell_type": "markdown",
   "metadata": {},
   "source": [
    "And others ...\n",
    "* Eureka.ai\n",
    "* GoGoVan\n",
    "* Alvanon\n",
    "* DemystData\n",
    "* [ActiMirror](http://www.actimirror.com/en/home/)\n"
   ]
  },
  {
   "cell_type": "markdown",
   "metadata": {},
   "source": [
    "### Projects & Applications"
   ]
  },
  {
   "cell_type": "markdown",
   "metadata": {
    "slideshow": {
     "slide_type": "slide"
    }
   },
   "source": [
    "#### Data Journalism"
   ]
  },
  {
   "cell_type": "markdown",
   "metadata": {},
   "source": [
    "![](assets/sotu_dumber.png)"
   ]
  },
  {
   "cell_type": "markdown",
   "metadata": {},
   "source": [
    "![](assets/jihad.png)"
   ]
  },
  {
   "cell_type": "markdown",
   "metadata": {},
   "source": [
    "#### Projects"
   ]
  },
  {
   "cell_type": "code",
   "execution_count": 9,
   "metadata": {
    "collapsed": false
   },
   "outputs": [
    {
     "data": {
      "text/html": [
       "<iframe width=960 height=500 src=\"https://www.jasondavies.com/maps/voronoi/airports/\"></iframe>"
      ],
      "text/plain": [
       "<IPython.core.display.HTML object>"
      ]
     },
     "execution_count": 9,
     "metadata": {},
     "output_type": "execute_result"
    }
   ],
   "source": [
    "HTML('<iframe width=960 height=500 src=\"https://www.jasondavies.com/maps/voronoi/airports/\"></iframe>')"
   ]
  },
  {
   "cell_type": "markdown",
   "metadata": {
    "slideshow": {
     "slide_type": "slide"
    }
   },
   "source": [
    "And others ..."
   ]
  },
  {
   "cell_type": "markdown",
   "metadata": {},
   "source": [
    "* Stack Overflow tag recommendation and response time prediction\n",
    "* Locating ethnic food in ethnic neighborhoods\n",
    "* Building optimal fantasy football teams\n",
    "* Recommending new musical artists\n",
    "* Identifying key areas to get a taxi in NYC\n",
    "* Finding the right job for you"
   ]
  },
  {
   "cell_type": "markdown",
   "metadata": {
    "slideshow": {
     "slide_type": "slide"
    }
   },
   "source": [
    "### What Makes a Good Data Scientist?"
   ]
  },
  {
   "cell_type": "markdown",
   "metadata": {},
   "source": [
    "![](assets/DS_qualities.png)"
   ]
  },
  {
   "cell_type": "markdown",
   "metadata": {
    "slideshow": {
     "slide_type": "slide"
    }
   },
   "source": [
    "1. Statistical thinking\n",
    "2. Technical acumen\n",
    "3. Multi-modal communication skills\n",
    "4. Curiosity\n",
    "5. Creativity\n",
    "6. Grit\n",
    "\n",
    "Source : [DataScope](http://datascopeanalytics.com/what-we-think/2014/07/31/six-qualities-of-a-great-data-scientist)"
   ]
  },
  {
   "cell_type": "markdown",
   "metadata": {
    "slideshow": {
     "slide_type": "slide"
    }
   },
   "source": [
    "### Review"
   ]
  },
  {
   "cell_type": "markdown",
   "metadata": {},
   "source": [
    "1. Which companies do you know that use Data Science in their products?"
   ]
  },
  {
   "cell_type": "markdown",
   "metadata": {},
   "source": [
    "![break](assets/theory.png)"
   ]
  },
  {
   "cell_type": "markdown",
   "metadata": {
    "slideshow": {
     "slide_type": "slide"
    }
   },
   "source": [
    "## The Data Science Workflow"
   ]
  },
  {
   "cell_type": "markdown",
   "metadata": {},
   "source": [
    "![](assets/os_signalcentral_what_is_data_science_gp_2014_v1.2_the_data_science_process.jpg)"
   ]
  },
  {
   "cell_type": "markdown",
   "metadata": {
    "slideshow": {
     "slide_type": "slide"
    }
   },
   "source": [
    "### Ben Fry: Principal, Fathom"
   ]
  },
  {
   "cell_type": "markdown",
   "metadata": {},
   "source": [
    "1. Acquire\n",
    "1. Parse\n",
    "1. Filter\n",
    "1. Mine\n",
    "1. Represent\n",
    "1. Refine\n",
    "1. Interact"
   ]
  },
  {
   "cell_type": "markdown",
   "metadata": {
    "slideshow": {
     "slide_type": "slide"
    }
   },
   "source": [
    "#### Interdisciplinary"
   ]
  },
  {
   "cell_type": "markdown",
   "metadata": {},
   "source": [
    "![](assets/benfry-workflow.jpg)"
   ]
  },
  {
   "cell_type": "markdown",
   "metadata": {
    "slideshow": {
     "slide_type": "slide"
    }
   },
   "source": [
    "#### Recursion"
   ]
  },
  {
   "cell_type": "markdown",
   "metadata": {},
   "source": [
    "![](assets/benfry-workflow-recursion.png)"
   ]
  },
  {
   "cell_type": "markdown",
   "metadata": {},
   "source": [
    "## Our Data Science Workflow"
   ]
  },
  {
   "cell_type": "markdown",
   "metadata": {
    "collapsed": false
   },
   "source": [
    "### Guide By Maps\n",
    "\n",
    "Traversing the Problem Landscape: \n",
    "\n",
    "* **Map** - Determine your purpose, considering the business context, research the appropriate methodologies.\n",
    "* **Plot** - Plan a strategy in alignment with the map of the problem's landscape.\n",
    "* **Track** - Execute the plan and make note of everything noteworthy you find along the way.\n",
    "* **Waypoint** - Review the results of your track and evaluate them in the context of the problem landscape. \n",
    "* **Guide** - Now that you have gained mastery over  the landscape, guide your audience through it on a highlights tour. \n"
   ]
  },
  {
   "cell_type": "markdown",
   "metadata": {
    "slideshow": {
     "slide_type": "slide"
    }
   },
   "source": [
    "### Example"
   ]
  },
  {
   "cell_type": "markdown",
   "metadata": {},
   "source": [
    "Your SME client is a shipping database vendor which wishes to improve its data accuracy by predicting the next _port of call_ for ships departing from Hong Kong. The client has an internal IT team which is technically capable of handling data, but it does not have the analytical skills or the scientific bearing to develop a solution. Management has lot's of buy-in to the development of this project, and while existing solutions exist, they don't fit the use case."
   ]
  },
  {
   "cell_type": "markdown",
   "metadata": {
    "slideshow": {
     "slide_type": "slide"
    }
   },
   "source": [
    "### Review"
   ]
  },
  {
   "cell_type": "markdown",
   "metadata": {},
   "source": [
    "1. What are roughly the steps common to all Data Science Workflows\n",
    "1. Could you see any shortcomings of the presented approaches? Are there any steps you expected to be present?"
   ]
  },
  {
   "cell_type": "markdown",
   "metadata": {},
   "source": [
    "![break](assets/theory.png)"
   ]
  },
  {
   "cell_type": "markdown",
   "metadata": {},
   "source": [
    "### Level of Measurement\n",
    "\n",
    "#### Nominal\n",
    "\n",
    "In this scale, categories are nominated names (hence “nominal”). There is no inherent order between categories. Put simply, one cannot say that a particular category is superior/ better than another. These can be either linguistic or numeric. **Nominal numbers** or categorical numbers are numerals used for identification only. The numerical value is irrelevant, and they do not indicate quantity, rank, or any other measurement.\n",
    "\n",
    "##### Examples\n",
    "\n",
    "Each category can only be considered as equal to the other.\n",
    "\n",
    "* **Gender (Male/ Female)**:- One cannot say that Males are better than Females, or vice-versa.\n",
    "* **Blood Groups (A/B/O/AB)**:- Here, too, the categories cannot be arranged in a logical order.\n",
    "* **Bus Routes** (101,40,37)**: The _order_ typically isn't relevant, as the number is used for identification purposes only.)\n",
    "\n",
    "#### Ordinal\n",
    "\n",
    "The various categories can be logically arranged in a meaningful order. However, the difference between the categories is not “meaningful”. Hence. you cannot do arithmetic with ordinal numbers -- they show sequence only.\n",
    "\n",
    "##### Examples\n",
    "\n",
    "* Ranks (1st/ 2nd/ 3rd, etc.): The ranks can be arranged in either ascending or descending order without difficulty. However, the difference between ranks is not the same - the difference between the 1st rank and 2nd rank may be 20 units, but that between the 2nd and 3rd ranks may be 3 units. In addition, it is not possible to say that the 1st rank is x times better than the 2nd or 3rd rank purely on the basis of the ranks.\n",
    "* Ranks (Good/ Better/ Best), (No pain/ Mild pain/ Moderate pain/ Severe pain): Here, too, a meaningful arrangement (ordering) is possible, but the difference between the categories is subjective and not uniform. “Best” is not necessarily thrice as good as “Good”; or twice as good as “Better”.\n",
    "* Likert scale (Strongly Disagree/ Disagree/ Neutral/ Agree/ Strongly Agree) : The ordering is flexible - the order can easily be reversed without affecting the interpretation - (Strongly Agree/ Agree/ Neutral/ Disagree/ Strongly Disagree). Again, the difference between categories is not uniform.\n",
    "\n",
    "#### Interval\n",
    "\n",
    "Interval data is measured along a scale in which each position is equidistant from one another. This allows for the distance between two pairs to be equivalent in some way. The values (not categories) can be ordered and have a meaningful difference, but doubling is not meaningful. This is because of the absence of an “absolute zero”.\n",
    "\n",
    "##### Examples\n",
    "\n",
    "* **The Celsius scale**: The difference between 40 C and 50 C is the same as that between 20 C and 30 C (meaningful difference = equidistant). Besides, 50 C is hotter than 40 C (order). However, 20 C is not half as hot as 40 C and vice versa (doubling is not meaningful).\n",
    "* **My level of happiness, rated from 1 to 10**: If I rate my happiness as 8, it doesn't mean I am twice as happy as whenever I rate my happiness as 4.\n",
    "\n",
    "#### Ratio\n",
    "\n",
    "The values can be ordered, have a meaningful difference, and doubling is also meaningful. There is an “absolute zero”. Ratio data can be multiplied and divided because not only is the difference between 1 and 2 the same as between 3 and 4, but also that 4 is twice as much as 2. Interval and ratio data measure quantities and hence are quantitative.  Because they can be measured on a scale, they are also called scale data.\n",
    "\n",
    "##### Examples\n",
    "\n",
    "* **The Kelvin scale**: 100 K is twice as hot as 50 K; the difference between values is meaningful and can be ordered.\n",
    "* **Weight**: 100 kg is twice as heavy as 50 kg; the difference between 45 kg and 55 kg is the same as that between 105 kg and 100 kg; values can be arranged in an order (ascending/ descending).\n",
    "* **Height**: 100 cm is taller than 50 cm; this difference is the same as that between 150 cm and 100 cm, or 200 cm and 150 cm; 100 cm is twice as tall as 50 cm; the values can be arranged in a particular manner (ascending/ descending).\n",
    "\n",
    "\n",
    "| Provides                  | Nominal | Ordinal | Interval | Ratio |\n",
    "|---------------------------|---------|---------|----------|-------|\n",
    "| Frequency of Distribution | ✓       | ✓       | ✓        | ✓     |\n",
    "| Mode, Mean, Percentiles   |         | ✓       | ✓        | ✓     |\n",
    "| Order                     |         | ✓       | ✓        | ✓     |\n",
    "| Quantify the difference   |         |         | ✓        | ✓     |\n",
    "| Add/Subtract Values       |         |         | ✓        | ✓     |\n",
    "| Multiply/Divide Values    |         |         |          | ✓     |\n",
    "| True Zero                 |         |         |          | ✓     |\n",
    "\n",
    "### Continuous vs Discrete\n",
    "\n",
    "![](assets/continuous.svg)\n",
    "\n",
    "Continuous measures are measured along a continuous scale which can be divided into fractions, such as temperature. Continuous variables allow for infinitely fine sub-division, which means if you can measure sufficiently accurately, you can compare two items and determine the difference.\n",
    "\n",
    "Discrete variables are measured across a set of fixed values, such as age in years (not microseconds). These are commonly used on arbitrary scales, such as scoring your level of happiness, although such scales can also be continuous.\n",
    "\n",
    "### Parametric vs. Non-parametric\n",
    "\n",
    "Interval and ratio data are parametric, and are used with parametric tools in which distributions are predictable (and often Normal).\n",
    "\n",
    "Nominal and ordinal data are non-parametric, and do not assume any particular distribution. They are used with non-parametric tools such as the Histogram.\n"
   ]
  },
  {
   "cell_type": "markdown",
   "metadata": {},
   "source": [
    "![break](assets/code.png)"
   ]
  },
  {
   "cell_type": "markdown",
   "metadata": {
    "slideshow": {
     "slide_type": "slide"
    }
   },
   "source": [
    "## Python Setup"
   ]
  },
  {
   "cell_type": "markdown",
   "metadata": {},
   "source": [
    "High variety of languages used in practice\n",
    "\n",
    "* **Statistics**: _Python_, R, Matlab, Julia, Fortran, STATA\n",
    "* **Scripting**: _Python_, Ruby, Scala, Java\n",
    "* **Data Querying**: SQL, Hive, Pig"
   ]
  },
  {
   "cell_type": "markdown",
   "metadata": {
    "slideshow": {
     "slide_type": "slide"
    }
   },
   "source": [
    "Python is an open source project which is maintained by a large and very active community.\n",
    "\n",
    "It was originally created by Guido Van Rossum in the 1990s, who currently holds the title of Benevolent Dictator For Life (BDFL).\n",
    "\n",
    "The presence of a BDFL means that Python has a unified design philosophy.\n",
    "\n",
    "This design philosophy emphasizes readability and ease of use, and is codified in PEP8 (the Python style guide) and PEP20 (the Zen of Python).\n",
    "\n",
    "Python in nature is not a statistical language, though used in a variety of ways: web applications, server maintenance, reading and writing text files:\n",
    "* [Web Development](https://www.djangoproject.com/)\n",
    "* [DevOps](http://docs.fabfile.org/en/1.6/)\n",
    "* [(etc)](https://github.com/vinta/awesome-python)\n",
    "\n",
    "Python evolved alongside Bioinformatics and Data Analysis, introducing stats packages (numpy, scipy) and machine learning packages (scikit-learn, NLTK)\n",
    "\n"
   ]
  },
  {
   "cell_type": "markdown",
   "metadata": {
    "slideshow": {
     "slide_type": "slide"
    }
   },
   "source": [
    "### Strengths and Weaknesses"
   ]
  },
  {
   "cell_type": "markdown",
   "metadata": {},
   "source": [
    "#### ADVANTAGES\n",
    "\n",
    "* Very Fast Compared To R \n",
    "* Useful Across Platforms \n",
    "* Easy To Integrate\n",
    "* Common Oop Techniques\n",
    "* Great Documentation Support\n",
    "\n",
    "#### DISADVANTAGES\n",
    "\n",
    "* Natural Display Is Less Readable\n",
    "* Lack Of Parallel Processing\n"
   ]
  },
  {
   "cell_type": "markdown",
   "metadata": {},
   "source": [
    "![break](assets/code.png)"
   ]
  },
  {
   "cell_type": "markdown",
   "metadata": {
    "slideshow": {
     "slide_type": "slide"
    }
   },
   "source": [
    "## Python Data Sctructures"
   ]
  },
  {
   "cell_type": "markdown",
   "metadata": {},
   "source": [
    "The most basic data structure is the None type. This is the equivalent of NULL in other languages.\n",
    "\n",
    "There are four numeric types: \n",
    "> **int**, **float**, **bool**, **complex**."
   ]
  },
  {
   "cell_type": "code",
   "execution_count": 10,
   "metadata": {
    "collapsed": false
   },
   "outputs": [
    {
     "data": {
      "text/plain": [
       "'44'"
      ]
     },
     "execution_count": 10,
     "metadata": {},
     "output_type": "execute_result"
    }
   ],
   "source": [
    "'4' + '4'"
   ]
  },
  {
   "cell_type": "code",
   "execution_count": 11,
   "metadata": {
    "collapsed": false
   },
   "outputs": [
    {
     "data": {
      "text/plain": [
       "2.1623917"
      ]
     },
     "execution_count": 11,
     "metadata": {},
     "output_type": "execute_result"
    }
   ],
   "source": [
    "4.3247834 / 2"
   ]
  },
  {
   "cell_type": "code",
   "execution_count": 12,
   "metadata": {
    "collapsed": false
   },
   "outputs": [
    {
     "data": {
      "text/plain": [
       "3"
      ]
     },
     "execution_count": 12,
     "metadata": {},
     "output_type": "execute_result"
    }
   ],
   "source": [
    "True + True + True"
   ]
  },
  {
   "cell_type": "code",
   "execution_count": 13,
   "metadata": {
    "collapsed": true
   },
   "outputs": [],
   "source": [
    "welcome = \"Hello World\""
   ]
  },
  {
   "cell_type": "code",
   "execution_count": 14,
   "metadata": {
    "collapsed": false
   },
   "outputs": [
    {
     "data": {
      "text/plain": [
       "'Hello World'"
      ]
     },
     "execution_count": 14,
     "metadata": {},
     "output_type": "execute_result"
    }
   ],
   "source": [
    "welcome"
   ]
  },
  {
   "cell_type": "code",
   "execution_count": 15,
   "metadata": {
    "collapsed": true
   },
   "outputs": [],
   "source": [
    "no_students = 12"
   ]
  },
  {
   "cell_type": "code",
   "execution_count": 16,
   "metadata": {
    "collapsed": false
   },
   "outputs": [
    {
     "data": {
      "text/plain": [
       "'Hello Hong Kong'"
      ]
     },
     "execution_count": 16,
     "metadata": {},
     "output_type": "execute_result"
    }
   ],
   "source": [
    "welcome.replace('World', 'Hong Kong')"
   ]
  },
  {
   "cell_type": "markdown",
   "metadata": {
    "slideshow": {
     "slide_type": "slide"
    }
   },
   "source": [
    "#### Numeric Types"
   ]
  },
  {
   "cell_type": "code",
   "execution_count": 17,
   "metadata": {
    "collapsed": false
   },
   "outputs": [
    {
     "name": "stdout",
     "output_type": "stream",
     "text": [
      "<type 'int'>\n",
      "<type 'float'>\n",
      "<type 'bool'>\n",
      "<type 'complex'>\n"
     ]
    }
   ],
   "source": [
    "print type(1)\n",
    "print type(2.5)\n",
    "print type(True)\n",
    "print type(2+3j)"
   ]
  },
  {
   "cell_type": "code",
   "execution_count": 18,
   "metadata": {
    "collapsed": false
   },
   "outputs": [
    {
     "data": {
      "text/plain": [
       "21"
      ]
     },
     "execution_count": 18,
     "metadata": {},
     "output_type": "execute_result"
    }
   ],
   "source": [
    "7 * 3"
   ]
  },
  {
   "cell_type": "code",
   "execution_count": 19,
   "metadata": {
    "collapsed": false
   },
   "outputs": [
    {
     "ename": "TypeError",
     "evalue": "unsupported operand type(s) for /: 'int' and 'str'",
     "output_type": "error",
     "traceback": [
      "\u001b[1;31m-------------------------------------------------------------------------\u001b[0m",
      "\u001b[1;31mTypeError\u001b[0m                               Traceback (most recent call last)",
      "\u001b[1;32m<ipython-input-19-9beaa8fa27bc>\u001b[0m in \u001b[0;36m<module>\u001b[1;34m()\u001b[0m\n\u001b[1;32m----> 1\u001b[1;33m \u001b[1;36m7\u001b[0m \u001b[1;33m/\u001b[0m \u001b[1;34m'hello '\u001b[0m\u001b[1;33m\u001b[0m\u001b[0m\n\u001b[0m",
      "\u001b[1;31mTypeError\u001b[0m: unsupported operand type(s) for /: 'int' and 'str'"
     ]
    }
   ],
   "source": [
    "7 / 'hello '"
   ]
  },
  {
   "cell_type": "markdown",
   "metadata": {},
   "source": [
    "# REPL"
   ]
  },
  {
   "cell_type": "markdown",
   "metadata": {},
   "source": [
    "* Read \n",
    "* Evaluate\n",
    "* PRINT\n",
    "* Loop"
   ]
  },
  {
   "cell_type": "code",
   "execution_count": null,
   "metadata": {
    "collapsed": false
   },
   "outputs": [],
   "source": [
    "print 1\n",
    "print 2"
   ]
  },
  {
   "cell_type": "code",
   "execution_count": null,
   "metadata": {
    "collapsed": false
   },
   "outputs": [],
   "source": [
    "4 * 4\n"
   ]
  },
  {
   "cell_type": "code",
   "execution_count": null,
   "metadata": {
    "collapsed": false
   },
   "outputs": [],
   "source": [
    "def demo(params=4):\n",
    "    return 4 * params"
   ]
  },
  {
   "cell_type": "code",
   "execution_count": null,
   "metadata": {
    "collapsed": false
   },
   "outputs": [],
   "source": [
    "demo(demo(demo(1))) * 10"
   ]
  },
  {
   "cell_type": "markdown",
   "metadata": {
    "slideshow": {
     "slide_type": "slide"
    }
   },
   "source": [
    "#### Lists"
   ]
  },
  {
   "cell_type": "markdown",
   "metadata": {},
   "source": [
    "The next basic data type is the Python list.\n",
    "\n",
    "> A list is an ordered collection of elements, and these elements can be of arbitrary type. Lists are mutable, meaning they can be changed in-place."
   ]
  },
  {
   "cell_type": "code",
   "execution_count": null,
   "metadata": {
    "collapsed": false
   },
   "outputs": [],
   "source": [
    "[1,\n",
    "2,\n",
    "3,\n",
    "4\n",
    "]"
   ]
  },
  {
   "cell_type": "code",
   "execution_count": null,
   "metadata": {
    "collapsed": false
   },
   "outputs": [],
   "source": [
    "k = [1, 'b', True]\n",
    "print k[2]\n",
    "\n",
    "k[1] = 'a'\n",
    "print k"
   ]
  },
  {
   "cell_type": "code",
   "execution_count": null,
   "metadata": {
    "collapsed": false
   },
   "outputs": [],
   "source": [
    "for item in k:\n",
    "    print item < 10"
   ]
  },
  {
   "cell_type": "code",
   "execution_count": null,
   "metadata": {
    "collapsed": false
   },
   "outputs": [],
   "source": [
    "l = [1,2,3,4,5,6]\n",
    "\n",
    "for item in l:\n",
    "    print item > 3"
   ]
  },
  {
   "cell_type": "markdown",
   "metadata": {
    "slideshow": {
     "slide_type": "slide"
    }
   },
   "source": [
    "#### Tuples"
   ]
  },
  {
   "cell_type": "markdown",
   "metadata": {},
   "source": [
    "> tuples are immutable arrays of arbitrary elements."
   ]
  },
  {
   "cell_type": "code",
   "execution_count": null,
   "metadata": {
    "collapsed": false
   },
   "outputs": [],
   "source": [
    "x = (1, 'a', 2.5)\n",
    "print x\n",
    "\n",
    "print x[0]\n",
    "try:\n",
    "    x[1] = 'b'\n",
    "except TypeError, e:\n",
    "    print 'ERROR', e\n",
    "    "
   ]
  },
  {
   "cell_type": "code",
   "execution_count": null,
   "metadata": {
    "collapsed": false
   },
   "outputs": [],
   "source": [
    "l"
   ]
  },
  {
   "cell_type": "code",
   "execution_count": null,
   "metadata": {
    "collapsed": false
   },
   "outputs": [],
   "source": [
    "l[:4][2:][0]"
   ]
  },
  {
   "cell_type": "code",
   "execution_count": null,
   "metadata": {
    "collapsed": true
   },
   "outputs": [],
   "source": [
    "l[5] = 7"
   ]
  },
  {
   "cell_type": "code",
   "execution_count": null,
   "metadata": {
    "collapsed": false
   },
   "outputs": [],
   "source": [
    "l"
   ]
  },
  {
   "cell_type": "code",
   "execution_count": null,
   "metadata": {
    "collapsed": true
   },
   "outputs": [],
   "source": [
    "l.append(8)"
   ]
  },
  {
   "cell_type": "code",
   "execution_count": null,
   "metadata": {
    "collapsed": false
   },
   "outputs": [],
   "source": [
    "l"
   ]
  },
  {
   "cell_type": "code",
   "execution_count": null,
   "metadata": {
    "collapsed": false
   },
   "outputs": [],
   "source": [
    "l = l + [9]"
   ]
  },
  {
   "cell_type": "code",
   "execution_count": null,
   "metadata": {
    "collapsed": false
   },
   "outputs": [],
   "source": [
    "l"
   ]
  },
  {
   "cell_type": "code",
   "execution_count": null,
   "metadata": {
    "collapsed": true
   },
   "outputs": [],
   "source": [
    "l = l + [9]"
   ]
  },
  {
   "cell_type": "code",
   "execution_count": null,
   "metadata": {
    "collapsed": true
   },
   "outputs": [],
   "source": [
    "t = (1,2,4,4,5,6)"
   ]
  },
  {
   "cell_type": "code",
   "execution_count": null,
   "metadata": {
    "collapsed": false
   },
   "outputs": [],
   "source": [
    "t[-1]"
   ]
  },
  {
   "cell_type": "code",
   "execution_count": null,
   "metadata": {
    "collapsed": false
   },
   "outputs": [],
   "source": [
    "t[-1] = 9"
   ]
  },
  {
   "cell_type": "code",
   "execution_count": null,
   "metadata": {
    "collapsed": false
   },
   "outputs": [],
   "source": [
    "print t(-1) "
   ]
  },
  {
   "cell_type": "code",
   "execution_count": null,
   "metadata": {
    "collapsed": false
   },
   "outputs": [],
   "source": [
    "del t[1]"
   ]
  },
  {
   "cell_type": "code",
   "execution_count": null,
   "metadata": {
    "collapsed": true
   },
   "outputs": [],
   "source": [
    "del l[1] "
   ]
  },
  {
   "cell_type": "code",
   "execution_count": null,
   "metadata": {
    "collapsed": false
   },
   "outputs": [],
   "source": [
    "l"
   ]
  },
  {
   "cell_type": "markdown",
   "metadata": {},
   "source": [
    "Tuples are frequently used behind the scenes in a special type of variable assignment called tuple packing/unpacking."
   ]
  },
  {
   "cell_type": "markdown",
   "metadata": {
    "slideshow": {
     "slide_type": "slide"
    }
   },
   "source": [
    "#### Strings"
   ]
  },
  {
   "cell_type": "markdown",
   "metadata": {
    "slideshow": {
     "slide_type": "-"
    }
   },
   "source": [
    "The string type in Python represents an immutable ordered array of characters (note there is no char type).\n",
    "\n",
    "> Strings support slicing and indexing operations like arrays, and have many other string-specific functions as well. \n",
    "\n",
    "String processing is one area where Python excels.\n"
   ]
  },
  {
   "cell_type": "code",
   "execution_count": null,
   "metadata": {
    "collapsed": false
   },
   "outputs": [],
   "source": [
    "name = \"Mart van de Ven\"\n",
    "name"
   ]
  },
  {
   "cell_type": "code",
   "execution_count": null,
   "metadata": {
    "collapsed": true
   },
   "outputs": [],
   "source": [
    "text = \"when you are 5 \\'dealing with text\".split(' ')"
   ]
  },
  {
   "cell_type": "code",
   "execution_count": null,
   "metadata": {
    "collapsed": false
   },
   "outputs": [],
   "source": [
    "text"
   ]
  },
  {
   "cell_type": "code",
   "execution_count": null,
   "metadata": {
    "collapsed": false
   },
   "outputs": [],
   "source": [
    "[word.upper() for word in \"when you are 5 \\'dealing with text\".split(' ')]"
   ]
  },
  {
   "cell_type": "code",
   "execution_count": null,
   "metadata": {
    "collapsed": false
   },
   "outputs": [],
   "source": [
    "text"
   ]
  },
  {
   "cell_type": "code",
   "execution_count": null,
   "metadata": {
    "collapsed": false
   },
   "outputs": [],
   "source": [
    "import numpy as np\n",
    "\n",
    "word_lenth = []\n",
    "\n",
    "for word in text:\n",
    "    word_lenth.append(len(word))\n",
    "\n",
    "np.array(word_lenth).mean()"
   ]
  },
  {
   "cell_type": "code",
   "execution_count": null,
   "metadata": {
    "collapsed": false
   },
   "outputs": [],
   "source": [
    "sum([len(word) for word in text]) / float(len(text))\n",
    "\n"
   ]
  },
  {
   "cell_type": "code",
   "execution_count": null,
   "metadata": {
    "collapsed": false
   },
   "outputs": [],
   "source": [
    "[item for item in l]"
   ]
  },
  {
   "cell_type": "code",
   "execution_count": null,
   "metadata": {
    "collapsed": false
   },
   "outputs": [],
   "source": [
    "str(4+5)"
   ]
  },
  {
   "cell_type": "code",
   "execution_count": null,
   "metadata": {
    "collapsed": false
   },
   "outputs": [],
   "source": [
    "t = (9,7,6,5,5)"
   ]
  },
  {
   "cell_type": "code",
   "execution_count": null,
   "metadata": {
    "collapsed": false
   },
   "outputs": [],
   "source": [
    "t"
   ]
  },
  {
   "cell_type": "markdown",
   "metadata": {
    "slideshow": {
     "slide_type": "slide"
    }
   },
   "source": [
    "#### Dictionaries"
   ]
  },
  {
   "cell_type": "markdown",
   "metadata": {},
   "source": [
    "Associative arrays (or hash tables) are implemented in Python as the dictionary type."
   ]
  },
  {
   "cell_type": "code",
   "execution_count": null,
   "metadata": {
    "collapsed": false
   },
   "outputs": [],
   "source": [
    "ds_hk_8 = {\n",
    "    'subject':'data science',\n",
    "    'instrutor': 'Mart',\n",
    "    'ta': 'Dickson',\n",
    "    'time': 1000,\n",
    "    'is_amazing' : True}\n",
    "\n",
    "print 'We are taking ' + ds_hk_8['subject']\n",
    "print ds_hk_8['is_amazing']"
   ]
  },
  {
   "cell_type": "markdown",
   "metadata": {},
   "source": [
    "> Dictionaries are unordered collections of key-value pairs, and dictionary keys must be immutable.\n"
   ]
  },
  {
   "cell_type": "markdown",
   "metadata": {
    "slideshow": {
     "slide_type": "slide"
    }
   },
   "source": [
    "#### Sets"
   ]
  },
  {
   "cell_type": "markdown",
   "metadata": {},
   "source": [
    "Another basic Python data type is the set. Sets are unordered mutable collections of distinct elements."
   ]
  },
  {
   "cell_type": "code",
   "execution_count": null,
   "metadata": {
    "collapsed": false
   },
   "outputs": [],
   "source": [
    "y = set([1,2,3,3,3,2,1,6,7,8])\n",
    "y"
   ]
  },
  {
   "cell_type": "code",
   "execution_count": null,
   "metadata": {
    "collapsed": false
   },
   "outputs": [],
   "source": [
    "y.union({6,7,10,14,17})"
   ]
  },
  {
   "cell_type": "code",
   "execution_count": null,
   "metadata": {
    "collapsed": false
   },
   "outputs": [],
   "source": [
    "tuple(y)[0]"
   ]
  },
  {
   "cell_type": "markdown",
   "metadata": {},
   "source": [
    "These are particularly useful for checking membership of an element and for ensuring element uniqueness."
   ]
  },
  {
   "cell_type": "markdown",
   "metadata": {},
   "source": [
    "![break](assets/code.png)"
   ]
  },
  {
   "cell_type": "markdown",
   "metadata": {
    "slideshow": {
     "slide_type": "slide"
    }
   },
   "source": [
    "## LAB: UNIX AND PYTHON"
   ]
  },
  {
   "cell_type": "markdown",
   "metadata": {},
   "source": [
    "* Learn how to get around the terminal\n",
    "* Using curl to grab files online\n",
    "* python basics (int, float, str, list, tuple)\n",
    "* Piping data into python"
   ]
  },
  {
   "cell_type": "markdown",
   "metadata": {},
   "source": [
    "### Practice: Unix"
   ]
  },
  {
   "cell_type": "markdown",
   "metadata": {},
   "source": [
    "The are following commands to use in your [terminal](http://blog.teamtreehouse.com/introduction-to-the-mac-os-x-command-line). But instead of using your terminal _directly_, we will be accessing the terminal straight from our Jupyter Notebook!"
   ]
  },
  {
   "cell_type": "markdown",
   "metadata": {},
   "source": [
    "![](assets/terminalnew.png)"
   ]
  },
  {
   "cell_type": "markdown",
   "metadata": {},
   "source": [
    "Select, 'New --> Terminal'"
   ]
  },
  {
   "cell_type": "markdown",
   "metadata": {},
   "source": [
    "![](assets/terminalscreen.png)"
   ]
  },
  {
   "cell_type": "markdown",
   "metadata": {},
   "source": [
    "For example, use `pwd` to find where we are in the Filesystem."
   ]
  },
  {
   "cell_type": "code",
   "execution_count": null,
   "metadata": {
    "collapsed": false
   },
   "outputs": [],
   "source": [
    "!pwd"
   ]
  },
  {
   "cell_type": "markdown",
   "metadata": {},
   "source": [
    "* `ls`, list all the files and folders in our current location. `ls` accepts a lot of arguments to view extended information about the files, like permissions, file size, etc.\n",
    "    * `ls -l`, long format, displaying Unix file types, permissions, number of hard links, owner, group, size, last-modified date and filename\n",
    "    * `ls -a`, lists all files in the given directory, including those whose names start with \".\" (which are hidden files in Unix).\n",
    "    * `ls -R`, recursively lists subdirectories.\n",
    "    * `ls -t`, sort the list of files by modification time.\n",
    "* `sudo`, prepend before a command to give it superuser permissions.\n",
    "* `cat`, puts a file through standard in/out. Generally not as useful as...\n",
    "* `less`, a simple file viewer in bash. It doesn't work interactively in IPython, but you could use it as\n",
    "\t* the arrows to move around\n",
    "\t* `/` to run a regex match\n",
    "\t* `q` to go back to the command line\n",
    "* `cd`, change directory\n",
    "    * `cd ..`, to move up to the parent directory\n",
    "* `mkdir`, make a new directory\n",
    "* `mv`, move a file, also used for renaming\n",
    "* `rm`, remove a file\n",
    "    * `rm -r`, recursively remove a directory"
   ]
  },
  {
   "cell_type": "markdown",
   "metadata": {},
   "source": [
    "#### Try it out"
   ]
  },
  {
   "cell_type": "markdown",
   "metadata": {},
   "source": [
    "```bash\n",
    "cd # return to user directory\n",
    "\n",
    "touch file.txt\n",
    "ls # Lists our file!\n",
    "\n",
    "mv file.txt file_new.txt\n",
    "ls # Our file changed names!\n",
    "\n",
    "cp file_new.txt file_copied.txt\n",
    "ls # File was copied!\n",
    "\n",
    "echo 'Files can be written this way as well' > text_file.txt\n",
    "less text_file.txt\n",
    "```"
   ]
  },
  {
   "cell_type": "markdown",
   "metadata": {},
   "source": [
    "and using `curl` to download files. "
   ]
  },
  {
   "cell_type": "markdown",
   "metadata": {},
   "source": [
    "```bash\n",
    "# Downloading a file using curl\n",
    "curl http://stat.columbia.edu/~rachel/datasets/nyt1.csv > nytimes.csv\n",
    "\n",
    "# With longer files, we can use head or tail to read the first few or last few lines.\n",
    "head nytimes.csv\n",
    "tail nytimes.csv\n",
    "```"
   ]
  },
  {
   "cell_type": "markdown",
   "metadata": {},
   "source": [
    "### Practice: Python"
   ]
  },
  {
   "cell_type": "markdown",
   "metadata": {},
   "source": [
    "You can launch IPython direcly in your terminal by typing \n",
    "\n",
    "> ipython\n",
    "\n",
    "But we can also continue to execute code in our notebooks!"
   ]
  },
  {
   "cell_type": "code",
   "execution_count": null,
   "metadata": {
    "collapsed": false
   },
   "outputs": [],
   "source": [
    "1 # Integers\n",
    "print 2\n",
    "\n",
    "1.0 # Floats\n",
    "print 2.0\n",
    "\n",
    "0 # Ints, but can also mean True or False\n",
    "1\n",
    "\n",
    "print 0 == True\n",
    "print 1 == True\n",
    "\n",
    "print 'string' # strings\n",
    "print 'A whole sentence'\n",
    "\n",
    "print [1, 2, 3] # list, mutable (can change)\n",
    "\n",
    "print (1, 2, 3) # tuple, immutable (can't be edited)"
   ]
  },
  {
   "cell_type": "code",
   "execution_count": null,
   "metadata": {
    "collapsed": false,
    "scrolled": true
   },
   "outputs": [],
   "source": [
    "!pip freeze"
   ]
  },
  {
   "cell_type": "markdown",
   "metadata": {},
   "source": [
    "We're going to write our first class Python script that sums up a whole column of text from a comma seperated file.\n",
    "\n",
    "Open up a [blank canvas](/edit/untitled.txt) for a python script. \n",
    "\n",
    "# http://localhost:8888/edit/untitled.txt\n",
    "\n",
    "Copy the following into the cavas and save it as `nytimes.py`"
   ]
  },
  {
   "cell_type": "markdown",
   "metadata": {},
   "source": [
    "```python\n",
    "#!/usr/bin/python\n",
    "# Import required libraries\n",
    "import sys\n",
    "\n",
    "# Start a counter and store the textfile in memory\n",
    "count = 0\n",
    "lines = sys.stdin.readlines()\n",
    "lines.pop(0)\n",
    "\n",
    "# For each line, find the sum of index 2 in the list.\n",
    "for line in lines:\n",
    "  count = count + int(line.strip().split(',')[2])\n",
    "\n",
    "print count\n",
    "\n",
    "### EOF ###\n",
    "```"
   ]
  },
  {
   "cell_type": "markdown",
   "metadata": {},
   "source": [
    "Let's make this file executable, and run it!"
   ]
  },
  {
   "cell_type": "markdown",
   "metadata": {},
   "source": [
    "```bash\n",
    "cat nytimes.csv | python nytimes.py\n",
    "```"
   ]
  },
  {
   "cell_type": "markdown",
   "metadata": {},
   "source": [
    "We can print a more robust line in bash, so let's change the last line to this instead:"
   ]
  },
  {
   "cell_type": "code",
   "execution_count": null,
   "metadata": {
    "collapsed": false
   },
   "outputs": [],
   "source": [
    "print 'Impressions Sum:', count"
   ]
  },
  {
   "cell_type": "markdown",
   "metadata": {},
   "source": [
    "1. Right now the python script finds a sum of the impressions column. Update it to also return:\n",
    "\t1. The average age in the file\n",
    "\t1. Click through rate (avg clicks per impression)\n",
    "\t1. The oldest person in the file\n",
    "1. This should all be write out to the standard out using a few lines with \"print\"\n",
    "\n",
    "**EXTRA CREDIT**: \n",
    "\n",
    "How can you change the Python script a bit to:\n",
    "\n",
    "* Check out the distirbution of ages in the dataset. What do you notice?\n",
    "* Ignore the users whom are ... too young to be browsing the NYT ;)\n",
    "* Output the results into a new text file? Read a guide on [file manipulation](http://www.pythonforbeginners.com/systems-programming/reading-and-writing-files-in-python/) to get you started.\n"
   ]
  },
  {
   "cell_type": "markdown",
   "metadata": {},
   "source": [
    "![break](assets/agenda.png)"
   ]
  },
  {
   "cell_type": "markdown",
   "metadata": {},
   "source": [
    "## Immersion\n",
    "\n",
    "The best way to learn something is by immersing yourself in it. The following is a curated list of resources and references I follow to keep on top of all things Data Science.\n",
    "\n",
    "### Lists of Resources\n",
    "\n",
    "* The [Data Science FAQ and Resource List](http://www.quora.com/data-science) - a gigantic list of answers to popular questions, like \"What does a data scientist do?\"\n",
    "\n",
    "### Data Science News\n",
    "\n",
    "* The [Data Science Weekly Newsletter](www.datascienceweekly.org) - a great weekly letter for data scientists on news, tools and book suggestions\n",
    "* [DataTau](datatau.com) - like Hacker News, except for data science\n",
    "\n",
    "### Podcasts\n",
    "\n",
    "* [Data Skeptic](http://www.dataskeptic.com/) - Conversations at the intersection of data science, skepticism, and empirical validation.\n",
    "* [Partially Derivative](http://www.partiallyderivative.com/) is a fun and light hearted exploration of the latest news in data science. It's sort of like diggnation for data science. Great show and discussions.\n",
    "* [Data Stories](http://datastori.es/) - A podcast on data visualization with Enrico Bertini and Moritz Stefaner\n",
    "\n",
    "\n",
    "### Blogs & Writings\n",
    "\n",
    "* [Dato's Blog](http://blog.dato.com/) - a data science startup \n",
    "* [yhat](http://blog.yhathq.com/) - machine learning in Python\n",
    "* [William Chen](http://datastories.quora.com) - Statistics, Industry Data Science, Probability\n",
    "* [Chris Olah](http://www.colah.github.io) - Deep Learning, Neural Networks\n",
    "* [Max Song’s Blog](https://medium.com/@pericarus/) - Perseverance and Grit in Data Science\n",
    "* [Carl Shan’s Blog](http://www.carlshan.com) - Data Science for Social Good\n",
    "\n",
    "### Data Visualisation\n",
    "\n",
    "* [Flowing Data](http://flowingdata.com ) - blog with analyses on some visualisations, if you become member you can access some of the guy's codes.\n",
    "* [Dadaviz](http://www.dadaviz.com ) - Dubbed as the pinterest for visualisation\n",
    "* [Infosthetics](http://infosthetics.com) - Blog with analyses on some visualisations"
   ]
  },
  {
   "cell_type": "markdown",
   "metadata": {},
   "source": [
    "## Extra Reading"
   ]
  },
  {
   "cell_type": "markdown",
   "metadata": {},
   "source": [
    "* [What is Data Science](https://beta.oreilly.com/ideas/what-is-data-science): The future belongs to the companies and people that turn data into products.\n",
    "* [What is Data Science?](http://blog.operasolutions.com/bid/384900/What-Is-Data-Science)\n",
    "An important evolution of a tried and proven lineage of complementary technologies.\n",
    "* [Data Science in the Real World](http://www.mastersindatascience.org/industry/) So, what does data science look like in some of the big industries that rely on it?\n",
    "* [The Process of Creating Data Visualizations](http://blog.visual.ly/the-process-of-creating-data-visualizations/) - this is a very explorative and iterative non-linear process, where each step can be revisited many times."
   ]
  },
  {
   "cell_type": "markdown",
   "metadata": {},
   "source": [
    "## Colofon"
   ]
  },
  {
   "cell_type": "code",
   "execution_count": null,
   "metadata": {
    "collapsed": false
   },
   "outputs": [],
   "source": [
    "from utils import *\n",
    "print_versions()"
   ]
  },
  {
   "cell_type": "code",
   "execution_count": null,
   "metadata": {
    "collapsed": false
   },
   "outputs": [],
   "source": [
    "%%html\n",
    "\n",
    "<link rel=\"stylesheet\" href=\"theme/custom.css\">"
   ]
  }
 ],
 "metadata": {
  "kernelspec": {
   "display_name": "Python 2",
   "language": "python",
   "name": "python2"
  },
  "language_info": {
   "codemirror_mode": {
    "name": "ipython",
    "version": 2
   },
   "file_extension": ".py",
   "mimetype": "text/x-python",
   "name": "python",
   "nbconvert_exporter": "python",
   "pygments_lexer": "ipython2",
   "version": "2.7.11"
  }
 },
 "nbformat": 4,
 "nbformat_minor": 0
}

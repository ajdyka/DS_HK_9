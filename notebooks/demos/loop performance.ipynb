{
 "cells": [
  {
   "cell_type": "code",
   "execution_count": 1,
   "metadata": {
    "collapsed": true
   },
   "outputs": [],
   "source": [
    "import operator\n",
    "import itertools\n",
    "\n",
    "v = [5, 6, 7, 8]\n",
    "m1 = [[1, 2, 3, 4], [5, 6, 7, 8], [9, 10, 11, 12]]\n",
    "m2 = [[1, 2], [3, 4], [5, 6], [7, 8]]"
   ]
  },
  {
   "cell_type": "code",
   "execution_count": 2,
   "metadata": {
    "collapsed": true
   },
   "outputs": [],
   "source": [
    "def matrix_mult1(a, b):\n",
    "    \"\"\"\n",
    "    basic function to multiply two matrices\n",
    "    @param list a     matrix of i*k items\n",
    "    @param list b     matrix of k*j items\n",
    "    \"\"\"\n",
    "    rows_a, cols_a = len(a), len(a[0])\n",
    "    rows_b, cols_b = len(b), len(b[0])\n",
    "\n",
    "    assert cols_a == rows_b\n",
    "\n",
    "    # create the result matrix\n",
    "    # Dimensions would be rows_a x cols_b\n",
    "    c = [[0 for row in range(cols_b)] for col in range(rows_a)]\n",
    "\n",
    "    for i in range(rows_a):\n",
    "        for j in range(cols_b):\n",
    "            for k in range(cols_a):\n",
    "                c[i][j] += a[i][k]*b[k][j]\n",
    "    return c"
   ]
  },
  {
   "cell_type": "code",
   "execution_count": 3,
   "metadata": {
    "collapsed": true
   },
   "outputs": [],
   "source": [
    "def matrix_mult2(a,b):\n",
    "    \"\"\"\n",
    "    advanced function to multiply two matrices\n",
    "    @param list a     matrix of i*k items\n",
    "    @param list b     matrix of k*j items\n",
    "    \"\"\"\n",
    "    zip_b = zip(*b)\n",
    "    return [[sum(ele_a*ele_b for ele_a, ele_b in zip(row_a, col_b)) for col_b in zip_b] for row_a in a]\n"
   ]
  },
  {
   "cell_type": "code",
   "execution_count": 5,
   "metadata": {
    "collapsed": false
   },
   "outputs": [
    {
     "name": "stdout",
     "output_type": "stream",
     "text": [
      "100000 loops, best of 3: 12.1 µs per loop\n"
     ]
    }
   ],
   "source": [
    "%%timeit\n",
    "matrix_mult1(m1, m2)"
   ]
  },
  {
   "cell_type": "code",
   "execution_count": 6,
   "metadata": {
    "collapsed": false
   },
   "outputs": [
    {
     "name": "stdout",
     "output_type": "stream",
     "text": [
      "100000 loops, best of 3: 10.4 µs per loop\n"
     ]
    }
   ],
   "source": [
    "%%timeit\n",
    "matrix_mult2(m1, m2)"
   ]
  }
 ],
 "metadata": {
  "kernelspec": {
   "display_name": "Python 2",
   "language": "python",
   "name": "python2"
  },
  "language_info": {
   "codemirror_mode": {
    "name": "ipython",
    "version": 2
   },
   "file_extension": ".py",
   "mimetype": "text/x-python",
   "name": "python",
   "nbconvert_exporter": "python",
   "pygments_lexer": "ipython2",
   "version": "2.7.10"
  }
 },
 "nbformat": 4,
 "nbformat_minor": 0
}

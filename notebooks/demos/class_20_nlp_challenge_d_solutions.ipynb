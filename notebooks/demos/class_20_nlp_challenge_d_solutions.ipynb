{
 "cells": [
  {
   "cell_type": "markdown",
   "metadata": {},
   "source": [
    "# Sentiment Analysis\n",
    "\n",
    "Let's make some money.\n",
    "\n",
    "For our training set, we'll use the Rotten Tomatoes reviews from before. We'll start by using a logistic regression model as our classifier."
   ]
  },
  {
   "cell_type": "code",
   "execution_count": 1,
   "metadata": {
    "collapsed": false
   },
   "outputs": [],
   "source": [
    "import pandas as pd\n",
    "import numpy as np\n",
    "from sklearn.cross_validation import train_test_split\n",
    "from sklearn.feature_extraction.text import CountVectorizer, TfidfVectorizer\n",
    "from sklearn.linear_model import LogisticRegression"
   ]
  },
  {
   "cell_type": "code",
   "execution_count": 2,
   "metadata": {
    "collapsed": false
   },
   "outputs": [
    {
     "data": {
      "text/html": [
       "<div>\n",
       "<table border=\"1\" class=\"dataframe\">\n",
       "  <thead>\n",
       "    <tr style=\"text-align: right;\">\n",
       "      <th></th>\n",
       "      <th>critic</th>\n",
       "      <th>fresh</th>\n",
       "      <th>imdb</th>\n",
       "      <th>publication</th>\n",
       "      <th>quote</th>\n",
       "      <th>review_date</th>\n",
       "      <th>rtid</th>\n",
       "      <th>title</th>\n",
       "    </tr>\n",
       "  </thead>\n",
       "  <tbody>\n",
       "    <tr>\n",
       "      <th>0</th>\n",
       "      <td>Derek Adams</td>\n",
       "      <td>fresh</td>\n",
       "      <td>114709</td>\n",
       "      <td>Time Out</td>\n",
       "      <td>So ingenious in concept, design and execution ...</td>\n",
       "      <td>2009-10-04</td>\n",
       "      <td>9559</td>\n",
       "      <td>Toy story</td>\n",
       "    </tr>\n",
       "    <tr>\n",
       "      <th>1</th>\n",
       "      <td>Richard Corliss</td>\n",
       "      <td>fresh</td>\n",
       "      <td>114709</td>\n",
       "      <td>TIME Magazine</td>\n",
       "      <td>The year's most inventive comedy.</td>\n",
       "      <td>2008-08-31</td>\n",
       "      <td>9559</td>\n",
       "      <td>Toy story</td>\n",
       "    </tr>\n",
       "    <tr>\n",
       "      <th>2</th>\n",
       "      <td>David Ansen</td>\n",
       "      <td>fresh</td>\n",
       "      <td>114709</td>\n",
       "      <td>Newsweek</td>\n",
       "      <td>A winning animated feature that has something ...</td>\n",
       "      <td>2008-08-18</td>\n",
       "      <td>9559</td>\n",
       "      <td>Toy story</td>\n",
       "    </tr>\n",
       "    <tr>\n",
       "      <th>3</th>\n",
       "      <td>Leonard Klady</td>\n",
       "      <td>fresh</td>\n",
       "      <td>114709</td>\n",
       "      <td>Variety</td>\n",
       "      <td>The film sports a provocative and appealing st...</td>\n",
       "      <td>2008-06-09</td>\n",
       "      <td>9559</td>\n",
       "      <td>Toy story</td>\n",
       "    </tr>\n",
       "    <tr>\n",
       "      <th>4</th>\n",
       "      <td>Jonathan Rosenbaum</td>\n",
       "      <td>fresh</td>\n",
       "      <td>114709</td>\n",
       "      <td>Chicago Reader</td>\n",
       "      <td>An entertaining computer-generated, hyperreali...</td>\n",
       "      <td>2008-03-10</td>\n",
       "      <td>9559</td>\n",
       "      <td>Toy story</td>\n",
       "    </tr>\n",
       "  </tbody>\n",
       "</table>\n",
       "</div>"
      ],
      "text/plain": [
       "               critic  fresh    imdb     publication  \\\n",
       "0         Derek Adams  fresh  114709        Time Out   \n",
       "1     Richard Corliss  fresh  114709   TIME Magazine   \n",
       "2         David Ansen  fresh  114709        Newsweek   \n",
       "3       Leonard Klady  fresh  114709         Variety   \n",
       "4  Jonathan Rosenbaum  fresh  114709  Chicago Reader   \n",
       "\n",
       "                                               quote review_date  rtid  \\\n",
       "0  So ingenious in concept, design and execution ...  2009-10-04  9559   \n",
       "1                  The year's most inventive comedy.  2008-08-31  9559   \n",
       "2  A winning animated feature that has something ...  2008-08-18  9559   \n",
       "3  The film sports a provocative and appealing st...  2008-06-09  9559   \n",
       "4  An entertaining computer-generated, hyperreali...  2008-03-10  9559   \n",
       "\n",
       "       title  \n",
       "0  Toy story  \n",
       "1  Toy story  \n",
       "2  Toy story  \n",
       "3  Toy story  \n",
       "4  Toy story  "
      ]
     },
     "execution_count": 2,
     "metadata": {},
     "output_type": "execute_result"
    }
   ],
   "source": [
    "# load data\n",
    "\n",
    "DATA_DIR = '../../data/'\n",
    "\n",
    "df = pd.read_csv(DATA_DIR + '/rt_critics.csv')\n",
    "\n",
    "df.head()"
   ]
  },
  {
   "cell_type": "markdown",
   "metadata": {},
   "source": [
    "If you're up for a challenge, ignore the following cells and create the classifier on your own with your favorite model right here.\n",
    "\n",
    "See how stop words and tf-idf scoring helps or hurts your model.\n",
    "\n",
    "When you're done with that, skip to 'Next Steps'"
   ]
  },
  {
   "cell_type": "code",
   "execution_count": 3,
   "metadata": {
    "collapsed": false
   },
   "outputs": [],
   "source": [
    "# play space for the bold.\n",
    "\n",
    "\n"
   ]
  },
  {
   "cell_type": "code",
   "execution_count": 3,
   "metadata": {
    "collapsed": false
   },
   "outputs": [
    {
     "name": "stdout",
     "output_type": "stream",
     "text": [
      "14072 samples, 21544 features\n"
     ]
    }
   ],
   "source": [
    "# run this cell to examine data\n",
    "\n",
    "vectorizer = CountVectorizer()\n",
    "\n",
    "Xcv = vectorizer.fit_transform(df['quote'])\n",
    "\n",
    "print '%d samples, %d features' % Xcv.shape"
   ]
  },
  {
   "cell_type": "markdown",
   "metadata": {},
   "source": [
    "But wait! We have more features than samples. This would ensure overfitting. Let's trim that number down to the top 5000, ranked by the term frequency across all documents."
   ]
  },
  {
   "cell_type": "code",
   "execution_count": 21,
   "metadata": {
    "collapsed": false
   },
   "outputs": [],
   "source": [
    "# run this cell to vectorize our documents\n",
    "\n",
    "# create vectorizer object\n",
    "vectorizer = CountVectorizer(max_features=5000)\n",
    "\n",
    "# convert our documents and their labels into numpy arrays\n",
    "Xcv = vectorizer.fit_transform(df['quote'])\n",
    "Y = (df['fresh'] == 'fresh').values.astype(np.int8)\n",
    "\n",
    "# split the converted data into training and test sets\n",
    "xtrain, xtest, ytrain, ytest = train_test_split(Xcv, Y)"
   ]
  },
  {
   "cell_type": "code",
   "execution_count": 22,
   "metadata": {
    "collapsed": false
   },
   "outputs": [
    {
     "name": "stdout",
     "output_type": "stream",
     "text": [
      "Accuracy: 76.52%\n"
     ]
    }
   ],
   "source": [
    "# Evaluate performance of models\n",
    "# Tune the regularization parameter, C, to improve performance.\n",
    "\n",
    "logr = LogisticRegression(C=0.7).fit(xtrain, ytrain)  # Set the keyword argument, 'C', to different values and optimize\n",
    "\n",
    "print \"Accuracy: %0.2f%%\" % (100 * logr.score(xtest, ytest))"
   ]
  },
  {
   "cell_type": "markdown",
   "metadata": {},
   "source": [
    "# Stop Words\n",
    "\n",
    "The performance isn't horrible, but it's not great. Can we improve things by [using stop words](http://scikit-learn.org/stable/modules/generated/sklearn.feature_extraction.text.CountVectorizer.html#sklearn.feature_extraction.text.CountVectorizer)? See the linked documentation for how to tell CountVectorizer to skip stop words."
   ]
  },
  {
   "cell_type": "code",
   "execution_count": 8,
   "metadata": {
    "collapsed": false
   },
   "outputs": [],
   "source": [
    "# edit this cell to include stopwords\n",
    "\n",
    "# create vectorizer object\n",
    "vectorizer = CountVectorizer(stop_words='english', max_features=5000)\n",
    "\n",
    "# convert our documents and their labels into numpy arrays\n",
    "Xcvs = vectorizer.fit_transform(df['quote'])\n",
    "Y = (df['fresh'] == 'fresh').values.astype(np.int8)\n",
    "\n",
    "# split the converted data into training and test sets\n",
    "xtraincvs, xtestcvs, ytraincvs, ytestcvs = train_test_split(Xcvs, Y)"
   ]
  },
  {
   "cell_type": "code",
   "execution_count": 9,
   "metadata": {
    "collapsed": false
   },
   "outputs": [
    {
     "name": "stdout",
     "output_type": "stream",
     "text": [
      "Accuracy: 74.25%\n"
     ]
    }
   ],
   "source": [
    "# Evaluate performance of models\n",
    "# Tune the regularization parameter, C, to improve performance.\n",
    "\n",
    "logr = LogisticRegression(C=0.5).fit(xtraincvs, ytraincvs)\n",
    "\n",
    "print \"Accuracy: %0.2f%%\" % (100 * logr.score(xtestcvs, ytestcvs))"
   ]
  },
  {
   "cell_type": "markdown",
   "metadata": {},
   "source": [
    "# tf-idf\n",
    "\n",
    "If that didn't work, how about using tf-idf weighting?\n",
    "\n",
    "http://scikit-learn.org/stable/modules/generated/sklearn.feature_extraction.text.TfidfVectorizer.html#sklearn.feature_extraction.text.TfidfVectorizer"
   ]
  },
  {
   "cell_type": "code",
   "execution_count": 12,
   "metadata": {
    "collapsed": false
   },
   "outputs": [],
   "source": [
    "# edit this cell to create a TfidfVectorizer instead of a simple CountVectorizer\n",
    "\n",
    "# create vectorizer object\n",
    "vectorizer = TfidfVectorizer(max_features=5000)\n",
    "\n",
    "# convert our documents and their labels into numpy arrays\n",
    "Xti = vectorizer.fit_transform(df['quote'])\n",
    "Y = (df['fresh'] == 'fresh').values.astype(np.int8)\n",
    "\n",
    "# split the converted data into training and test sets\n",
    "xtrainti, xtestti, ytrainti, ytestti = train_test_split(Xti, Y)"
   ]
  },
  {
   "cell_type": "code",
   "execution_count": 13,
   "metadata": {
    "collapsed": false
   },
   "outputs": [
    {
     "name": "stdout",
     "output_type": "stream",
     "text": [
      "Accuracy: 76.75%\n"
     ]
    }
   ],
   "source": [
    "# Evaluate performance of models\n",
    "# Tune the regularization parameter, C, to improve performance.\n",
    "\n",
    "logr = LogisticRegression(C=5).fit(xtrainti, ytrainti)\n",
    "\n",
    "print \"Accuracy: %0.2f%%\" % (100 * logr.score(xtestti, ytestti))"
   ]
  },
  {
   "cell_type": "markdown",
   "metadata": {},
   "source": [
    "# tf-idf and stop words\n",
    "\n",
    "Do both together help?"
   ]
  },
  {
   "cell_type": "code",
   "execution_count": 23,
   "metadata": {
    "collapsed": false
   },
   "outputs": [],
   "source": [
    "# edit this cell to create a TfidfVectorizer that uses stop words\n",
    "\n",
    "# create vectorizer object\n",
    "vectorizer = TfidfVectorizer(stop_words='english', max_features=5000)\n",
    "\n",
    "# convert our documents and their labels into numpy arrays\n",
    "Xtis = vectorizer.fit_transform(df['quote'])\n",
    "Y = (df['fresh'] == 'fresh').values.astype(np.int8)\n",
    "\n",
    "# split the converted data into training and test sets\n",
    "xtraintis, xtesttis, ytraintis, ytesttis = train_test_split(Xtis, Y)"
   ]
  },
  {
   "cell_type": "code",
   "execution_count": 24,
   "metadata": {
    "collapsed": false
   },
   "outputs": [
    {
     "name": "stdout",
     "output_type": "stream",
     "text": [
      "Accuracy: 74.87%\n"
     ]
    }
   ],
   "source": [
    "# Evaluate performance of models\n",
    "# Tune the regularization parameter, C, to improve performance.\n",
    "\n",
    "logr = LogisticRegression(C=1).fit(xtraintis, ytraintis)\n",
    "\n",
    "print \"Accuracy: %0.2f%%\" % (100 * logr.score(xtesttis, ytesttis))"
   ]
  },
  {
   "cell_type": "markdown",
   "metadata": {},
   "source": [
    "# Next steps\n",
    "\n",
    "Are you satisfied with these results? Why might you be less than satisfied? How can you explain the observed behavior? What are the next steps you would need to do to improve this classifier? If you have time remaining, try a few strategies out below."
   ]
  },
  {
   "cell_type": "code",
   "execution_count": 13,
   "metadata": {
    "collapsed": false
   },
   "outputs": [],
   "source": [
    "# continue playing here.\n",
    "# did you finish all of the previous labs? How do your implementations compare?"
   ]
  },
  {
   "cell_type": "markdown",
   "metadata": {},
   "source": [
    "# More Next Steps\n",
    "\n",
    "We're not making any money with this classifier yet. If it were that easy, everyone would do it and there'd be no money in it. The hardest part of this problem is usually finding good training data. Googling 'sentiment analysis training data' or 'sentiment analysis test data' turns up a few freely available sources. Most of them are hosted by universities.\n",
    "\n",
    "But notice, determining the judgment of a movie review isn't the same task as determining the emotional content of a tweet. And yet, it kind of is. The computer doesn't know anything about nature of the text. All it knows is that there are documents with one label (fresh/happy) and documents with another label (rotten/sad) and it needs to fit a model to discriminate between the two. This can be extended to more classes (look into the 20 newsgroups dataset in sci-kit learn) and to proprietary corpora.\n",
    "\n",
    "One application you might use at work is classifying support emails from users. The classes may be 'ranting', 'mischarge', 'lost order', 'gushing'. Or whatever is common. Even if the classifier isn't perfect, it could help streamline the process of getting the right emails to the right support personnel."
   ]
  },
  {
   "cell_type": "code",
   "execution_count": 14,
   "metadata": {
    "collapsed": false
   },
   "outputs": [
    {
     "data": {
      "text/html": [
       "\n",
       "<style>\n",
       ".text_cell_render {\n",
       "  background-color: cyan;\n",
       "}\n",
       "</style>\n"
      ],
      "text/plain": [
       "<IPython.core.display.HTML at 0x112f40310>"
      ]
     },
     "execution_count": 14,
     "metadata": {},
     "output_type": "execute_result"
    }
   ],
   "source": [
    "from IPython.display import HTML\n",
    "HTML('''\n",
    "<style>\n",
    ".text_cell_render {\n",
    "  background-color: cyan;\n",
    "}\n",
    "</style>\n",
    "''')"
   ]
  }
 ],
 "metadata": {
  "kernelspec": {
   "display_name": "Python 2",
   "language": "python",
   "name": "python2"
  },
  "language_info": {
   "codemirror_mode": {
    "name": "ipython",
    "version": 2
   },
   "file_extension": ".py",
   "mimetype": "text/x-python",
   "name": "python",
   "nbconvert_exporter": "python",
   "pygments_lexer": "ipython2",
   "version": "2.7.10"
  }
 },
 "nbformat": 4,
 "nbformat_minor": 0
}

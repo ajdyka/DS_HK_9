{
 "metadata": {
  "name": "",
  "signature": "sha256:b4fe708cd8a8db269d8bbecf6af89471b38a526cbbb2612a874774a0856bd210"
 },
 "nbformat": 3,
 "nbformat_minor": 0,
 "worksheets": [
  {
   "cells": [
    {
     "cell_type": "heading",
     "level": 3,
     "metadata": {},
     "source": [
      "Returns nothing, prints in function"
     ]
    },
    {
     "cell_type": "code",
     "collapsed": false,
     "input": [
      "def function():\n",
      "    12\n",
      "    print 'example'\n",
      "    \n",
      "function()"
     ],
     "language": "python",
     "metadata": {},
     "outputs": [
      {
       "output_type": "stream",
       "stream": "stdout",
       "text": [
        "example\n"
       ]
      }
     ],
     "prompt_number": 8
    },
    {
     "cell_type": "heading",
     "level": 3,
     "metadata": {},
     "source": [
      "Returns None, so prints that, as well as prints in function"
     ]
    },
    {
     "cell_type": "code",
     "collapsed": false,
     "input": [
      "def function():\n",
      "    12\n",
      "    print 'prints'\n",
      "\n",
      "print function()"
     ],
     "language": "python",
     "metadata": {},
     "outputs": [
      {
       "output_type": "stream",
       "stream": "stdout",
       "text": [
        "prints\n",
        "None\n"
       ]
      }
     ],
     "prompt_number": 7
    },
    {
     "cell_type": "heading",
     "level": 3,
     "metadata": {},
     "source": [
      "Returns 'return', so prints that, right after it prints in function"
     ]
    },
    {
     "cell_type": "code",
     "collapsed": false,
     "input": [
      "def function():\n",
      "    12\n",
      "    print 'prints'\n",
      "    return 'return'\n",
      "\n",
      "print function()"
     ],
     "language": "python",
     "metadata": {},
     "outputs": [
      {
       "output_type": "stream",
       "stream": "stdout",
       "text": [
        "prints\n",
        "return\n"
       ]
      }
     ],
     "prompt_number": 10
    },
    {
     "cell_type": "heading",
     "level": 3,
     "metadata": {},
     "source": [
      "Only prints 'return' because a function exits as soon as it returns. "
     ]
    },
    {
     "cell_type": "code",
     "collapsed": false,
     "input": [
      "def function():\n",
      "    12\n",
      "    return 'return'\n",
      "    print 'prints'\n",
      "\n",
      "print function()"
     ],
     "language": "python",
     "metadata": {},
     "outputs": [
      {
       "output_type": "stream",
       "stream": "stdout",
       "text": [
        "return\n"
       ]
      }
     ],
     "prompt_number": 12
    }
   ],
   "metadata": {}
  }
 ]
}
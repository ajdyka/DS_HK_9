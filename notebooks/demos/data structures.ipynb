{
 "cells": [
  {
   "cell_type": "code",
   "execution_count": 15,
   "metadata": {
    "collapsed": false
   },
   "outputs": [],
   "source": [
    "import numpy as np\n",
    "import pandas as pd\n",
    "\n",
    "# Datatype, Data Structures which hold data in Python\n",
    "\n",
    "## List\n",
    "\n",
    "tv_shows = ['Game of Thrones', 'Hannibal', 'Mad Man']\n",
    "\n",
    "## Array\n",
    "tv_shows_a = np.array(tv_shows)"
   ]
  },
  {
   "cell_type": "code",
   "execution_count": 4,
   "metadata": {
    "collapsed": false
   },
   "outputs": [
    {
     "name": "stdout",
     "output_type": "stream",
     "text": [
      "Game of Thrones\n",
      "Hannibal\n",
      "Mad Man\n"
     ]
    }
   ],
   "source": [
    "for show in tv_shows:\n",
    "    print show"
   ]
  },
  {
   "cell_type": "code",
   "execution_count": 7,
   "metadata": {
    "collapsed": false
   },
   "outputs": [
    {
     "name": "stdout",
     "output_type": "stream",
     "text": [
      "append\n",
      "count\n",
      "extend\n",
      "index\n",
      "insert\n",
      "pop\n",
      "remove\n",
      "reverse\n",
      "sort\n"
     ]
    }
   ],
   "source": [
    "for fn in dir(tv_shows):\n",
    "    if '__' not in fn:\n",
    "        print fn "
   ]
  },
  {
   "cell_type": "code",
   "execution_count": 8,
   "metadata": {
    "collapsed": false
   },
   "outputs": [
    {
     "name": "stdout",
     "output_type": "stream",
     "text": [
      "__add__\n",
      "__class__\n",
      "__contains__\n",
      "__delattr__\n",
      "__delitem__\n",
      "__delslice__\n",
      "__doc__\n",
      "__eq__\n",
      "__format__\n",
      "__ge__\n",
      "__getattribute__\n",
      "__getitem__\n",
      "__getslice__\n",
      "__gt__\n",
      "__hash__\n",
      "__iadd__\n",
      "__imul__\n",
      "__init__\n",
      "__iter__\n",
      "__le__\n",
      "__len__\n",
      "__lt__\n",
      "__mul__\n",
      "__ne__\n",
      "__new__\n",
      "__reduce__\n",
      "__reduce_ex__\n",
      "__repr__\n",
      "__reversed__\n",
      "__rmul__\n",
      "__setattr__\n",
      "__setitem__\n",
      "__setslice__\n",
      "__sizeof__\n",
      "__str__\n",
      "__subclasshook__\n"
     ]
    }
   ],
   "source": [
    "for fn in dir(tv_shows):\n",
    "    if '__' in fn:\n",
    "        print fn "
   ]
  },
  {
   "cell_type": "code",
   "execution_count": 14,
   "metadata": {
    "collapsed": false
   },
   "outputs": [
    {
     "data": {
      "text/plain": [
       "\"list() -> new empty list\\nlist(iterable) -> new list initialized from iterable's items\""
      ]
     },
     "execution_count": 14,
     "metadata": {},
     "output_type": "execute_result"
    }
   ],
   "source": [
    "tv_shows.__doc__"
   ]
  },
  {
   "cell_type": "code",
   "execution_count": 16,
   "metadata": {
    "collapsed": false
   },
   "outputs": [
    {
     "name": "stdout",
     "output_type": "stream",
     "text": [
      "T\n",
      "all\n",
      "any\n",
      "argmax\n",
      "argmin\n",
      "argpartition\n",
      "argsort\n",
      "astype\n",
      "base\n",
      "byteswap\n",
      "choose\n",
      "clip\n",
      "compress\n",
      "conj\n",
      "conjugate\n",
      "copy\n",
      "ctypes\n",
      "cumprod\n",
      "cumsum\n",
      "data\n",
      "diagonal\n",
      "dot\n",
      "dtype\n",
      "dump\n",
      "dumps\n",
      "fill\n",
      "flags\n",
      "flat\n",
      "flatten\n",
      "getfield\n",
      "imag\n",
      "item\n",
      "itemset\n",
      "itemsize\n",
      "max\n",
      "mean\n",
      "min\n",
      "nbytes\n",
      "ndim\n",
      "newbyteorder\n",
      "nonzero\n",
      "partition\n",
      "prod\n",
      "ptp\n",
      "put\n",
      "ravel\n",
      "real\n",
      "repeat\n",
      "reshape\n",
      "resize\n",
      "round\n",
      "searchsorted\n",
      "setfield\n",
      "setflags\n",
      "shape\n",
      "size\n",
      "sort\n",
      "squeeze\n",
      "std\n",
      "strides\n",
      "sum\n",
      "swapaxes\n",
      "take\n",
      "tobytes\n",
      "tofile\n",
      "tolist\n",
      "tostring\n",
      "trace\n",
      "transpose\n",
      "var\n",
      "view\n"
     ]
    }
   ],
   "source": [
    "for fn in dir(tv_shows_a):\n",
    "    if '__' not in fn:\n",
    "        print fn "
   ]
  },
  {
   "cell_type": "code",
   "execution_count": 20,
   "metadata": {
    "collapsed": false
   },
   "outputs": [
    {
     "data": {
      "text/plain": [
       "[True, True, False]"
      ]
     },
     "execution_count": 20,
     "metadata": {},
     "output_type": "execute_result"
    }
   ],
   "source": [
    "np.array([True,True,False]).tolist()"
   ]
  },
  {
   "cell_type": "code",
   "execution_count": 47,
   "metadata": {
    "collapsed": false,
    "scrolled": false
   },
   "outputs": [],
   "source": [
    "df_funcs = []\n",
    "for fn in dir(df_tv_shows):\n",
    "    if '_' not in fn[0]:\n",
    "        df_funcs.append(fn)"
   ]
  },
  {
   "cell_type": "code",
   "execution_count": 48,
   "metadata": {
    "collapsed": false
   },
   "outputs": [],
   "source": [
    "series_funcs = []\n",
    "for fn in dir(df_tv_shows.show):\n",
    "    if '_' not in fn[0]:\n",
    "        series_funcs.append(fn)"
   ]
  },
  {
   "cell_type": "markdown",
   "metadata": {},
   "source": [
    "### Unique to Dataframes"
   ]
  },
  {
   "cell_type": "code",
   "execution_count": 53,
   "metadata": {
    "collapsed": false
   },
   "outputs": [
    {
     "data": {
      "text/plain": [
       "{'applymap',\n",
       " 'assign',\n",
       " 'boxplot',\n",
       " 'columns',\n",
       " 'combineAdd',\n",
       " 'combineMult',\n",
       " 'corrwith',\n",
       " 'eval',\n",
       " 'from_dict',\n",
       " 'from_items',\n",
       " 'from_records',\n",
       " 'icol',\n",
       " 'info',\n",
       " 'insert',\n",
       " 'iterrows',\n",
       " 'itertuples',\n",
       " 'join',\n",
       " 'lookup',\n",
       " 'memory_usage',\n",
       " 'merge',\n",
       " 'pivot',\n",
       " 'pivot_table',\n",
       " 'query',\n",
       " 'select_dtypes',\n",
       " 'set_index',\n",
       " 'show',\n",
       " 'stack',\n",
       " 'to_excel',\n",
       " 'to_gbq',\n",
       " 'to_html',\n",
       " 'to_latex',\n",
       " 'to_panel',\n",
       " 'to_records',\n",
       " 'to_stata',\n",
       " 'to_wide'}"
      ]
     },
     "execution_count": 53,
     "metadata": {},
     "output_type": "execute_result"
    }
   ],
   "source": [
    "set(df_funcs).difference(series_funcs)"
   ]
  },
  {
   "cell_type": "markdown",
   "metadata": {},
   "source": [
    "### Unique to Series"
   ]
  },
  {
   "cell_type": "code",
   "execution_count": 54,
   "metadata": {
    "collapsed": false
   },
   "outputs": [
    {
     "data": {
      "text/plain": [
       "{'argmax',\n",
       " 'argmin',\n",
       " 'argsort',\n",
       " 'asof',\n",
       " 'autocorr',\n",
       " 'base',\n",
       " 'between',\n",
       " 'compress',\n",
       " 'data',\n",
       " 'dtype',\n",
       " 'factorize',\n",
       " 'flags',\n",
       " 'from_array',\n",
       " 'ftype',\n",
       " 'hasnans',\n",
       " 'iget',\n",
       " 'imag',\n",
       " 'is_time_series',\n",
       " 'item',\n",
       " 'itemsize',\n",
       " 'map',\n",
       " 'nbytes',\n",
       " 'nlargest',\n",
       " 'nonzero',\n",
       " 'nsmallest',\n",
       " 'nunique',\n",
       " 'order',\n",
       " 'ptp',\n",
       " 'put',\n",
       " 'ravel',\n",
       " 'real',\n",
       " 'repeat',\n",
       " 'reshape',\n",
       " 'round',\n",
       " 'searchsorted',\n",
       " 'str',\n",
       " 'strides',\n",
       " 'to_frame',\n",
       " 'tolist',\n",
       " 'unique',\n",
       " 'valid',\n",
       " 'value_counts',\n",
       " 'view'}"
      ]
     },
     "execution_count": 54,
     "metadata": {},
     "output_type": "execute_result"
    }
   ],
   "source": [
    "set(series_funcs).difference(df_funcs)"
   ]
  },
  {
   "cell_type": "code",
   "execution_count": 32,
   "metadata": {
    "collapsed": true
   },
   "outputs": [],
   "source": [
    "## Dataframe\n",
    "df_tv_shows = pd.DataFrame(tv_shows)\n",
    "df_tv_shows.columns = ['show']"
   ]
  },
  {
   "cell_type": "code",
   "execution_count": 34,
   "metadata": {
    "collapsed": false
   },
   "outputs": [
    {
     "data": {
      "text/html": [
       "<div style=\"max-height:1000px;max-width:1500px;overflow:auto;\">\n",
       "<table border=\"1\" class=\"dataframe\">\n",
       "  <thead>\n",
       "    <tr style=\"text-align: right;\">\n",
       "      <th></th>\n",
       "      <th>show</th>\n",
       "    </tr>\n",
       "  </thead>\n",
       "  <tbody>\n",
       "    <tr>\n",
       "      <th>watched</th>\n",
       "      <td>Game of Thrones</td>\n",
       "    </tr>\n",
       "    <tr>\n",
       "      <th>To Watch</th>\n",
       "      <td>Hannibal</td>\n",
       "    </tr>\n",
       "    <tr>\n",
       "      <th>Wont Watch</th>\n",
       "      <td>Mad Man</td>\n",
       "    </tr>\n",
       "  </tbody>\n",
       "</table>\n",
       "</div>"
      ],
      "text/plain": [
       "                       show\n",
       "watched     Game of Thrones\n",
       "To Watch           Hannibal\n",
       "Wont Watch          Mad Man"
      ]
     },
     "execution_count": 34,
     "metadata": {},
     "output_type": "execute_result"
    }
   ],
   "source": [
    "df_tv_shows.index = ['watched','To Watch','Wont Watch']\n",
    "df_tv_shows"
   ]
  },
  {
   "cell_type": "code",
   "execution_count": 36,
   "metadata": {
    "collapsed": false
   },
   "outputs": [
    {
     "data": {
      "text/plain": [
       "(3,)"
      ]
     },
     "execution_count": 36,
     "metadata": {},
     "output_type": "execute_result"
    }
   ],
   "source": [
    "df_tv_shows.show.shape"
   ]
  },
  {
   "cell_type": "code",
   "execution_count": 37,
   "metadata": {
    "collapsed": false
   },
   "outputs": [
    {
     "data": {
      "text/plain": [
       "watched       Game of Thrones\n",
       "To Watch             Hannibal\n",
       "Wont Watch            Mad Man\n",
       "Name: show, dtype: object"
      ]
     },
     "execution_count": 37,
     "metadata": {},
     "output_type": "execute_result"
    }
   ],
   "source": [
    "## Series\n",
    "\n",
    "df_tv_shows.show\n",
    "\n",
    "\n",
    "# Don't worry about these... they are mathematical concepts\n",
    "\n",
    "## Matrix\n",
    "## Vector\n"
   ]
  },
  {
   "cell_type": "code",
   "execution_count": 41,
   "metadata": {
    "collapsed": false
   },
   "outputs": [
    {
     "data": {
      "text/plain": [
       "Game of Thrones    1\n",
       "Hannibal           1\n",
       "Mad Man            1\n",
       "dtype: int64"
      ]
     },
     "execution_count": 41,
     "metadata": {},
     "output_type": "execute_result"
    }
   ],
   "source": [
    "dir(df_tv_shows.show"
   ]
  },
  {
   "cell_type": "code",
   "execution_count": 39,
   "metadata": {
    "collapsed": false
   },
   "outputs": [
    {
     "data": {
      "text/plain": [
       "array(['Game of Thrones', 'Hannibal', 'Mad Man'], dtype=object)"
      ]
     },
     "execution_count": 39,
     "metadata": {},
     "output_type": "execute_result"
    }
   ],
   "source": [
    "df_tv_shows.show.values"
   ]
  },
  {
   "cell_type": "code",
   "execution_count": 38,
   "metadata": {
    "collapsed": false
   },
   "outputs": [
    {
     "data": {
      "text/plain": [
       "['Game of Thrones', 'Hannibal', 'Mad Man']"
      ]
     },
     "execution_count": 38,
     "metadata": {},
     "output_type": "execute_result"
    }
   ],
   "source": [
    "df_tv_shows.show.tolist()"
   ]
  }
 ],
 "metadata": {
  "kernelspec": {
   "display_name": "Python 2",
   "language": "python",
   "name": "python2"
  },
  "language_info": {
   "codemirror_mode": {
    "name": "ipython",
    "version": 2
   },
   "file_extension": ".py",
   "mimetype": "text/x-python",
   "name": "python",
   "nbconvert_exporter": "python",
   "pygments_lexer": "ipython2",
   "version": "2.7.10"
  }
 },
 "nbformat": 4,
 "nbformat_minor": 0
}

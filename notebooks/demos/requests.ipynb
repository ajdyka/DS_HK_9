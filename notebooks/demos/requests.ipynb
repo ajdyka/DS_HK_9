{
 "cells": [
  {
   "cell_type": "markdown",
   "metadata": {},
   "source": [
    "# Using Requests to Download a CSV to disk"
   ]
  },
  {
   "cell_type": "code",
   "execution_count": 1,
   "metadata": {
    "collapsed": true
   },
   "outputs": [],
   "source": [
    "import requests"
   ]
  },
  {
   "cell_type": "code",
   "execution_count": null,
   "metadata": {
    "collapsed": true
   },
   "outputs": [],
   "source": [
    "url = 'http://stat.columbia.edu/~rachel/datasets/nyt1.csv'"
   ]
  },
  {
   "cell_type": "code",
   "execution_count": 8,
   "metadata": {
    "collapsed": false
   },
   "outputs": [],
   "source": [
    "with open('nyt.csv', 'wb') as csv:\n",
    "    r = requests.get(url, stream=True)\n",
    "\n",
    "    assert r.ok\n",
    "\n",
    "    for block in r.iter_lines(512):\n",
    "        csv.write(block)"
   ]
  },
  {
   "cell_type": "code",
   "execution_count": 10,
   "metadata": {
    "collapsed": false
   },
   "outputs": [
    {
     "name": "stdout",
     "output_type": "stream",
     "text": [
      "\"Age\",\"Gender\",\"Impressions\",\"Clicks\",\"Signed_In\"\r\n",
      "36,0,3,0,1\r\n",
      "73,1,3,0,1\r\n",
      "30,0,3,0,1\r\n",
      "49,1,3,0,1\r\n",
      "47,1,11,0,1\r\n",
      "47,0,11,1,1\r\n",
      "0,0,7,1,0\r\n",
      "46,0,5,0,1\r\n",
      "16,0,3,0,1\r\n"
     ]
    }
   ],
   "source": [
    "!head nyt.csv"
   ]
  },
  {
   "cell_type": "markdown",
   "metadata": {},
   "source": [
    "I'll leave it as an excercise to figure out how exactly to iterate through the 30 files, and skip all but the first of the headers :)"
   ]
  }
 ],
 "metadata": {
  "kernelspec": {
   "display_name": "Python 2",
   "language": "python",
   "name": "python2"
  },
  "language_info": {
   "codemirror_mode": {
    "name": "ipython",
    "version": 2
   },
   "file_extension": ".py",
   "mimetype": "text/x-python",
   "name": "python",
   "nbconvert_exporter": "python",
   "pygments_lexer": "ipython2",
   "version": "2.7.10"
  }
 },
 "nbformat": 4,
 "nbformat_minor": 0
}

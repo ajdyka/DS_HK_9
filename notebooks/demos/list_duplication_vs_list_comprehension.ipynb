{
 "metadata": {
  "name": "",
  "signature": "sha256:aa6032bee50d1df057548d4508adbf241b55ef180176e988bdf3ded1c0d0ca42"
 },
 "nbformat": 3,
 "nbformat_minor": 0,
 "worksheets": [
  {
   "cells": [
    {
     "cell_type": "heading",
     "level": 2,
     "metadata": {},
     "source": [
      "Why does this create a matrix of ones?"
     ]
    },
    {
     "cell_type": "code",
     "collapsed": false,
     "input": [
      "import numpy as np\n",
      "\n",
      "def identityMatrix(rows):\n",
      "\n",
      "    matrix = [[0] * rows] * rows\n",
      "    \n",
      "    for x in range(rows):\n",
      "        matrix[x][x] = 1\n",
      "\n",
      "    print np.matrix(matrix)\n",
      "\n",
      "identityMatrix(10)"
     ],
     "language": "python",
     "metadata": {},
     "outputs": [
      {
       "output_type": "stream",
       "stream": "stdout",
       "text": [
        "[[1 1 1 1 1 1 1 1 1 1]\n",
        " [1 1 1 1 1 1 1 1 1 1]\n",
        " [1 1 1 1 1 1 1 1 1 1]\n",
        " [1 1 1 1 1 1 1 1 1 1]\n",
        " [1 1 1 1 1 1 1 1 1 1]\n",
        " [1 1 1 1 1 1 1 1 1 1]\n",
        " [1 1 1 1 1 1 1 1 1 1]\n",
        " [1 1 1 1 1 1 1 1 1 1]\n",
        " [1 1 1 1 1 1 1 1 1 1]\n",
        " [1 1 1 1 1 1 1 1 1 1]]\n"
       ]
      }
     ],
     "prompt_number": 2
    },
    {
     "cell_type": "heading",
     "level": 2,
     "metadata": {},
     "source": [
      "Because the each row, each lists, _references_ the same list in memory"
     ]
    },
    {
     "cell_type": "code",
     "collapsed": false,
     "input": [
      "a = [1,0,0]"
     ],
     "language": "python",
     "metadata": {},
     "outputs": [],
     "prompt_number": 3
    },
    {
     "cell_type": "code",
     "collapsed": false,
     "input": [
      "b = [0,0,1]"
     ],
     "language": "python",
     "metadata": {},
     "outputs": [],
     "prompt_number": 4
    },
    {
     "cell_type": "code",
     "collapsed": false,
     "input": [
      "a = b"
     ],
     "language": "python",
     "metadata": {},
     "outputs": [],
     "prompt_number": 5
    },
    {
     "cell_type": "code",
     "collapsed": false,
     "input": [
      "a"
     ],
     "language": "python",
     "metadata": {},
     "outputs": [
      {
       "metadata": {},
       "output_type": "pyout",
       "prompt_number": 6,
       "text": [
        "[0, 0, 1]"
       ]
      }
     ],
     "prompt_number": 6
    },
    {
     "cell_type": "code",
     "collapsed": false,
     "input": [
      "a[0] = 1"
     ],
     "language": "python",
     "metadata": {},
     "outputs": [],
     "prompt_number": 7
    },
    {
     "cell_type": "code",
     "collapsed": false,
     "input": [
      "a"
     ],
     "language": "python",
     "metadata": {},
     "outputs": [
      {
       "metadata": {},
       "output_type": "pyout",
       "prompt_number": 8,
       "text": [
        "[1, 0, 1]"
       ]
      }
     ],
     "prompt_number": 8
    },
    {
     "cell_type": "code",
     "collapsed": false,
     "input": [
      "b"
     ],
     "language": "python",
     "metadata": {},
     "outputs": [
      {
       "metadata": {},
       "output_type": "pyout",
       "prompt_number": 9,
       "text": [
        "[1, 0, 1]"
       ]
      }
     ],
     "prompt_number": 9
    },
    {
     "cell_type": "heading",
     "level": 2,
     "metadata": {},
     "source": [
      "So to avoid duplicating references to the same list, you'd "
     ]
    },
    {
     "cell_type": "code",
     "collapsed": false,
     "input": [
      "import numpy as np\n",
      "\n",
      "def identityMatrix(rows):\n",
      "\n",
      "    matrix = [[0 for x in range(rows)] for y in range(rows)]\n",
      "    \n",
      "    for x in range(rows):\n",
      "        matrix[x][x] = 1\n",
      "\n",
      "    print np.matrix(matrix)\n",
      "\n",
      "identityMatrix(10)"
     ],
     "language": "python",
     "metadata": {},
     "outputs": [
      {
       "output_type": "stream",
       "stream": "stdout",
       "text": [
        "[[1 0 0 0 0 0 0 0 0 0]\n",
        " [0 1 0 0 0 0 0 0 0 0]\n",
        " [0 0 1 0 0 0 0 0 0 0]\n",
        " [0 0 0 1 0 0 0 0 0 0]\n",
        " [0 0 0 0 1 0 0 0 0 0]\n",
        " [0 0 0 0 0 1 0 0 0 0]\n",
        " [0 0 0 0 0 0 1 0 0 0]\n",
        " [0 0 0 0 0 0 0 1 0 0]\n",
        " [0 0 0 0 0 0 0 0 1 0]\n",
        " [0 0 0 0 0 0 0 0 0 1]]\n"
       ]
      }
     ],
     "prompt_number": 16
    },
    {
     "cell_type": "code",
     "collapsed": false,
     "input": [
      "def vectorMatrixMultiplication(vector,matrix):\n",
      "    \"\"\"\n",
      "    Multiply a vector with a matrix\n",
      "    \"\"\"\n",
      "    result = []\n",
      "\n",
      "    # Lock the column of the matrix\n",
      "    for col in range(len(matrix[0])):\n",
      "\t    \n",
      "\t    # Lock the row of the vector\n",
      "\t   \tsub_total = 0\n",
      "\t   \tfor row in range(len(vector)):\n",
      "\n",
      "\t   \t\tsub_total += vector[row] * matrix[row][col] \n",
      "\n",
      "\t\tresult.append(sub_total)\n",
      "    return result\n",
      "\n",
      "def matrixMultiplication(matrix1,matrix2):\n",
      "    \"\"\"\n",
      "    Mutliply two matrices\n",
      "    \"\"\"\n",
      "    answer = []\n",
      "    for x in range (len(matrix1)):\n",
      "        sub_vec = []\n",
      "\n",
      "        for y in range(len(matrix1[0])):\n",
      "            sub_vec.append(matrix1[x][y])\n",
      "\n",
      "        answer.append(vectorMatrixMultiplication(sub_vec,matrix2))\n",
      "\n",
      "    return answer"
     ],
     "language": "python",
     "metadata": {},
     "outputs": [],
     "prompt_number": 17
    },
    {
     "cell_type": "code",
     "collapsed": false,
     "input": [
      "m1 = [[1,2,3],[1,2,3],[1,2,3],[1,2,3]]\n",
      "m2 = [[1,2,3,4],[1,2,3,4],[1,2,3,4]]\n",
      "\n",
      "matrixMultiplication(m1,m2)"
     ],
     "language": "python",
     "metadata": {},
     "outputs": [
      {
       "metadata": {},
       "output_type": "pyout",
       "prompt_number": 19,
       "text": [
        "[[6, 12, 18, 24], [6, 12, 18, 24], [6, 12, 18, 24], [6, 12, 18, 24]]"
       ]
      }
     ],
     "prompt_number": 19
    },
    {
     "cell_type": "code",
     "collapsed": false,
     "input": [
      "import numpy as np\n",
      "\n",
      "np.matrix(m1) * np.matrix(m2)"
     ],
     "language": "python",
     "metadata": {},
     "outputs": [
      {
       "metadata": {},
       "output_type": "pyout",
       "prompt_number": 21,
       "text": [
        "matrix([[ 6, 12, 18, 24],\n",
        "        [ 6, 12, 18, 24],\n",
        "        [ 6, 12, 18, 24],\n",
        "        [ 6, 12, 18, 24]])"
       ]
      }
     ],
     "prompt_number": 21
    }
   ],
   "metadata": {}
  }
 ]
}
{
 "cells": [
  {
   "cell_type": "code",
   "execution_count": 1,
   "metadata": {
    "collapsed": false
   },
   "outputs": [],
   "source": [
    "from __future__ import unicode_literals, division\n",
    "\n",
    "import IPython\n",
    "import warnings\n",
    "import requests\n",
    "import numpy as np\n",
    "import pandas as pd\n",
    "import seaborn as sns\n",
    "import matplotlib as mpl\n",
    "import matplotlib.pyplot as plt\n",
    "\n",
    "from pylab import *\n",
    "from StringIO import StringIO\n",
    "from scipy.stats import rankdata\n",
    "from IPython.display import HTML\n",
    "from IPython.display import display as prnt\n",
    "\n",
    "# Notebook Options\n",
    "%matplotlib inline\n",
    "warnings.filterwarnings('ignore')\n",
    "np.set_printoptions(suppress=True)\n",
    "\n",
    "# Matplotlib Styles\n",
    "c = {'axes.labelsize': 17,\n",
    "'axes.titlesize': 16,\n",
    "'figure.figsize': [18, 8],\n",
    "'grid.linewidth': 1.6,\n",
    "'legend.fontsize': 17,\n",
    "'lines.linewidth': 2,\n",
    "'lines.markeredgewidth': 0.0,\n",
    "'lines.markersize': 11,\n",
    "'patch.linewidth': 0.5,\n",
    "'xtick.labelsize': 16,\n",
    "'xtick.major.pad': 20,\n",
    "'xtick.major.width': 2,\n",
    "'xtick.minor.width': 1,\n",
    "'ytick.labelsize': 16.0,\n",
    "'ytick.major.pad': 20,\n",
    "'ytick.major.width': 2,\n",
    "'ytick.minor.width': 1 }\n",
    "wide_c = dict(c, **{'figure.figsize':[20,8]})\n",
    "\n",
    "# Source Data\n",
    "id = '1GnTfMdu9LATsemrfHrnWepsVo-H6oma8AZPXgC7RU1k'\n",
    "url = 'https://docs.google.com/spreadsheets/d/' + id + '/export?format=csv&id'\n",
    "r = requests.get(url)\n",
    "df = pd.read_csv(StringIO(r.content), parse_dates=[u'Timestamp'])\n",
    "\n",
    "# Episode\n",
    "episode = lambda x : x - 1\n",
    "episode_no = episode(1)\n",
    "episode_list = df['Episode'].unique()\n",
    "episode_title = episode_list[episode_no]\n",
    "\n",
    "# Awards\n",
    "awards = ['Wit','Jockey','Bloodshed','Style','Support']\n",
    "award_votes = [a[:2]+str(n) for a in awards for n in range(1,4)]\n",
    "awards_points = [32,16,8]\n",
    "multiplier = [0.125,0,25,0.5,1,2,4,8]\n",
    "\n",
    "# Players\n",
    "id = '1DIVq4s9U_nfY3cHcknGjeV3iGpfW_zxUx-bjFNm4Ebo'\n",
    "url = 'https://docs.google.com/spreadsheets/d/' + id + '/export?format=csv&id'\n",
    "r = requests.get(url)\n",
    "bids = pd.read_csv(StringIO(r.content), parse_dates=[u'Timestamp'])\n",
    "\n",
    "# Merge in Names\n",
    "voting_records = df.merge(bids[['Name','Email Address']])\n",
    "\n",
    "# Data Cleaning\n",
    "voting_records.columns = ['Timestamp'] + award_votes + ['Email','Episode','Name']\n",
    "voting_records = voting_records[['Episode','Name'] + award_votes + ['Email','Timestamp']]\n",
    "\n",
    "# Utility Functions\n",
    "def table(df,replace_match=\"\",replace_str=\"\"):\n",
    "    return IPython.display.display(HTML(df.to_html().replace('<table border=\"1\" class=\"dataframe\">','<table class=\"table table-striped table-hover\">').replace(replace_match,replace_str)))\n",
    "\n",
    "# HTML Functions\n",
    "h1 = lambda x : prnt(HTML('''<h1 style=\"text-align:center\">'''+ x +'''</h1>'''))\n",
    "h2 = lambda x: prnt(HTML('''<h2 style=\"text-align:center\">'''+ x +'''</h2>'''))\n",
    "h2_success = lambda x: prnt(HTML('''<h2 style=\"text-align:center\" class=\"alert alert-success\">'''+ x +'''</h2>'''))\n",
    "\n",
    "h3_danger = lambda x: prnt(HTML('''<h3 style=\"text-align:center\" class=\"alert alert-danger\">'''+ x +'''</h3>'''))\n",
    "h3_info = lambda x: prnt(HTML('''<h3 style=\"text-align:center\" class=\"alert alert-info\">'''+ x +'''</h3>'''))\n",
    "h3_warning = lambda x: prnt(HTML('''<h3 style=\"text-align:center\" class=\"alert alert-warning\">'''+ x +'''</h3>'''))\n",
    "\n",
    "h3 = lambda x : prnt(HTML('''<h3 style=\"text-align:center\">'''+ x +'''</h3>'''))\n",
    "p  = lambda x : prnt(HTML('''<p class=\"text_cell_render\">'''+ x +'''</p>'''))\n",
    "\n",
    "md_wrap = lambda s, m, e: reduce(lambda x, y: x + \"\".join(y), zip(s.split(m), ['<'+e+'>','</'+e+'>'] * int(len(s)/2)), \"\")[:-4] if (m in s) else s\n",
    "md_b = lambda s : md_wrap(s,'**','b')\n",
    "md_i = lambda s :  md_wrap(s,'_','i')\n",
    "\n",
    "md = lambda s : md_i(md_b(s))\n",
    "\n",
    "def ul(lis):\n",
    "    lis = ['''<div class=\"panel panel-default\"><div class=\"panel-body\">''' + md(li) + '''</div></div>''' for li in lis]\n",
    "    prnt(HTML(\"\".join(lis)))"
   ]
  },
  {
   "cell_type": "code",
   "execution_count": null,
   "metadata": {
    "collapsed": false
   },
   "outputs": [],
   "source": []
  },
  {
   "cell_type": "code",
   "execution_count": null,
   "metadata": {
    "collapsed": false,
    "scrolled": false
   },
   "outputs": [],
   "source": []
  },
  {
   "cell_type": "code",
   "execution_count": 2,
   "metadata": {
    "collapsed": false
   },
   "outputs": [
    {
     "data": {
      "text/html": [
       "<h1 style=\"text-align:center\">ASCENSION | METRIC CHALLENGE</h1>"
      ],
      "text/plain": [
       "<IPython.core.display.HTML object>"
      ]
     },
     "metadata": {},
     "output_type": "display_data"
    }
   ],
   "source": [
    "h1('ASCENSION | METRIC CHALLENGE')"
   ]
  },
  {
   "cell_type": "code",
   "execution_count": 3,
   "metadata": {
    "collapsed": false
   },
   "outputs": [
    {
     "data": {
      "text/html": [
       "<h2 style=\"text-align:center\">5x01 : The Wars to Come</h2>"
      ],
      "text/plain": [
       "<IPython.core.display.HTML object>"
      ]
     },
     "metadata": {},
     "output_type": "display_data"
    }
   ],
   "source": [
    "h2(episode_title)"
   ]
  },
  {
   "cell_type": "code",
   "execution_count": 4,
   "metadata": {
    "collapsed": false
   },
   "outputs": [
    {
     "data": {
      "text/html": [
       "<script>\n",
       "\n",
       "code_show=true;\n",
       "\n",
       "function code_toggle() {\n",
       "    if (code_show){ \n",
       "        $('div.input').hide();\n",
       "        $('.output_scroll').removeClass('output_scroll');\n",
       "        $('.prompt').hide();\n",
       "    } else {\n",
       "        $('div.input').show();\n",
       "        $('.output_scroll').removeClass('output_scroll');\n",
       "        $('.prompt').show();\n",
       "    }\n",
       "    code_show = !code_show\n",
       "}\n",
       "</script>\n",
       " \n",
       "<a class='btn btn-warning btn-lg' style=\"margin:0 auto; display:block; max-width:320px\" href=\"javascript:code_toggle()\">TOGGLE CODE</a>"
      ],
      "text/plain": [
       "<IPython.core.display.HTML object>"
      ]
     },
     "execution_count": 4,
     "metadata": {},
     "output_type": "execute_result"
    }
   ],
   "source": [
    "HTML('''<script>\n",
    "\n",
    "code_show=true;\n",
    "\n",
    "function code_toggle() {\n",
    "    if (code_show){ \n",
    "        $('div.input').hide();\n",
    "        $('.output_scroll').removeClass('output_scroll');\n",
    "        $('.prompt').hide();\n",
    "    } else {\n",
    "        $('div.input').show();\n",
    "        $('.output_scroll').removeClass('output_scroll');\n",
    "        $('.prompt').show();\n",
    "    }\n",
    "    code_show = !code_show\n",
    "}\n",
    "</script>\n",
    " \n",
    "<a class='btn btn-warning btn-lg' style=\"margin:0 auto; display:block; max-width:320px\" href=\"javascript:code_toggle()\">TOGGLE CODE</a>''')"
   ]
  },
  {
   "cell_type": "markdown",
   "metadata": {},
   "source": [
    "Based on the Ascension dataset, team up with the classmates at your table, and explore the dataset, thinking of metrics that would be interesting to calculate. What are some of the 'awards' that you could give out to players and characters each episode. If there a difference between displaying metrics for a given episode vs. displaying them for the season? \n"
   ]
  },
  {
   "cell_type": "code",
   "execution_count": 5,
   "metadata": {
    "collapsed": false
   },
   "outputs": [
    {
     "data": {
      "text/html": [
       "<link href='http://fonts.googleapis.com/css?family=Roboto|Open+Sans' rel='stylesheet' type='text/css'>\n",
       "<style>\n",
       "body #notebook {\n",
       "    font-family : 'Open Sans','Source Sans Pro','Proxima Nova', sans-serif;\n",
       "    line-height: 1.4em;\n",
       "    font-size: 1.2em;\n",
       "    padding: 0 32px;\n",
       "    line-height: 1.8em;\n",
       "}\n",
       "\n",
       "#notebook h1,\n",
       "#notebook h2,\n",
       "#notebook h3,\n",
       "#notebook h4,\n",
       "#notebook h5 {\n",
       "    font-family : 'Roboto','Source Sans Pro','Proxima Nova', sans-serif;\n",
       "}\n",
       "\n",
       "\n",
       "#notebook .panel-body {\n",
       "  font-size: 1.1em;\n",
       "  line-height: 1.6em;\n",
       "}\n",
       "\n",
       "#notebook .table,\n",
       "#notebook .table th,\n",
       "#notebook .table td,\n",
       "#notebook .table tr {\n",
       "    text-align : center;\n",
       "    border: 0;\n",
       "    font-size: 1.5rem;\n",
       "    line-height: 2.2rem\n",
       "}\n",
       "</style>\n",
       "\n",
       "<script>\n",
       "$(function(){\n",
       "    code_toggle()\n",
       "    \n",
       "    // Temporary NBViewer Bug Fix     \n",
       "    $('#notebook-container > b').contents().unwrap();\n",
       "})\n",
       "</script>\n",
       "\n"
      ],
      "text/plain": [
       "<IPython.core.display.HTML object>"
      ]
     },
     "execution_count": 5,
     "metadata": {},
     "output_type": "execute_result"
    }
   ],
   "source": [
    "HTML('''<link href='http://fonts.googleapis.com/css?family=Roboto|Open+Sans' rel='stylesheet' type='text/css'>\n",
    "<style>\n",
    "body #notebook {\n",
    "    font-family : 'Open Sans','Source Sans Pro','Proxima Nova', sans-serif;\n",
    "    line-height: 1.4em;\n",
    "    font-size: 1.2em;\n",
    "    padding: 0 32px;\n",
    "    line-height: 1.8em;\n",
    "}\n",
    "\n",
    "#notebook h1,\n",
    "#notebook h2,\n",
    "#notebook h3,\n",
    "#notebook h4,\n",
    "#notebook h5 {\n",
    "    font-family : 'Roboto','Source Sans Pro','Proxima Nova', sans-serif;\n",
    "}\n",
    "\n",
    "\n",
    "#notebook .panel-body {\n",
    "  font-size: 1.1em;\n",
    "  line-height: 1.6em;\n",
    "}\n",
    "\n",
    "#notebook .table,\n",
    "#notebook .table th,\n",
    "#notebook .table td,\n",
    "#notebook .table tr {\n",
    "    text-align : center;\n",
    "    border: 0;\n",
    "    font-size: 1.5rem;\n",
    "    line-height: 2.2rem\n",
    "}\n",
    "</style>\n",
    "\n",
    "<script>\n",
    "$(function(){\n",
    "    code_toggle()\n",
    "    \n",
    "    // Temporary NBViewer Bug Fix     \n",
    "    $('#notebook-container > b').contents().unwrap();\n",
    "})\n",
    "</script>\n",
    "\n",
    "''')"
   ]
  }
 ],
 "metadata": {
  "kernelspec": {
   "display_name": "Python 2",
   "language": "python",
   "name": "python2"
  },
  "language_info": {
   "codemirror_mode": {
    "name": "ipython",
    "version": 2
   },
   "file_extension": ".py",
   "mimetype": "text/x-python",
   "name": "python",
   "nbconvert_exporter": "python",
   "pygments_lexer": "ipython2",
   "version": "2.7.9"
  }
 },
 "nbformat": 4,
 "nbformat_minor": 0
}

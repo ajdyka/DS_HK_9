{
 "metadata": {
  "name": "",
  "signature": "sha256:e2ee7ea6495ea32cd2f5a8b1f68bd6e0d7ebe35dc0138c05d40dbb0df214a092"
 },
 "nbformat": 3,
 "nbformat_minor": 0,
 "worksheets": [
  {
   "cells": [
    {
     "cell_type": "code",
     "collapsed": false,
     "input": [
      "%%javascript\n",
      "\n",
      "window.load_remote_theme = false\n",
      "var theme_url = \"https://drostehk.github.io/ipynb-theme/\";\n",
      "var asset_url = 'https://raw.githubusercontent.com/tijptjik/DS_assets/master/';\n",
      "\n",
      "window.load_local_theme = function(){\n",
      "    var hostname = document.location.hostname\n",
      "    return ((hostname == \"localhost\" || hostname == '127.0.0.1') && !load_remote_theme)\n",
      "}\n",
      "\n",
      "var url = load_local_theme() ? document.location.origin + \"/files/theme/custom.js\" : theme_url + 'custom.js'\n",
      "\n",
      "$.getScript(url)"
     ],
     "language": "python",
     "metadata": {},
     "outputs": [
      {
       "javascript": [
        "\n",
        "window.load_remote_theme = false\n",
        "var theme_url = \"https://drostehk.github.io/ipynb-theme/\";\n",
        "var asset_url = 'https://raw.githubusercontent.com/tijptjik/DS_assets/master/';\n",
        "\n",
        "window.load_local_theme = function(){\n",
        "    var hostname = document.location.hostname\n",
        "    return ((hostname == \"localhost\" || hostname == '127.0.0.1') && !load_remote_theme)\n",
        "}\n",
        "\n",
        "var url = load_local_theme() ? document.location.origin + \"/files/theme/custom.js\" : theme_url + 'custom.js'\n",
        "\n",
        "$.getScript(url)"
       ],
       "metadata": {},
       "output_type": "display_data",
       "text": [
        "<IPython.core.display.Javascript at 0x7f9d8015ad90>"
       ]
      }
     ],
     "prompt_number": 1
    },
    {
     "cell_type": "markdown",
     "metadata": {},
     "source": [
      "# Probability and Naive Bayes"
     ]
    },
    {
     "cell_type": "markdown",
     "metadata": {},
     "source": [
      "> Do not become an artist; be a Bayesian, much more scope for the imagination!\n",
      "\n",
      "<footer>~ Unknown</footer>"
     ]
    },
    {
     "cell_type": "markdown",
     "metadata": {},
     "source": [
      "![break](assets/agenda.png)"
     ]
    },
    {
     "cell_type": "markdown",
     "metadata": {},
     "source": [
      "1. [Probability](#Intro-to-Probability)\n",
      "1. [Naive Bayesian Classification](#Naive-Bayesian-Classification)\n",
      "\n",
      "** Labs **\n",
      "1. Implementing a Spam Filter"
     ]
    },
    {
     "cell_type": "markdown",
     "metadata": {},
     "source": [
      "![break](assets/theory.png)"
     ]
    },
    {
     "cell_type": "heading",
     "level": 2,
     "metadata": {},
     "source": [
      "Intro to Probability "
     ]
    },
    {
     "cell_type": "markdown",
     "metadata": {},
     "source": [
      "A **probability** is a number between 0 and 1 that characterizes the likelihood that\n",
      "some event will occur."
     ]
    },
    {
     "cell_type": "markdown",
     "metadata": {},
     "source": [
      "The probability of event $A$ is denoted $P(A)$."
     ]
    },
    {
     "cell_type": "markdown",
     "metadata": {},
     "source": [
      "**Examples**\n",
      "* The probability of getting heads on a coin flip is .5\n",
      "* The probability of picking the 1 red ball in a bag of 8 balls is .125"
     ]
    },
    {
     "cell_type": "markdown",
     "metadata": {},
     "source": [
      "The set of all possible events is called the **sample space** $\\Omega$. Event $A$ is a member of the sample space, as is every other event."
     ]
    },
    {
     "cell_type": "markdown",
     "metadata": {},
     "source": [
      "The probability of the sample space $P(\\Omega)$ is $1$."
     ]
    },
    {
     "cell_type": "markdown",
     "metadata": {},
     "source": [
      "Consider two events $A$ & $B$. We can characterize the **intersection** of these events with the joint probability of $A$ and $B$, written $P(AB)$."
     ]
    },
    {
     "cell_type": "markdown",
     "metadata": {},
     "source": [
      "The probability of rolling a die as an **odd($A$) prime ($B$)** number is ..."
     ]
    },
    {
     "cell_type": "markdown",
     "metadata": {},
     "source": [
      "    - 1 2 3 4 5 6\n",
      "    A:O E O E O E\n",
      "    B:N P P N P N"
     ]
    },
    {
     "cell_type": "markdown",
     "metadata": {},
     "source": [
      "The probability of rolling a die as an odd($A$) prime ($B$) number is 2/6, or .333"
     ]
    },
    {
     "cell_type": "markdown",
     "metadata": {},
     "source": [
      "    - 1 2 |3| 4 |5| 6\n",
      "    A:O E |O| E |O| E\n",
      "    B:N P |P| N |P| N"
     ]
    },
    {
     "cell_type": "markdown",
     "metadata": {},
     "source": [
      "What\u2019s the probability of rolling an **even prime** number?"
     ]
    },
    {
     "cell_type": "markdown",
     "metadata": {},
     "source": [
      "    - 1 |2| 3 4 5 6\n",
      "    A:O |E| O E O E\n",
      "    B:N |P| P N P N"
     ]
    },
    {
     "cell_type": "markdown",
     "metadata": {},
     "source": [
      "What\u2019s the probability of rolling an even prime number? 1/6 (.1667)"
     ]
    },
    {
     "cell_type": "heading",
     "level": 3,
     "metadata": {},
     "source": [
      "Conditional probability"
     ]
    },
    {
     "cell_type": "markdown",
     "metadata": {},
     "source": [
      "Suppose event B has occurred. The **intersection of A & B divided by region B** is what quantity represents the probability of A **given** this information about B."
     ]
    },
    {
     "cell_type": "markdown",
     "metadata": {},
     "source": [
      "> This information about B transforms the sample space. Take a moment to convince yourself of this!"
     ]
    },
    {
     "cell_type": "markdown",
     "metadata": {},
     "source": [
      "This is called the conditional probability of $A$ given $B$, written"
     ]
    },
    {
     "cell_type": "markdown",
     "metadata": {},
     "source": [
      "$$P(A|B) = \\frac{P(AB)}{P(B)}$$"
     ]
    },
    {
     "cell_type": "markdown",
     "metadata": {},
     "source": [
      "Notice, with this we can also write"
     ]
    },
    {
     "cell_type": "markdown",
     "metadata": {},
     "source": [
      "$$P(AB) = P(A|B) * P(B)$$"
     ]
    },
    {
     "cell_type": "markdown",
     "metadata": {},
     "source": [
      "Back to the roll problem: If someone rolls a prime number, what is the probability that\n",
      "they rolled an odd?"
     ]
    },
    {
     "cell_type": "markdown",
     "metadata": {},
     "source": [
      "$$P(AB) = P(odd \\space and \\space prime) = .333 (1/3, or \\space 2/6)$$\n"
     ]
    },
    {
     "cell_type": "markdown",
     "metadata": {},
     "source": [
      "$$P(B) = P(prime) = .5 (1/2, or \\space 3/6)$$"
     ]
    },
    {
     "cell_type": "markdown",
     "metadata": {},
     "source": [
      "If someone announces they rolled an even number, what is the probability that\n",
      "it was prime?"
     ]
    },
    {
     "cell_type": "markdown",
     "metadata": {},
     "source": [
      "$$P(AB) = P(even \\space and \\space prime) = .166 (1/6)$$"
     ]
    },
    {
     "cell_type": "markdown",
     "metadata": {},
     "source": [
      "$$P(B) = P(even) = .5 (1/2)$$"
     ]
    },
    {
     "cell_type": "markdown",
     "metadata": {},
     "source": [
      "$$P(A|B) = P(prime \\space given \\space even) = .166 / .5 = .333 (1/3)$$"
     ]
    },
    {
     "cell_type": "heading",
     "level": 3,
     "metadata": {},
     "source": [
      "Probability Review"
     ]
    },
    {
     "cell_type": "markdown",
     "metadata": {},
     "source": [
      "We have\n",
      "\n",
      "* 10 brown balls,\n",
      "* 15 brown cubes, \n",
      "* 18 green balls,\n",
      "* 25 green cubes \n",
      "\n",
      "in a bag. Michael takes an item out of the bag and announces..."
     ]
    },
    {
     "cell_type": "markdown",
     "metadata": {},
     "source": [
      "1. It\u2019s green. What\u2019s the probability it\u2019s a cube?\n",
      "1. It\u2019s brown. What\u2019s the probability it\u2019s a cube?\n",
      "1. It\u2019s a ball. What\u2019s the probability it\u2019s green?\n",
      "1. It\u2019s a cube. What\u2019s the probability it\u2019s a ball?"
     ]
    },
    {
     "cell_type": "heading",
     "level": 3,
     "metadata": {},
     "source": [
      "Bayesian Theorem"
     ]
    },
    {
     "cell_type": "markdown",
     "metadata": {},
     "source": [
      "When two events are **independent**, information about one does not affect the probability of the other."
     ]
    },
    {
     "cell_type": "markdown",
     "metadata": {},
     "source": [
      "This can be written as "
     ]
    },
    {
     "cell_type": "markdown",
     "metadata": {},
     "source": [
      "$$P(A|B) = P(A)$$"
     ]
    },
    {
     "cell_type": "markdown",
     "metadata": {},
     "source": [
      "However, when events are releated, we can use the definition of the conditional probability and also write:"
     ]
    },
    {
     "cell_type": "markdown",
     "metadata": {},
     "source": [
      "$$P(A|B) = P(AB) / P(B) \\rightarrow \\quad\\quad P(AB) = P(A) * P(B)$$"
     ]
    },
    {
     "cell_type": "heading",
     "level": 4,
     "metadata": {},
     "source": [
      "... in five steps"
     ]
    },
    {
     "cell_type": "markdown",
     "metadata": {},
     "source": [
      "$$\\text{start with}$$"
     ]
    },
    {
     "cell_type": "markdown",
     "metadata": {},
     "source": [
      "$$P(AB) = P(A|B) * P(B)$$"
     ]
    },
    {
     "cell_type": "markdown",
     "metadata": {},
     "source": [
      "$$\\text{by substitution}$$"
     ]
    },
    {
     "cell_type": "markdown",
     "metadata": {},
     "source": [
      "$$P(BA) = P(B|A) * P(A)$$"
     ]
    },
    {
     "cell_type": "markdown",
     "metadata": {},
     "source": [
      "$$\\text{since event AB = event BA}$$"
     ]
    },
    {
     "cell_type": "markdown",
     "metadata": {},
     "source": [
      "$$ \\quad P(AB) = P(BA) $$"
     ]
    },
    {
     "cell_type": "markdown",
     "metadata": {},
     "source": [
      "$$\\text{by combining the above}$$"
     ]
    },
    {
     "cell_type": "markdown",
     "metadata": {},
     "source": [
      "$$\\rightarrow P(A|B) * P(B) = P(B|A) * P(A)$$"
     ]
    },
    {
     "cell_type": "markdown",
     "metadata": {},
     "source": [
      "$$\\text{by rearranging last step}$$"
     ]
    },
    {
     "cell_type": "markdown",
     "metadata": {},
     "source": [
      "$$\\rightarrow P(A|B) = P(B|A) * P(A) / P(B)$$\n"
     ]
    },
    {
     "cell_type": "markdown",
     "metadata": {},
     "source": [
      "This result is called Bayes\u2019 theorem. Here it is again:"
     ]
    },
    {
     "cell_type": "markdown",
     "metadata": {},
     "source": [
      "$$P(A|B) =  \\frac{P(B|A) * P(A)}{P(B)}$$"
     ]
    },
    {
     "cell_type": "markdown",
     "metadata": {},
     "source": [
      "**Some facts**\n",
      "* This is a simple algebraic relationship using elementary definitions.\n",
      "* It\u2019s interesting because it\u2019s kind of a \u201cwormhole\u201d between two different\n",
      "\u201cinterpretations\u201d of probability.\n",
      "* It\u2019s a very powerful computational tool."
     ]
    },
    {
     "cell_type": "heading",
     "level": 4,
     "metadata": {},
     "source": [
      "Interpretations of Probability"
     ]
    },
    {
     "cell_type": "markdown",
     "metadata": {},
     "source": [
      "Briefly, the two interpretations can be described as follows:\n",
      "    \n",
      "* The **frequentist interpretation** regards an event\u2019s probability as its limiting frequency\n",
      "across a very large number of trials.\n",
      "* The **Bayesian interpretation** regards an event\u2019s probability as a \u201cdegree of belief,\u201d which\n",
      "can apply even to events that have not yet occurred.\n",
      "\n",
      "If this sounds crazy to you, don\u2019t worry...we won\u2019t dwell on the theoretical details.\n",
      "\n",
      "If this sounds interesting, there are plenty of resources available to learn more about Bayesian inference."
     ]
    },
    {
     "cell_type": "markdown",
     "metadata": {},
     "source": [
      "![resource](assets/bayesian_reasoning.png)[Bayesian Reasoning and Machine Learning](http://type.hk:2551/calibre/browse/book/428)"
     ]
    },
    {
     "cell_type": "markdown",
     "metadata": {},
     "source": [
      "This a good direction to head if you like math and/or if you\u2019re interested in learning about\n",
      "cutting-edge data science techniques."
     ]
    },
    {
     "cell_type": "markdown",
     "metadata": {},
     "source": [
      "![resource](assets/think_bayes.png)[Think Bayes](http://type.hk:2551/calibre/browse/book/360)"
     ]
    },
    {
     "cell_type": "markdown",
     "metadata": {},
     "source": [
      "![break](assets/theory.png)"
     ]
    },
    {
     "cell_type": "heading",
     "level": 2,
     "metadata": {},
     "source": [
      "The Bayesian state of mind"
     ]
    },
    {
     "cell_type": "markdown",
     "metadata": {},
     "source": [
      "Bayesian inference differs from more traditional statistical inference by preserving uncertainty."
     ]
    },
    {
     "cell_type": "markdown",
     "metadata": {},
     "source": [
      "* Belief (probability) measure as a property of an individual, not of Nature. This definition leaves room for conflicting beliefs between individuals. \n",
      "* Denote $N$ as the number of instances of evidence we possess. As we gather an infinite amount of evidence, say as $N\u2192\u221e$, our Bayesian results (often) align with frequentist results. Hence for large $N$, statistical inference is more or less objective. On the other hand, for small $N$, inference is much more unstable: frequentist estimates have more variance and larger confidence intervals. This is where Bayesian analysis excels. By introducing a prior, and returning probabilities (instead of a scalar estimate), we preserve the uncertainty that reflects the instability of statistical inference of a small $N$ dataset."
     ]
    },
    {
     "cell_type": "markdown",
     "metadata": {},
     "source": [
      "### Coin Flips"
     ]
    },
    {
     "cell_type": "code",
     "collapsed": false,
     "input": [
      "from IPython.display import YouTubeVideo\n",
      "YouTubeVideo('Zxm4Xxvzohk',width=840, height=520)"
     ],
     "language": "python",
     "metadata": {},
     "outputs": [
      {
       "html": [
        "\n",
        "        <iframe\n",
        "            width=\"840\"\n",
        "            height=520\"\n",
        "            src=\"https://www.youtube.com/embed/Zxm4Xxvzohk\"\n",
        "            frameborder=\"0\"\n",
        "            allowfullscreen\n",
        "        ></iframe>\n",
        "        "
       ],
       "metadata": {},
       "output_type": "pyout",
       "prompt_number": 2,
       "text": [
        "<IPython.lib.display.YouTubeVideo at 0x7f9d8015aa10>"
       ]
      }
     ],
     "prompt_number": 2
    },
    {
     "cell_type": "markdown",
     "metadata": {},
     "source": [
      "**Things to consider**\n",
      "* Flipping a coin to see if it\u2019s heads or tails is our **test** to see which coin was chosen.\n",
      "* Our probability can change **dependent** on previous results. Two heads in a row did not\n",
      "confirm anything, but only changed our perception of probability for each coin.\n",
      "* In more common Bayes Probability, tests will more commonly produce **false positives** and **false negatives**, where error comes into play."
     ]
    },
    {
     "cell_type": "code",
     "collapsed": false,
     "input": [
      "%matplotlib inline\n",
      "from IPython.core.pylabtools import figsize\n",
      "import numpy as np\n",
      "from matplotlib import pyplot as plt\n",
      "figsize(11, 9)\n",
      "\n",
      "import scipy.stats as stats\n",
      "\n",
      "dist = stats.beta\n",
      "n_trials = [0, 1, 2, 3, 4, 5, 8, 15, 50, 500]\n",
      "data = stats.bernoulli.rvs(0.5, size=n_trials[-1])\n",
      "x = np.linspace(0, 1, 100)\n",
      "\n",
      "# I'm using Binomial's conj. prior.\n",
      "for k, N in enumerate(n_trials):\n",
      "    sx = plt.subplot(len(n_trials) / 2, 2, k + 1)\n",
      "    plt.xlabel(\"$p$, probability of heads\") \\\n",
      "        if k in [0, len(n_trials) - 1] else None\n",
      "    plt.setp(sx.get_yticklabels(), visible=False)\n",
      "    heads = data[:N].sum()\n",
      "    y = dist.pdf(x, 1 + heads, 1 + N - heads)\n",
      "    plt.plot(x, y, label=\"observe %d tosses,\\n %d heads\" % (N, heads))\n",
      "    plt.fill_between(x, 0, y, color=\"#348ABD\", alpha=0.4)\n",
      "    plt.vlines(0.5, 0, 4, color=\"k\", linestyles=\"--\", lw=1)\n",
      "\n",
      "    leg = plt.legend()\n",
      "    leg.get_frame().set_alpha(0.4)\n",
      "    plt.autoscale(tight=True)\n",
      "\n",
      "\n",
      "plt.suptitle(\"Bayesian updating of posterior probabilities\",\n",
      "             y=1.02,\n",
      "             fontsize=14)\n",
      "\n",
      "plt.tight_layout()"
     ],
     "language": "python",
     "metadata": {},
     "outputs": [
      {
       "metadata": {},
       "output_type": "display_data",
       "png": "[encoded data removed]",
       "text": [
        "<matplotlib.figure.Figure at 0x7f9d5d00a850>"
       ]
      }
     ],
     "prompt_number": 5
    },
    {
     "cell_type": "markdown",
     "metadata": {},
     "source": [
      "The _posterior_ probabilities are represented by the curves, and our _uncertainty_ is proportional to the width of the curve. "
     ]
    },
    {
     "cell_type": "heading",
     "level": 3,
     "metadata": {},
     "source": [
      "Testing Code"
     ]
    },
    {
     "cell_type": "markdown",
     "metadata": {},
     "source": [
      "Your code either has a bug in it or not, but we do not know for certain which is true, though we have a belief about the presence or absence of a bug."
     ]
    },
    {
     "cell_type": "markdown",
     "metadata": {},
     "source": [
      "Let $A$ denote the event that our code has **no bugs** in it. Let $X$ denote the event that the code passes all debugging tests. For now, we will leave the prior probability of no bugs as a variable, i.e. $P(A) = p$. \n",
      "\n",
      "We are interested in $P(A|X)$, i.e. the probability of no bugs, given our debugging tests $X$. To use the formula above, we need to compute some quantities.\n",
      "\n",
      "What is $P(X | A)$, i.e., the probability that the code passes $X$ tests *given* there are no bugs? Well, it is equal to 1, for a code with no bugs will pass all tests. \n",
      "\n",
      "$P(X)$ is a little bit trickier: The event $X$ can be divided into two possibilities, event $X$ occurring even though our code *indeed has* bugs (denoted $\\sim A\\;$, spoken *not $A$*), or event $X$ without bugs ($A$). $P(X)$ can be represented as:"
     ]
    },
    {
     "cell_type": "markdown",
     "metadata": {},
     "source": [
      "\\begin{align}\n",
      "P(X ) & = P(X \\text{ and } A) + P(X \\text{ and } \\sim A) \\\\\\\\[5pt]\n",
      " & = P(X|A)P(A) + P(X | \\sim A)P(\\sim A)\\\\\\\\[5pt]\n",
      "& = P(X|A)p + P(X | \\sim A)(1-p)\n",
      "\\end{align}"
     ]
    },
    {
     "cell_type": "markdown",
     "metadata": {},
     "source": [
      "We have already computed $P(X|A)$ above. On the other hand, $P(X | \\sim A)$ is subjective: our code can pass tests but still have a bug in it, though the probability there is a bug present is reduced. Note this is dependent on the number of tests performed, the degree of complication in the tests, etc. Let's be conservative and assign $P(X|\\sim A) = 0.5$. Then\n",
      "\n",
      "\\begin{align}\n",
      "P(A | X) & = \\frac{1\\cdot p}{ 1\\cdot p +0.5 (1-p) } \\\\\\\\\n",
      "& = \\frac{ 2 p}{1+p}\n",
      "\\end{align}\n",
      "This is the posterior probability. What does it look like as a function of our prior, $p \\in [0,1]$? "
     ]
    },
    {
     "cell_type": "code",
     "collapsed": false,
     "input": [
      "figsize(12.5, 4)\n",
      "p = np.linspace(0, 1, 50)\n",
      "plt.plot(p, 2 * p / (1 + p), color=\"#348ABD\", lw=3)\n",
      "plt.fill_between(p, 2*p/(1+p), alpha=.5, facecolor=[\"#A60628\"])\n",
      "plt.scatter(0.2, 2 * (0.2) / 1.2, s=140, c=\"#348ABD\")\n",
      "plt.xlim(0, 1)\n",
      "plt.ylim(0, 1)\n",
      "plt.xlabel(\"Prior, $P(A) = p$\")\n",
      "plt.ylabel(\"Posterior, $P(A|X)$, with $P(A) = p$\")\n",
      "plt.title(\"Are there bugs in my code?\")"
     ],
     "language": "python",
     "metadata": {},
     "outputs": [
      {
       "metadata": {},
       "output_type": "pyout",
       "prompt_number": 10,
       "text": [
        "<matplotlib.text.Text at 0x7f9d5c1cf950>"
       ]
      },
      {
       "metadata": {},
       "output_type": "display_data",
       "png": "[encoded data removed]",
       "text": [
        "<matplotlib.figure.Figure at 0x7f9d5bbfab50>"
       ]
      }
     ],
     "prompt_number": 10
    },
    {
     "cell_type": "markdown",
     "metadata": {},
     "source": [
      "If our code passes $X$ tests, we want to update our belief to incorporate this. We call this new belief the posterior probability. "
     ]
    },
    {
     "cell_type": "markdown",
     "metadata": {},
     "source": [
      "$P(A)$: This big, complex code likely has a bug in it.\n",
      "$P(A|X)$: The code passed all $X$ tests; there still might be a bug, but its presence is less likely now."
     ]
    },
    {
     "cell_type": "markdown",
     "metadata": {},
     "source": [
      "We can see the biggest gains if we observe the $X$ tests passed when the prior probability, $p$, is low. Let's settle on a specific value for the prior. Let's say we're talking about a strong programmer, so a realistic prior is 0.20, that is, there is a 20% chance that the code is bug-free. To be more realistic, this prior should be a function of how complicated and large the code is, but let's pin it at 0.20. Then the updated belief that the code is bug-free is 0.33. \n",
      "\n",
      "Recall that the prior is a probability: $p$ is the prior probability that there *are no bugs*, so $1-p$ is the prior probability that there *are bugs*.\n",
      "\n",
      "Similarly, our posterior is also a probability, with $P(A | X)$ the probability there is no bug *given we saw all tests pass*, hence $1-P(A|X)$ is the probability there is a bug *given all tests passed*. What does our posterior probability look like? Below is a chart of both the prior and the posterior probabilities. \n"
     ]
    },
    {
     "cell_type": "code",
     "collapsed": false,
     "input": [
      "figsize(12.5, 4)\n",
      "colours = [\"#348ABD\", \"#A60628\"]\n",
      "\n",
      "prior = [0.20, 0.80]\n",
      "posterior = [1. / 3, 2. / 3]\n",
      "plt.bar([0, .7], prior, alpha=0.70, width=0.25,\n",
      "        color=colours[0], label=\"prior distribution\",\n",
      "        lw=\"3\", edgecolor=colours[0])\n",
      "\n",
      "plt.bar([0 + 0.25, .7 + 0.25], posterior, alpha=0.7,\n",
      "        width=0.25, color=colours[1],\n",
      "        label=\"posterior distribution\",\n",
      "        lw=\"3\", edgecolor=colours[1])\n",
      "\n",
      "plt.xticks([0.20, .95], [\"Bugs Absent\", \"Bugs Present\"])\n",
      "plt.title(\"Prior and Posterior probability of bugs present\")\n",
      "plt.ylabel(\"Probability\")\n",
      "plt.legend(loc=\"upper left\");"
     ],
     "language": "python",
     "metadata": {},
     "outputs": [
      {
       "metadata": {},
       "output_type": "display_data",
       "png": "[encoded data removed]",
       "text": [
        "<matplotlib.figure.Figure at 0x7f9d8017f250>"
       ]
      }
     ],
     "prompt_number": 11
    },
    {
     "cell_type": "heading",
     "level": 3,
     "metadata": {},
     "source": [
      "Disease Test"
     ]
    },
    {
     "cell_type": "markdown",
     "metadata": {},
     "source": [
      "* **Sample Population**: 100.000 \n",
      "* **Prevalence** in the general population: 1%\n",
      "* **Sensitivity**: 90%\n",
      "* **Specificity**: 99%\n"
     ]
    },
    {
     "cell_type": "markdown",
     "metadata": {},
     "source": [
      "![break](assets/theory.png)"
     ]
    },
    {
     "cell_type": "heading",
     "level": 2,
     "metadata": {},
     "source": [
      "Naive Bayesian Classification"
     ]
    },
    {
     "cell_type": "markdown",
     "metadata": {},
     "source": [
      "Suppose we have a dataset with features $x_{1}, \\ldots, x_{n}$ and a class label $C$. What can we\n",
      "say about classification using Bayes\u2019 theorem?"
     ]
    },
    {
     "cell_type": "markdown",
     "metadata": {},
     "source": [
      "$$P(class \\space C|\\{x_{i}\\}) = \\frac{P(\\{x_{i}\\}| class \\space C) * P(class \\space C)}{P(\\{x_{i}\\})}$$"
     ]
    },
    {
     "cell_type": "markdown",
     "metadata": {},
     "source": [
      "Bayes\u2019 theorem can help us to determine the probability of a record belonging to a class, given the data we observe."
     ]
    },
    {
     "cell_type": "markdown",
     "metadata": {},
     "source": [
      "Each term in this relationship has a name, and each plays a distinct role in any Bayesian\n",
      "calculation (including ours)."
     ]
    },
    {
     "cell_type": "heading",
     "level": 4,
     "metadata": {},
     "source": [
      "The Likelihood Function"
     ]
    },
    {
     "cell_type": "markdown",
     "metadata": {},
     "source": [
      "This term is the likelihood function. It represents the joint probability of observing features $\\{x_{i}\\}$ given that that record belongs to class $C$."
     ]
    },
    {
     "cell_type": "markdown",
     "metadata": {},
     "source": [
      "\u00a0$$P(class \\space C|\\{x_{i}\\}) = \\frac{\\rightarrow P(\\{x_{i}\\}| class \\space C) \\leftarrow * P(class \\space C)}{P(\\{x_{i}\\})}$$"
     ]
    },
    {
     "cell_type": "markdown",
     "metadata": {},
     "source": [
      "We can observe the value of the likelihood function from the training data."
     ]
    },
    {
     "cell_type": "heading",
     "level": 4,
     "metadata": {},
     "source": [
      "The Prior"
     ]
    },
    {
     "cell_type": "markdown",
     "metadata": {},
     "source": [
      "This term is the prior probability of $C$. It represents the probability of a record belonging to class $C$ before the data is taken into account."
     ]
    },
    {
     "cell_type": "markdown",
     "metadata": {},
     "source": [
      "\u00a0$$P(class \\space C|\\{x_{i}\\}) = \\frac{ P(\\{x_{i}\\}| class \\space C) * \\rightarrow P(class \\space C) \\leftarrow}{P(\\{x_{i}\\})}$$"
     ]
    },
    {
     "cell_type": "markdown",
     "metadata": {},
     "source": [
      "The value of the prior is also observed from the data."
     ]
    },
    {
     "cell_type": "heading",
     "level": 4,
     "metadata": {},
     "source": [
      "The normalization constant"
     ]
    },
    {
     "cell_type": "markdown",
     "metadata": {},
     "source": [
      "This term is the normalization constant. It doesn\u2019t depend on $C$, and is generally ignored until the end of the computation."
     ]
    },
    {
     "cell_type": "markdown",
     "metadata": {},
     "source": [
      "\u00a0$$P(class \\space C|\\{x_{i}\\}) = \\frac{ P(\\{x_{i}\\}| class \\space C) *  P(class \\space C)}{\\rightarrow P(\\{x_{i}\\}) \\leftarrow}$$"
     ]
    },
    {
     "cell_type": "markdown",
     "metadata": {},
     "source": [
      "The normalization constant doesn\u2019t tell us much."
     ]
    },
    {
     "cell_type": "heading",
     "level": 4,
     "metadata": {},
     "source": [
      "The Posterior"
     ]
    },
    {
     "cell_type": "markdown",
     "metadata": {},
     "source": [
      "This term is the posterior probability of $C$. It represents the probability of a record belonging to class $C$ after the data is taken into account."
     ]
    },
    {
     "cell_type": "markdown",
     "metadata": {},
     "source": [
      "\u00a0$$\\rightarrow P(class \\space C|\\{x_{i}\\}) \\leftarrow = \\frac{ P(\\{x_{i}\\}| class \\space C) *  P(class \\space C)}{P(\\{x_{i}\\})}$$"
     ]
    },
    {
     "cell_type": "markdown",
     "metadata": {},
     "source": [
      "The goal of any Bayesian computation is to find (\u201clearn\u201d) the posterior distribution of a\n",
      "particular variable."
     ]
    },
    {
     "cell_type": "markdown",
     "metadata": {},
     "source": [
      "The idea of Bayesian inference, then, is to **update** our beliefs about the distribution of C using the data (\u201cevidence\u201d) at our disposal."
     ]
    },
    {
     "cell_type": "markdown",
     "metadata": {},
     "source": [
      "Then we can use the posterior for prediction."
     ]
    },
    {
     "cell_type": "heading",
     "level": 3,
     "metadata": {},
     "source": [
      "A Quick Comparison"
     ]
    },
    {
     "cell_type": "markdown",
     "metadata": {},
     "source": [
      "| Methods               | Predictions     |\n",
      "|-----------------------|-----------------|\n",
      "| classical/frequentist | point estimates |\n",
      "| Bayesian              | distribution    |"
     ]
    },
    {
     "cell_type": "markdown",
     "metadata": {},
     "source": [
      "**Q: What piece of the puzzle we\u2019ve seen so far looks like it could intractably difficult in practice?**\n",
      "\n",
      "Remember the likelihood function?"
     ]
    },
    {
     "cell_type": "markdown",
     "metadata": {},
     "source": [
      "$$P(\\{x_{i}\\}|C) = P(\\{x_{1},x_{2}, \\dots , x_{n}\\})|C)$$"
     ]
    },
    {
     "cell_type": "markdown",
     "metadata": {},
     "source": [
      "Observing this exactly would require us to have enough data for every possible combination of features to make a reasonable estimate."
     ]
    },
    {
     "cell_type": "markdown",
     "metadata": {},
     "source": [
      "A: Estimating the full likelihood function."
     ]
    },
    {
     "cell_type": "markdown",
     "metadata": {},
     "source": [
      "In practice we can make a simplifying assumption. In particular, we assume that the features $x_{i}$ are conditionally independent from each other:"
     ]
    },
    {
     "cell_type": "markdown",
     "metadata": {},
     "source": [
      "$$P(\\{x_{i}\\}|C) = P(\\{x_{1},x_{2}, \\dots , x_{n}\\})|C) \\approx P(\\{x_{1} | C) * P(\\{x_{2} | C) * \\dots * P(\\{x_{n} | C))$$"
     ]
    },
    {
     "cell_type": "markdown",
     "metadata": {},
     "source": [
      "![break](assets/theory.png)"
     ]
    },
    {
     "cell_type": "heading",
     "level": 2,
     "metadata": {},
     "source": [
      "Implementing a Naive Bayesian Classification"
     ]
    },
    {
     "cell_type": "markdown",
     "metadata": {},
     "source": [
      "**Q: What is this classification best suited for?**\n",
      "\n",
      "A: More often than not, NaiveBayes makes a great text classifier.\n",
      "\n",
      "(Classic) Example: Classifying email as either spam or ham. In this example, the text available in emails are our features."
     ]
    },
    {
     "cell_type": "markdown",
     "metadata": {},
     "source": [
      "There are several ways to turn text into features:\n",
      "* Word counts\n",
      "* frequency matrices\n",
      "* term frequency\u2013inverse document frequency (tf-idf)\n",
      "\n",
      "It is also common to make alterations to this dictionary/features: dropping stop words, for\n",
      "example."
     ]
    },
    {
     "cell_type": "heading",
     "level": 4,
     "metadata": {},
     "source": [
      "(Classic) Example: Classifying email as either spam or ham"
     ]
    },
    {
     "cell_type": "markdown",
     "metadata": {},
     "source": [
      "| html | table | Nigerian | prince | lunch | break | U.S. | spam |\n",
      "|------|-------|----------|--------|-------|-------|------|------|\n",
      "| 1    | 1     | 1        | 1      | 0     | 0     | 1    | 1    |\n",
      "| 0    | 1     | 0        | 0      | 1     | 1     | 1    | 0    |"
     ]
    },
    {
     "cell_type": "markdown",
     "metadata": {},
     "source": [
      "Now we want to learn $P(word|spam)$ ie, what\u2019s the probability this word shows up given that it\u2019s spam?\n",
      "\n",
      "**This is what makes it supervised learning!**"
     ]
    },
    {
     "cell_type": "markdown",
     "metadata": {},
     "source": [
      "Now that we\u2019ve trained our data, we want to compute probability for each class (spam =\n",
      "1 and spam = 0)"
     ]
    },
    {
     "cell_type": "markdown",
     "metadata": {},
     "source": [
      "![break](assets/code.png)"
     ]
    },
    {
     "cell_type": "markdown",
     "metadata": {},
     "source": [
      "* Apply a Naive Bayes algorithm to a classification problem\n",
      "* Scoring classification algorithms using AUC\n",
      "* Work through the data mining workflow to build an insult classifier."
     ]
    },
    {
     "cell_type": "code",
     "collapsed": false,
     "input": [
      "%matplotlib inline\n",
      "import pandas as pd\n",
      "import numpy as np\n",
      "import matplotlib.pyplot as plt\n",
      "\n",
      "# Don't show deprecation warnings\n",
      "import warnings\n",
      "warnings.filterwarnings(\"ignore\", category=DeprecationWarning) \n",
      "\n",
      "# Set some Pandas options\n",
      "pd.set_option('max_columns', 30)\n",
      "pd.set_option('max_rows', 20)\n",
      "\n",
      "# Store data in a consistent place\n",
      "DATA_DIR = '../data/'"
     ],
     "language": "python",
     "metadata": {},
     "outputs": [],
     "prompt_number": 19
    },
    {
     "cell_type": "heading",
     "level": 3,
     "metadata": {},
     "source": [
      "Naive Bayes Application"
     ]
    },
    {
     "cell_type": "markdown",
     "metadata": {},
     "source": [
      "Like we did with KNN, let's use the Iris data set first to verify that the algorithm works as it should:"
     ]
    },
    {
     "cell_type": "code",
     "collapsed": false,
     "input": [
      "from sklearn import datasets, metrics\n",
      "from matplotlib import pyplot as plt"
     ],
     "language": "python",
     "metadata": {},
     "outputs": [],
     "prompt_number": 20
    },
    {
     "cell_type": "code",
     "collapsed": false,
     "input": [
      "iris = datasets.load_iris()\n",
      "\n",
      "from sklearn.naive_bayes import GaussianNB\n",
      "gnb = GaussianNB()\n",
      "\n",
      "y_pred = gnb.fit(iris.data, iris.target).predict(iris.data)\n",
      "\n",
      "print(\"Number of mislabeled points : %d\" % (iris.target != y_pred).sum())"
     ],
     "language": "python",
     "metadata": {},
     "outputs": [
      {
       "output_type": "stream",
       "stream": "stdout",
       "text": [
        "Number of mislabeled points : 6\n"
       ]
      }
     ],
     "prompt_number": 22
    },
    {
     "cell_type": "heading",
     "level": 3,
     "metadata": {},
     "source": [
      "ROC and AUC"
     ]
    },
    {
     "cell_type": "markdown",
     "metadata": {},
     "source": [
      "As we keep learning algorithms, we'll also approach various ways to score our algorithms. Above we used a simple mislabel count to determine a score: 6 mislabels/150 total or 144 right/150 total = .96 (obviously here, we want as close to 1 as possible).\n",
      "\n",
      "One way we can score a binary classification is by plotting the reciever operating characteristic and determining the value of the area under curve (AUC). Again, our goal is to see an AUC as close to 1 as possible.\n"
     ]
    },
    {
     "cell_type": "code",
     "collapsed": false,
     "input": [
      "from IPython.display import HTML\n",
      "HTML('<iframe src=http://www.navan.name/roc/ width=900 height=700></iframe>') "
     ],
     "language": "python",
     "metadata": {},
     "outputs": [
      {
       "html": [
        "<iframe src=http://www.navan.name/roc/ width=900 height=700></iframe>"
       ],
       "metadata": {},
       "output_type": "pyout",
       "prompt_number": 15,
       "text": [
        "<IPython.core.display.HTML at 0x7f9d5017edd0>"
       ]
      }
     ],
     "prompt_number": 15
    },
    {
     "cell_type": "code",
     "collapsed": false,
     "input": [
      "# Finding the false positive and true positive rates where the positive label is 2.\n",
      "fpr, tpr, thresholds = metrics.roc_curve(iris.target, y_pred, pos_label=2)\n",
      "# X-axis is False Positive Rate (1 - specificity)\n",
      "# Y-axis is True Positive Rate (sensitivity)\n",
      "print metrics.auc(fpr, tpr)\n",
      "plt.plot(fpr, tpr)\n",
      "plt.show()"
     ],
     "language": "python",
     "metadata": {},
     "outputs": [
      {
       "output_type": "stream",
       "stream": "stdout",
       "text": [
        "0.97\n"
       ]
      },
      {
       "metadata": {},
       "output_type": "display_data",
       "png": "[encoded data removed]",
       "text": [
        "<matplotlib.figure.Figure at 0x7f9d500a3990>"
       ]
      }
     ],
     "prompt_number": 18
    },
    {
     "cell_type": "markdown",
     "metadata": {},
     "source": [
      "![break](assets/voronoi.png)"
     ]
    },
    {
     "cell_type": "heading",
     "level": 3,
     "metadata": {},
     "source": [
      "Classwork"
     ]
    },
    {
     "cell_type": "markdown",
     "metadata": {},
     "source": [
      "As a class, let's go through all the steps to build an insult classifier based on the data available in the repo (train and test in the naiveBayes folder). Approach this problem like we'd approach any problem in class, and in the data science workflow:\n",
      "\n",
      "1. What does the data that we have look like?\n",
      "1. What is the goal--the question we're trying to answer?\n",
      "1. What does the data throughput have to look like?\n",
      "1. What are the steps to get us there?"
     ]
    },
    {
     "cell_type": "code",
     "collapsed": false,
     "input": [
      "\"\"\"\n",
      "Problem: Classify text as either an insult or not an insult\n",
      "Data: Training data with text that decides if the input was an insult or not.\n",
      "soooo.... this is a supervised learning Problem\n",
      "Classifier: Naive Bayes.\n",
      "\"\"\"\n",
      "# IMPORT MODULES\n",
      "from sklearn import naive_bayes, cross_validation, metrics\n",
      "from sklearn.feature_extraction.text import CountVectorizer"
     ],
     "language": "python",
     "metadata": {},
     "outputs": [],
     "prompt_number": 27
    },
    {
     "cell_type": "code",
     "collapsed": false,
     "input": [
      "######## LOAD DATA\n",
      "train = pd.read_csv(DATA_DIR + 'insults/train-utf8.csv')\n",
      "test = pd.read_csv(DATA_DIR + 'insults/test-utf8.csv')"
     ],
     "language": "python",
     "metadata": {},
     "outputs": [],
     "prompt_number": 28
    },
    {
     "cell_type": "code",
     "collapsed": false,
     "input": [
      "### Text data isn't useable in it's form. We need to vectorize text,\n",
      "# does it make more sense to get counts? maybe... a count vectorizer?\n",
      "\n",
      "# Search 'text count vectorizer' in google."
     ],
     "language": "python",
     "metadata": {},
     "outputs": []
    },
    {
     "cell_type": "code",
     "collapsed": false,
     "input": [
      "from IPython.display import HTML\n",
      "HTML('<iframe src=http://www.google.com/custom?q=text+count+vectorizer&qscrl=1 width=900 height=350></iframe>') "
     ],
     "language": "python",
     "metadata": {},
     "outputs": [
      {
       "html": [
        "<iframe src=http://www.google.com/custom?q=text+count+vectorizer&qscrl=1 width=900 height=350></iframe>"
       ],
       "metadata": {},
       "output_type": "pyout",
       "prompt_number": 24,
       "text": [
        "<IPython.core.display.HTML at 0x7f9d4a66c090>"
       ]
      }
     ],
     "prompt_number": 24
    },
    {
     "cell_type": "code",
     "collapsed": false,
     "input": [
      "# sklearn is the first hit!\n",
      "from IPython.display import HTML\n",
      "HTML('<iframe src=http://scikit-learn.org/stable/modules/generated/sklearn.feature_extraction.text.CountVectorizer.html width=900 height=500></iframe>') "
     ],
     "language": "python",
     "metadata": {},
     "outputs": [
      {
       "html": [
        "<iframe src=http://scikit-learn.org/stable/modules/generated/sklearn.feature_extraction.text.CountVectorizer.html width=900 height=500></iframe>"
       ],
       "metadata": {},
       "output_type": "pyout",
       "prompt_number": 25,
       "text": [
        "<IPython.core.display.HTML at 0x7f9d4a676410>"
       ]
      }
     ],
     "prompt_number": 25
    },
    {
     "cell_type": "code",
     "collapsed": false,
     "input": [
      "# Seems like there's a bunch of arguments, but tells me it makes a world count matrix.\n",
      "# Matrix sounds like a training set, so DONE HERE!\n",
      "\n",
      "# Some things I see it also does:\n",
      "\n",
      "# remove stop words. Neat!\n",
      "# ngram range: relatively useful, how many words to consider per feature.\n"
     ],
     "language": "python",
     "metadata": {},
     "outputs": []
    },
    {
     "cell_type": "code",
     "collapsed": false,
     "input": [
      "train"
     ],
     "language": "python",
     "metadata": {},
     "outputs": [
      {
       "html": [
        "<div style=\"max-height:1000px;max-width:1500px;overflow:auto;\">\n",
        "<table border=\"1\" class=\"dataframe\">\n",
        "  <thead>\n",
        "    <tr style=\"text-align: right;\">\n",
        "      <th></th>\n",
        "      <th>Insult</th>\n",
        "      <th>Date</th>\n",
        "      <th>Comment</th>\n",
        "    </tr>\n",
        "  </thead>\n",
        "  <tbody>\n",
        "    <tr>\n",
        "      <th>0   </th>\n",
        "      <td> 1</td>\n",
        "      <td> 20120618192155Z</td>\n",
        "      <td>                                You fuck your dad.</td>\n",
        "    </tr>\n",
        "    <tr>\n",
        "      <th>1   </th>\n",
        "      <td> 0</td>\n",
        "      <td> 20120528192215Z</td>\n",
        "      <td> i really don't understand your point.  It seem...</td>\n",
        "    </tr>\n",
        "    <tr>\n",
        "      <th>2   </th>\n",
        "      <td> 0</td>\n",
        "      <td>             NaN</td>\n",
        "      <td> A majority of Canadians can and has been wrong...</td>\n",
        "    </tr>\n",
        "    <tr>\n",
        "      <th>3   </th>\n",
        "      <td> 0</td>\n",
        "      <td>             NaN</td>\n",
        "      <td> listen if you dont wanna get married to a man ...</td>\n",
        "    </tr>\n",
        "    <tr>\n",
        "      <th>4   </th>\n",
        "      <td> 0</td>\n",
        "      <td> 20120619094753Z</td>\n",
        "      <td> C\u00e1c b\u1ea1n xu\u1ed1ng \u0111\u01b0\u1eddng bi\u1ec3u t\u00ecnh 2011 c\u00f3 \u00f4n ho\u00e0 k...</td>\n",
        "    </tr>\n",
        "    <tr>\n",
        "      <th>5   </th>\n",
        "      <td> 0</td>\n",
        "      <td> 20120620171226Z</td>\n",
        "      <td> @SDL OK, but I would hope they'd sign him to a...</td>\n",
        "    </tr>\n",
        "    <tr>\n",
        "      <th>6   </th>\n",
        "      <td> 0</td>\n",
        "      <td> 20120503012628Z</td>\n",
        "      <td>                       Yeah and where are you now?</td>\n",
        "    </tr>\n",
        "    <tr>\n",
        "      <th>7   </th>\n",
        "      <td> 1</td>\n",
        "      <td>             NaN</td>\n",
        "      <td> shut the fuck up. you and the rest of your fag...</td>\n",
        "    </tr>\n",
        "    <tr>\n",
        "      <th>8   </th>\n",
        "      <td> 1</td>\n",
        "      <td> 20120502173553Z</td>\n",
        "      <td> Either you are fake or extremely stupid...mayb...</td>\n",
        "    </tr>\n",
        "    <tr>\n",
        "      <th>9   </th>\n",
        "      <td> 1</td>\n",
        "      <td> 20120620160512Z</td>\n",
        "      <td> That you are an idiot who understands neither ...</td>\n",
        "    </tr>\n",
        "    <tr>\n",
        "      <th>...</th>\n",
        "      <td>...</td>\n",
        "      <td>...</td>\n",
        "      <td>...</td>\n",
        "    </tr>\n",
        "    <tr>\n",
        "      <th>3937</th>\n",
        "      <td> 0</td>\n",
        "      <td> 20120619145323Z</td>\n",
        "      <td> Your Yellowstone Fly Fishing Report:\\r\\n\\r\\n.....</td>\n",
        "    </tr>\n",
        "    <tr>\n",
        "      <th>3938</th>\n",
        "      <td> 0</td>\n",
        "      <td> 20120612001129Z</td>\n",
        "      <td> MrO,\\r\\n\\r\\nProof is shown by liberals not wan...</td>\n",
        "    </tr>\n",
        "    <tr>\n",
        "      <th>3939</th>\n",
        "      <td> 0</td>\n",
        "      <td> 20120619205630Z</td>\n",
        "      <td> The only ignorant person here is you, who thin...</td>\n",
        "    </tr>\n",
        "    <tr>\n",
        "      <th>3940</th>\n",
        "      <td> 0</td>\n",
        "      <td> 20120610114639Z</td>\n",
        "      <td>              oh i had many cars like this before.</td>\n",
        "    </tr>\n",
        "    <tr>\n",
        "      <th>3941</th>\n",
        "      <td> 0</td>\n",
        "      <td>             NaN</td>\n",
        "      <td> @Sara Besleaga Griji, doruri sau dorin\u021be... Au...</td>\n",
        "    </tr>\n",
        "    <tr>\n",
        "      <th>3942</th>\n",
        "      <td> 1</td>\n",
        "      <td> 20120502172717Z</td>\n",
        "      <td>   you are both morons and that is never happening</td>\n",
        "    </tr>\n",
        "    <tr>\n",
        "      <th>3943</th>\n",
        "      <td> 0</td>\n",
        "      <td> 20120528164814Z</td>\n",
        "      <td> Many toolbars include spell check, like Yahoo ...</td>\n",
        "    </tr>\n",
        "    <tr>\n",
        "      <th>3944</th>\n",
        "      <td> 0</td>\n",
        "      <td> 20120620142813Z</td>\n",
        "      <td> @LambeauOrWrigley  @K.Moss \\r\\nSioux Falls, S....</td>\n",
        "    </tr>\n",
        "    <tr>\n",
        "      <th>3945</th>\n",
        "      <td> 0</td>\n",
        "      <td> 20120528205648Z</td>\n",
        "      <td> How about Felix? He is sure turning into one h...</td>\n",
        "    </tr>\n",
        "    <tr>\n",
        "      <th>3946</th>\n",
        "      <td> 0</td>\n",
        "      <td> 20120515200734Z</td>\n",
        "      <td> You're all upset, defending this hipster band....</td>\n",
        "    </tr>\n",
        "  </tbody>\n",
        "</table>\n",
        "<p>3947 rows \u00d7 3 columns</p>\n",
        "</div>"
       ],
       "metadata": {},
       "output_type": "pyout",
       "prompt_number": 30,
       "text": [
        "      Insult             Date  \\\n",
        "0          1  20120618192155Z   \n",
        "1          0  20120528192215Z   \n",
        "2          0              NaN   \n",
        "3          0              NaN   \n",
        "4          0  20120619094753Z   \n",
        "5          0  20120620171226Z   \n",
        "6          0  20120503012628Z   \n",
        "7          1              NaN   \n",
        "8          1  20120502173553Z   \n",
        "9          1  20120620160512Z   \n",
        "...      ...              ...   \n",
        "3937       0  20120619145323Z   \n",
        "3938       0  20120612001129Z   \n",
        "3939       0  20120619205630Z   \n",
        "3940       0  20120610114639Z   \n",
        "3941       0              NaN   \n",
        "3942       1  20120502172717Z   \n",
        "3943       0  20120528164814Z   \n",
        "3944       0  20120620142813Z   \n",
        "3945       0  20120528205648Z   \n",
        "3946       0  20120515200734Z   \n",
        "\n",
        "                                                Comment  \n",
        "0                                    You fuck your dad.  \n",
        "1     i really don't understand your point.  It seem...  \n",
        "2     A majority of Canadians can and has been wrong...  \n",
        "3     listen if you dont wanna get married to a man ...  \n",
        "4     C\u00e1c b\u1ea1n xu\u1ed1ng \u0111\u01b0\u1eddng bi\u1ec3u t\u00ecnh 2011 c\u00f3 \u00f4n ho\u00e0 k...  \n",
        "5     @SDL OK, but I would hope they'd sign him to a...  \n",
        "6                           Yeah and where are you now?  \n",
        "7     shut the fuck up. you and the rest of your fag...  \n",
        "8     Either you are fake or extremely stupid...mayb...  \n",
        "9     That you are an idiot who understands neither ...  \n",
        "...                                                 ...  \n",
        "3937  Your Yellowstone Fly Fishing Report:\\r\\n\\r\\n.....  \n",
        "3938  MrO,\\r\\n\\r\\nProof is shown by liberals not wan...  \n",
        "3939  The only ignorant person here is you, who thin...  \n",
        "3940               oh i had many cars like this before.  \n",
        "3941  @Sara Besleaga Griji, doruri sau dorin\u021be... Au...  \n",
        "3942    you are both morons and that is never happening  \n",
        "3943  Many toolbars include spell check, like Yahoo ...  \n",
        "3944  @LambeauOrWrigley  @K.Moss \\r\\nSioux Falls, S....  \n",
        "3945  How about Felix? He is sure turning into one h...  \n",
        "3946  You're all upset, defending this hipster band....  \n",
        "\n",
        "[3947 rows x 3 columns]"
       ]
      }
     ],
     "prompt_number": 30
    },
    {
     "cell_type": "code",
     "collapsed": false,
     "input": [
      "########## TRANSFORM THE DATA: COUNT VECTORIZE, CLEANING\n",
      "vectorizer = CountVectorizer()\n",
      "vectorizer?\n",
      "X_train = vectorizer.fit_transform(train.Comment)\n",
      "X_test = vectorizer.transform(test.Comment)"
     ],
     "language": "python",
     "metadata": {},
     "outputs": [],
     "prompt_number": 29
    },
    {
     "cell_type": "markdown",
     "metadata": {},
     "source": [
      "The mapping is internally represented as "
     ]
    },
    {
     "cell_type": "code",
     "collapsed": false,
     "input": [
      "print X_train"
     ],
     "language": "python",
     "metadata": {},
     "outputs": [
      {
       "output_type": "stream",
       "stream": "stdout",
       "text": [
        "  (1700, 0)\t2\n",
        "  (323, 1)\t1\n",
        "  (763, 1)\t1\n",
        "  (1010, 1)\t1\n",
        "  (1366, 1)\t2\n",
        "  (2004, 1)\t11\n",
        "  (2156, 1)\t1\n",
        "  (2200, 1)\t1\n",
        "  (2314, 1)\t1\n",
        "  (2455, 1)\t1\n",
        "  (2569, 1)\t1\n",
        "  (3236, 1)\t2\n",
        "  (3248, 1)\t1\n",
        "  (3416, 1)\t1\n",
        "  (3569, 1)\t1\n",
        "  (1140, 2)\t1\n",
        "  (1992, 2)\t1\n",
        "  (2643, 2)\t1\n",
        "  (2834, 2)\t1\n",
        "  (718, 3)\t1\n",
        "  (1197, 4)\t1\n",
        "  (1923, 4)\t1\n",
        "  (1664, 5)\t1\n",
        "  (1820, 5)\t1\n",
        "  (1844, 5)\t1\n",
        "  :\t:\n",
        "  (3127, 15435)\t1\n",
        "  (3127, 15436)\t2\n",
        "  (3127, 15437)\t1\n",
        "  (538, 15438)\t1\n",
        "  (798, 15438)\t1\n",
        "  (3127, 15438)\t2\n",
        "  (798, 15439)\t2\n",
        "  (3127, 15440)\t1\n",
        "  (3127, 15441)\t1\n",
        "  (798, 15442)\t1\n",
        "  (3127, 15443)\t1\n",
        "  (4, 15444)\t1\n",
        "  (538, 15444)\t1\n",
        "  (1194, 15445)\t1\n",
        "  (1061, 15446)\t1\n",
        "  (3941, 15447)\t2\n",
        "  (3941, 15448)\t1\n",
        "  (2162, 15449)\t1\n",
        "  (2162, 15450)\t1\n",
        "  (2162, 15451)\t1\n",
        "  (2162, 15452)\t1\n",
        "  (2162, 15453)\t1\n",
        "  (2162, 15454)\t1\n",
        "  (2162, 15455)\t1\n",
        "  (3127, 15456)\t1\n"
       ]
      }
     ],
     "prompt_number": 23
    },
    {
     "cell_type": "code",
     "collapsed": false,
     "input": [
      "vectorizer.vocabulary_"
     ],
     "language": "python",
     "metadata": {},
     "outputs": [
      {
       "metadata": {},
       "output_type": "pyout",
       "prompt_number": 11,
       "text": [
        "{u'00': 0,\n",
        " u'000': 1,\n",
        " u'01': 2,\n",
        " u'014': 3,\n",
        " u'01k4wu4w': 4,\n",
        " u'02': 5,\n",
        " u'03': 6,\n",
        " u'034': 7,\n",
        " u'04': 8,\n",
        " u'05': 9,\n",
        " u'06': 10,\n",
        " u'0612': 11,\n",
        " u'07': 12,\n",
        " u'075': 13,\n",
        " u'08': 14,\n",
        " u'09': 15,\n",
        " u'0bama': 16,\n",
        " u'0bstructionism': 17,\n",
        " u'0f': 18,\n",
        " u'0ld': 19,\n",
        " u'10': 20,\n",
        " u'100': 21,\n",
        " u'1000': 22,\n",
        " u'10000': 23,\n",
        " u'100003979494271': 24,\n",
        " u'100k': 25,\n",
        " u'100st': 26,\n",
        " u'101': 27,\n",
        " u'102': 28,\n",
        " u'1022': 29,\n",
        " u'105': 30,\n",
        " u'109258118458627782001': 31,\n",
        " u'10k': 32,\n",
        " u'10mp': 33,\n",
        " u'10pm': 34,\n",
        " u'10th': 35,\n",
        " u'10x': 36,\n",
        " u'11': 37,\n",
        " u'110': 38,\n",
        " u'113': 39,\n",
        " u'114': 40,\n",
        " u'11th': 41,\n",
        " u'12': 42,\n",
        " u'120': 43,\n",
        " u'120k': 44,\n",
        " u'12th': 45,\n",
        " u'13': 46,\n",
        " u'1305811': 47,\n",
        " u'132457': 48,\n",
        " u'133': 49,\n",
        " u'1334936874': 50,\n",
        " u'135': 51,\n",
        " u'138': 52,\n",
        " u'1385': 53,\n",
        " u'14': 54,\n",
        " u'143': 55,\n",
        " u'144': 56,\n",
        " u'1492': 57,\n",
        " u'14s': 58,\n",
        " u'14th': 59,\n",
        " u'15': 60,\n",
        " u'150k': 61,\n",
        " u'151505': 62,\n",
        " u'159': 63,\n",
        " u'159th': 64,\n",
        " u'15k': 65,\n",
        " u'16': 66,\n",
        " u'160': 67,\n",
        " u'161968_314983278564179_1189018131_s': 68,\n",
        " u'168cm': 69,\n",
        " u'16e0d64a56b87e28cd7f00ebf32cc1ec': 70,\n",
        " u'16s': 71,\n",
        " u'17': 72,\n",
        " u'170': 73,\n",
        " u'1700s': 74,\n",
        " u'1712': 75,\n",
        " u'1744539': 76,\n",
        " u'1758': 77,\n",
        " u'176': 78,\n",
        " u'176mg': 79,\n",
        " u'18': 80,\n",
        " u'1800': 81,\n",
        " u'180lbs': 82,\n",
        " u'1866': 83,\n",
        " u'1868': 84,\n",
        " u'187': 85,\n",
        " u'18th': 86,\n",
        " u'19': 87,\n",
        " u'192': 88,\n",
        " u'1920': 89,\n",
        " u'1920s': 90,\n",
        " u'1924': 91,\n",
        " u'1928': 92,\n",
        " u'1930s': 93,\n",
        " u'1932': 94,\n",
        " u'1938': 95,\n",
        " u'1939': 96,\n",
        " u'1940': 97,\n",
        " u'1942': 98,\n",
        " u'1943': 99,\n",
        " u'1950': 100,\n",
        " u'1952': 101,\n",
        " u'1953': 102,\n",
        " u'1954': 103,\n",
        " u'1955': 104,\n",
        " u'1959': 105,\n",
        " u'1960': 106,\n",
        " u'1961': 107,\n",
        " u'1963': 108,\n",
        " u'1965': 109,\n",
        " u'1966': 110,\n",
        " u'1967': 111,\n",
        " u'1968': 112,\n",
        " u'1969': 113,\n",
        " u'1970': 114,\n",
        " u'1971': 115,\n",
        " u'1972': 116,\n",
        " u'1973': 117,\n",
        " u'1974': 118,\n",
        " u'1975': 119,\n",
        " u'1976': 120,\n",
        " u'1977': 121,\n",
        " u'1978': 122,\n",
        " u'1979': 123,\n",
        " u'198': 124,\n",
        " u'1980': 125,\n",
        " u'1980s': 126,\n",
        " u'1981': 127,\n",
        " u'1982': 128,\n",
        " u'1984': 129,\n",
        " u'1985': 130,\n",
        " u'1986': 131,\n",
        " u'1988': 132,\n",
        " u'1989': 133,\n",
        " u'1990': 134,\n",
        " u'1991': 135,\n",
        " u'1993': 136,\n",
        " u'1995': 137,\n",
        " u'1996': 138,\n",
        " u'1997': 139,\n",
        " u'1998': 140,\n",
        " u'1999': 141,\n",
        " u'19th': 142,\n",
        " u'19yo': 143,\n",
        " u'1am': 144,\n",
        " u'1ebc32c259d2b92db8558c827c2fef06': 145,\n",
        " u'1m': 146,\n",
        " u'1st': 147,\n",
        " u'1yr': 148,\n",
        " u'20': 149,\n",
        " u'200': 150,\n",
        " u'2000': 151,\n",
        " u'2001': 152,\n",
        " u'2002': 153,\n",
        " u'2003': 154,\n",
        " u'2005': 155,\n",
        " u'2007': 156,\n",
        " u'2008': 157,\n",
        " u'2009': 158,\n",
        " u'2010': 159,\n",
        " u'2011': 160,\n",
        " u'2012': 161,\n",
        " u'2012skeeter': 162,\n",
        " u'2014': 163,\n",
        " u'2016': 164,\n",
        " u'202': 165,\n",
        " u'2030': 166,\n",
        " u'2043': 167,\n",
        " u'2048': 168,\n",
        " u'20k': 169,\n",
        " u'20s': 170,\n",
        " u'20th': 171,\n",
        " u'21': 172,\n",
        " u'212': 173,\n",
        " u'21st': 174,\n",
        " u'22': 175,\n",
        " u'220': 176,\n",
        " u'227': 177,\n",
        " u'23': 178,\n",
        " u'2348887': 179,\n",
        " u'24': 180,\n",
        " u'24k': 181,\n",
        " u'25': 182,\n",
        " u'250': 183,\n",
        " u'256': 184,\n",
        " u'26': 185,\n",
        " u'260': 186,\n",
        " u'267': 187,\n",
        " u'2692': 188,\n",
        " u'27': 189,\n",
        " u'276507_199950953390996_326587_n': 190,\n",
        " u'28': 191,\n",
        " u'29': 192,\n",
        " u'2b': 193,\n",
        " u'2b0w': 194,\n",
        " u'2da': 195,\n",
        " u'2hot': 196,\n",
        " u'2nd': 197,\n",
        " u'2ne1': 198,\n",
        " u'2o12': 199,\n",
        " u'2pm': 200,\n",
        " u'2retire': 201,\n",
        " u'2st': 202,\n",
        " u'2veritas2': 203,\n",
        " u'30': 204,\n",
        " u'300': 205,\n",
        " u'3000': 206,\n",
        " u'30337': 207,\n",
        " u'305': 208,\n",
        " u'307': 209,\n",
        " u'30k': 210,\n",
        " u'31': 211,\n",
        " u'32': 212,\n",
        " u'320': 213,\n",
        " u'325': 214,\n",
        " u'3250': 215,\n",
        " u'329': 216,\n",
        " u'33': 217,\n",
        " u'330': 218,\n",
        " u'338': 219,\n",
        " u'34': 220,\n",
        " u'340': 221,\n",
        " u'343': 222,\n",
        " u'344': 223,\n",
        " u'34www': 224,\n",
        " u'35': 225,\n",
        " u'350': 226,\n",
        " u'357': 227,\n",
        " u'360': 228,\n",
        " u'36k': 229,\n",
        " u'37': 230,\n",
        " u'372': 231,\n",
        " u'38': 232,\n",
        " u'390px': 233,\n",
        " u'397': 234,\n",
        " u'398': 235,\n",
        " u'3abstractfireworks': 236,\n",
        " u'3cd1c74a2b0ffb32176086457dcf543a': 237,\n",
        " u'3rd': 238,\n",
        " u'3st': 239,\n",
        " u'3up': 240,\n",
        " u'3xgn4fpb': 241,\n",
        " u'40': 242,\n",
        " u'400': 243,\n",
        " u'401': 244,\n",
        " u'41': 245,\n",
        " u'4214': 246,\n",
        " u'429500a5a54600958c9c7ac032a37f66': 247,\n",
        " u'43': 248,\n",
        " u'44': 249,\n",
        " u'45': 250,\n",
        " u'46': 251,\n",
        " u'47': 252,\n",
        " u'470': 253,\n",
        " u'4701ba356a88very': 254,\n",
        " u'47s': 255,\n",
        " u'48': 256,\n",
        " u'49': 257,\n",
        " u'490378': 258,\n",
        " u'491': 259,\n",
        " u'4geting': 260,\n",
        " u'4st': 261,\n",
        " u'4th': 262,\n",
        " u'4x': 263,\n",
        " u'4yr': 264,\n",
        " u'50': 265,\n",
        " u'500': 266,\n",
        " u'5005': 267,\n",
        " u'50k': 268,\n",
        " u'50kg': 269,\n",
        " u'50s': 270,\n",
        " u'51': 271,\n",
        " u'52': 272,\n",
        " u'53': 273,\n",
        " u'5345b08d618e3b24c28ba7f032e9ef1a': 274,\n",
        " u'54': 275,\n",
        " u'55': 276,\n",
        " u'550': 277,\n",
        " u'55mm': 278,\n",
        " u'56': 279,\n",
        " u'5797428': 280,\n",
        " u'583241': 281,\n",
        " u'59203': 282,\n",
        " u'5k': 283,\n",
        " u'5m': 284,\n",
        " u'5n7oa_kk1iq': 285,\n",
        " u'5th': 286,\n",
        " u'60': 287,\n",
        " u'600': 288,\n",
        " u'6000': 289,\n",
        " u'60s': 290,\n",
        " u'628': 291,\n",
        " u'63': 292,\n",
        " u'63e5082f': 293,\n",
        " u'64': 294,\n",
        " u'640': 295,\n",
        " u'640px': 296,\n",
        " u'66': 297,\n",
        " u'666': 298,\n",
        " u'68c81a145181a6b3092221895a3fd1a9': 299,\n",
        " u'6ejga4kjuts': 300,\n",
        " u'6st': 301,\n",
        " u'70': 302,\n",
        " u'717': 303,\n",
        " u'719': 304,\n",
        " u'723': 305,\n",
        " u'72913781': 306,\n",
        " u'733': 307,\n",
        " u'734': 308,\n",
        " u'736': 309,\n",
        " u'737': 310,\n",
        " u'74': 311,\n",
        " u'75': 312,\n",
        " u'75244': 313,\n",
        " u'76': 314,\n",
        " u'768cfabe0589899e2e5c769b742f1fb1': 315,\n",
        " u'77': 316,\n",
        " u'77009': 317,\n",
        " u'777': 318,\n",
        " u'79': 319,\n",
        " u'7c1ff426e767c2e098e317fa8446755d': 320,\n",
        " u'7d': 321,\n",
        " u'7th': 322,\n",
        " u'80': 323,\n",
        " u'800': 324,\n",
        " u'80s': 325,\n",
        " u'815': 326,\n",
        " u'831': 327,\n",
        " u'85': 328,\n",
        " u'8500': 329,\n",
        " u'865c': 330,\n",
        " u'89': 331,\n",
        " u'8mm': 332,\n",
        " u'8ss': 333,\n",
        " u'90': 334,\n",
        " u'909': 335,\n",
        " u'90s': 336,\n",
        " u'911': 337,\n",
        " u'912': 338,\n",
        " u'93': 339,\n",
        " u'94': 340,\n",
        " u'96': 341,\n",
        " u'96c5fb8607cafbccfddb5df64c19cf9d': 342,\n",
        " u'97': 343,\n",
        " u'98': 344,\n",
        " u'980k': 345,\n",
        " u'99': 346,\n",
        " u'9mm': 347,\n",
        " u'9th': 348,\n",
        " u'9xz941': 349,\n",
        " u'______': 350,\n",
        " u'___________': 351,\n",
        " u'_________________________________________________________________________________________': 352,\n",
        " u'_beautifulflaws': 353,\n",
        " u'_fuck_off_nigger_you': 354,\n",
        " u'_go_eat_your_dog_you_pos_libtard': 355,\n",
        " u'_only_shit_and_millions_of_little_sperms_come_out_': 356,\n",
        " u'_yeah_i_bet_you': 357,\n",
        " u'a12': 358,\n",
        " u'a4': 359,\n",
        " u'a_traitor': 360,\n",
        " u'aaaaaaaaa0k': 361,\n",
        " u'aaaah': 362,\n",
        " u'aaahhh': 363,\n",
        " u'aac': 364,\n",
        " u'aamir': 365,\n",
        " u'aap': 366,\n",
        " u'aarongmyers': 367,\n",
        " u'ab': 368,\n",
        " u'abacha': 369,\n",
        " u'abandon': 370,\n",
        " u'abandoned': 371,\n",
        " u'abandonment': 372,\n",
        " u'abby': 373,\n",
        " u'abc': 374,\n",
        " u'abe': 375,\n",
        " u'abed': 376,\n",
        " u'abel': 377,\n",
        " u'aberdeen': 378,\n",
        " u'abetted': 379,\n",
        " u'abide': 380,\n",
        " u'abiding': 381,\n",
        " u'abigail': 382,\n",
        " u'abilities': 383,\n",
        " u'ability': 384,\n",
        " u'abit': 385,\n",
        " u'able': 386,\n",
        " u'abnormal': 387,\n",
        " u'abolish': 388,\n",
        " u'abolition': 389,\n",
        " u'abomination': 390,\n",
        " u'abominations': 391,\n",
        " u'abort': 392,\n",
        " u'aborted': 393,\n",
        " u'abortifacients': 394,\n",
        " u'abortion': 395,\n",
        " u'abortions': 396,\n",
        " u'about': 397,\n",
        " u'above': 398,\n",
        " u'abraham': 399,\n",
        " u'abroad': 400,\n",
        " u'abruptly': 401,\n",
        " u'abs': 402,\n",
        " u'abs0lutely': 403,\n",
        " u'abscam': 404,\n",
        " u'absence': 405,\n",
        " u'absolute': 406,\n",
        " u'absolutejoke': 407,\n",
        " u'absolutely': 408,\n",
        " u'abstaining': 409,\n",
        " u'absurd': 410,\n",
        " u'absurdly': 411,\n",
        " u'absurdum': 412,\n",
        " u'absurt': 413,\n",
        " u'aburrido': 414,\n",
        " u'abuse': 415,\n",
        " u'abused': 416,\n",
        " u'abuses': 417,\n",
        " u'abusing': 418,\n",
        " u'abusive': 419,\n",
        " u'abxxv25': 420,\n",
        " u'abysmal': 421,\n",
        " u'ac': 422,\n",
        " u'academic': 423,\n",
        " u'acc': 424,\n",
        " u'accent': 425,\n",
        " u'accept': 426,\n",
        " u'acceptable': 427,\n",
        " u'accepted': 428,\n",
        " u'accepting': 429,\n",
        " u'access': 430,\n",
        " u'accessible': 431,\n",
        " u'accessories': 432,\n",
        " u'accident': 433,\n",
        " u'accidental': 434,\n",
        " u'accidentally': 435,\n",
        " u'accidents': 436,\n",
        " u'accolades': 437,\n",
        " u'accomplish': 438,\n",
        " u'accomplished': 439,\n",
        " u'accomplishment': 440,\n",
        " u'accomplishments': 441,\n",
        " u'accordance': 442,\n",
        " u'according': 443,\n",
        " u'account': 444,\n",
        " u'accountability': 445,\n",
        " u'accountable': 446,\n",
        " u'accounts': 447,\n",
        " u'accumulate': 448,\n",
        " u'accurate': 449,\n",
        " u'accurately': 450,\n",
        " u'accusation': 451,\n",
        " u'accuse': 452,\n",
        " u'accused': 453,\n",
        " u'accuser': 454,\n",
        " u'accusing': 455,\n",
        " u'accustomed': 456,\n",
        " u'ace': 457,\n",
        " u'acha': 458,\n",
        " u'acheson': 459,\n",
        " u'achieve': 460,\n",
        " u'achievement': 461,\n",
        " u'achievements': 462,\n",
        " u'achieving': 463,\n",
        " u'acid': 464,\n",
        " u'aciddragon': 465,\n",
        " u'ackbar': 466,\n",
        " u'acknowledge': 467,\n",
        " u'acknowledged': 468,\n",
        " u'acknowledging': 469,\n",
        " u'acl': 470,\n",
        " u'acord\\xe9': 471,\n",
        " u'acquire': 472,\n",
        " u'acquired': 473,\n",
        " u'acquiring': 474,\n",
        " u'acquitted': 475,\n",
        " u'acres': 476,\n",
        " u'across': 477,\n",
        " u'act': 478,\n",
        " u'acted': 479,\n",
        " u'acting': 480,\n",
        " u'actio': 481,\n",
        " u'action': 482,\n",
        " u'actions': 483,\n",
        " u'actitud': 484,\n",
        " u'active': 485,\n",
        " u'actively': 486,\n",
        " u'activists': 487,\n",
        " u'activities': 488,\n",
        " u'activity': 489,\n",
        " u'actor': 490,\n",
        " u'actors': 491,\n",
        " u'actress': 492,\n",
        " u'acts': 493,\n",
        " u'actual': 494,\n",
        " u'actuality': 495,\n",
        " u'actually': 496,\n",
        " u'acute': 497,\n",
        " u'ad': 498,\n",
        " u'ada': 499,\n",
        " u'adage': 500,\n",
        " u'adam': 501,\n",
        " u'adam12': 502,\n",
        " u'adamant': 503,\n",
        " u'adamomars': 504,\n",
        " u'adapt': 505,\n",
        " u'adapted': 506,\n",
        " u'adaptible': 507,\n",
        " u'add': 508,\n",
        " u'added': 509,\n",
        " u'addict': 510,\n",
        " u'addicted': 511,\n",
        " u'addiction': 512,\n",
        " u'addicts': 513,\n",
        " u'adding': 514,\n",
        " u'addition': 515,\n",
        " u'additional': 516,\n",
        " u'additionally': 517,\n",
        " u'addled': 518,\n",
        " u'address': 519,\n",
        " u'addresses': 520,\n",
        " u'addressing': 521,\n",
        " u'adds': 522,\n",
        " u'adele': 523,\n",
        " u'adept': 524,\n",
        " u'adhere': 525,\n",
        " u'adherents': 526,\n",
        " u'adhoc': 527,\n",
        " u'adicted': 528,\n",
        " u'adidas': 529,\n",
        " u'adjust': 530,\n",
        " u'admin': 531,\n",
        " u'administration': 532,\n",
        " u'administrations': 533,\n",
        " u'administrative': 534,\n",
        " u'administrator': 535,\n",
        " u'adminstration': 536,\n",
        " u'admirably': 537,\n",
        " u'admiral': 538,\n",
        " u'admire': 539,\n",
        " u'admiring': 540,\n",
        " u'admit': 541,\n",
        " u'admits': 542,\n",
        " u'admitted': 543,\n",
        " u'admittedly': 544,\n",
        " u'admitting': 545,\n",
        " u'adolescent': 546,\n",
        " u'adolf': 547,\n",
        " u'adopt': 548,\n",
        " u'adopted': 549,\n",
        " u'adopting': 550,\n",
        " u'adoption': 551,\n",
        " u'adoptions': 552,\n",
        " u'adorable': 553,\n",
        " u'adult': 554,\n",
        " u'adulterer': 555,\n",
        " u'adulterers': 556,\n",
        " u'adultery': 557,\n",
        " u'adults': 558,\n",
        " u'adumbas': 559,\n",
        " u'advancement': 560,\n",
        " u'advancements': 561,\n",
        " u'advantage': 562,\n",
        " u'adverise': 563,\n",
        " u'adversaries': 564,\n",
        " u'adversary': 565,\n",
        " u'advertising': 566,\n",
        " u'advice': 567,\n",
        " u'advised': 568,\n",
        " u'adviser': 569,\n",
        " u'advisers': 570,\n",
        " u'advisor': 571,\n",
        " u'advocate': 572,\n",
        " u'advocates': 573,\n",
        " u'advocating': 574,\n",
        " u'ae479ceb1494fc0ba42da261fcea5830': 575,\n",
        " u'ae869fcb762589d1990f77ec79086493': 576,\n",
        " u'afar': 577,\n",
        " u'affair': 578,\n",
        " u'affairs': 579,\n",
        " u'affect': 580,\n",
        " u'affected': 581,\n",
        " u'affects': 582,\n",
        " u'afffects': 583,\n",
        " u'affiliate': 584,\n",
        " u'affiliation': 585,\n",
        " u'affirming': 586,\n",
        " u'affixed': 587,\n",
        " u'affluent': 588,\n",
        " u'affod': 589,\n",
        " u'afford': 590,\n",
        " u'afforded': 591,\n",
        " u'affraid': 592,\n",
        " u'affront': 593,\n",
        " u'afgans': 594,\n",
        " u'afghan': 595,\n",
        " u'afghanistan': 596,\n",
        " u'afiliados': 597,\n",
        " u'afixing': 598,\n",
        " u'aflack': 599,\n",
        " u'afraid': 600,\n",
        " u'africa': 601,\n",
        " u'african': 602,\n",
        " u'africans': 603,\n",
        " u'afrika': 604,\n",
        " u'afro': 605,\n",
        " u'after': 606,\n",
        " u'afterall': 607,\n",
        " u'aftermath': 608,\n",
        " u'afternoon': 609,\n",
        " u'afterward': 610,\n",
        " u'afterwards': 611,\n",
        " u'afucking': 612,\n",
        " u'afvet1991': 613,\n",
        " u'ag': 614,\n",
        " u'again': 615,\n",
        " u'again1': 616,\n",
        " u'agains': 617,\n",
        " u'against': 618,\n",
        " u'age': 619,\n",
        " u'aged': 620,\n",
        " u'agencies': 621,\n",
        " u'agency': 622,\n",
        " u'agenda': 623,\n",
        " u'agent': 624,\n",
        " u'agents': 625,\n",
        " u'ages': 626,\n",
        " u'aggie': 627,\n",
        " u'aggressive': 628,\n",
        " u'aginst': 629,\n",
        " u'agism': 630,\n",
        " u'ago': 631,\n",
        " u'agree': 632,\n",
        " u'agreed': 633,\n",
        " u'agreeing': 634,\n",
        " u'agreement': 635,\n",
        " u'agrees': 636,\n",
        " u'agriculture': 637,\n",
        " u'aguycommenting': 638,\n",
        " u'ah': 639,\n",
        " u'ahahah': 640,\n",
        " u'ahahahahah': 641,\n",
        " u'ahead': 642,\n",
        " u'ahem': 643,\n",
        " u'ahr19': 644,\n",
        " u'ahs': 645,\n",
        " u'ai': 646,\n",
        " u'aid': 647,\n",
        " u'aided': 648,\n",
        " u'aidr3zvzso4': 649,\n",
        " u'aids': 650,\n",
        " u'ail': 651,\n",
        " u'aimed': 652,\n",
        " u'aimless': 653,\n",
        " u'ain': 654,\n",
        " u'aint': 655,\n",
        " u'aipac': 656,\n",
        " u'air': 657,\n",
        " u'airbrush': 658,\n",
        " u'airchair': 659,\n",
        " u'aircraft': 660,\n",
        " u'airing': 661,\n",
        " u'airplane': 662,\n",
        " u'airport': 663,\n",
        " u'airwaves': 664,\n",
        " u'ajumoke': 665,\n",
        " u'ak': 666,\n",
        " u'ak47': 667,\n",
        " u'aka': 668,\n",
        " u'akklaim': 669,\n",
        " u'akp': 670,\n",
        " u'aktu\\xe1ln\\u011bj\\u0161\\xedho': 671,\n",
        " u'akuatuta': 672,\n",
        " u'akus': 673,\n",
        " u'al': 674,\n",
        " u'alabama': 675,\n",
        " u'alain': 676,\n",
        " u'alakda': 677,\n",
        " u'alan': 678,\n",
        " u'alarm': 679,\n",
        " u'alas': 680,\n",
        " u'alb': 681,\n",
        " u'alba\\xf1il': 682,\n",
        " u'album': 683,\n",
        " u'albums': 684,\n",
        " u'alcee': 685,\n",
        " u'alcohol': 686,\n",
        " u'alcoholic': 687,\n",
        " u'alcohols': 688,\n",
        " u'aldasity': 689,\n",
        " u'aldickweed': 690,\n",
        " u'aldickweeds': 691,\n",
        " u'aldri': 692,\n",
        " u'alec': 693,\n",
        " u'aleging': 694,\n",
        " u'aleisterhyde': 695,\n",
        " u'alejate': 696,\n",
        " u'alenlemone': 697,\n",
        " u'alert': 698,\n",
        " u'alessandra': 699,\n",
        " u'alex': 700,\n",
        " u'alexander': 701,\n",
        " u'alexis': 702,\n",
        " u'ali': 703,\n",
        " u'alice': 704,\n",
        " u'alien': 705,\n",
        " u'alienated': 706,\n",
        " u'alienates': 707,\n",
        " u'alienating': 708,\n",
        " u'aliens': 709,\n",
        " u'alienware': 710,\n",
        " u'alike': 711,\n",
        " u'alinsky': 712,\n",
        " u'alisterdog': 713,\n",
        " u'alive': 714,\n",
        " u'alkohol': 715,\n",
        " u'all': 716,\n",
        " u'alla': 717,\n",
        " u'allah': 718,\n",
        " u'allahpundit': 719,\n",
        " u'allan': 720,\n",
        " u'allegations': 721,\n",
        " u'alleged': 722,\n",
        " u'allegedly': 723,\n",
        " u'allegiance': 724,\n",
        " u'allen': 725,\n",
        " u'allergic': 726,\n",
        " u'allergies': 727,\n",
        " u'alley': 728,\n",
        " u'alliance': 729,\n",
        " u'alliances': 730,\n",
        " u'allies': 731,\n",
        " u'alligator': 732,\n",
        " u'allinit123': 733,\n",
        " u'allkpop': 734,\n",
        " u'alll': 735,\n",
        " u'allm\\xe4nna': 736,\n",
        " u'allocated': 737,\n",
        " u'allot': 738,\n",
        " u'allow': 739,\n",
        " u'allowed': 740,\n",
        " u'allowfullscreen': 741,\n",
        " u'allowing': 742,\n",
        " u'allows': 743,\n",
        " u'allowscriptaccess': 744,\n",
        " u'allra': 745,\n",
        " u'alls': 746,\n",
        " u'allt': 747,\n",
        " u'allways': 748,\n",
        " u'ally': 749,\n",
        " u'almajiris': 750,\n",
        " u'almighty': 751,\n",
        " u'almost': 752,\n",
        " u'alone': 753,\n",
        " u'along': 754,\n",
        " u'alot': 755,\n",
        " u'already': 756,\n",
        " u'alright': 757,\n",
        " u'also': 758,\n",
        " u'alsum': 759,\n",
        " u'alt': 760,\n",
        " u'alter': 761,\n",
        " u'alternate': 762,\n",
        " u'alternatives': 763,\n",
        " u'although': 764,\n",
        " u'altogether': 765,\n",
        " u'alumni': 766,\n",
        " u'always': 767,\n",
        " u'am': 768,\n",
        " u'ama': 769,\n",
        " u'amanda': 770,\n",
        " u'amateur': 771,\n",
        " u'amazaballs': 772,\n",
        " u'amazed': 773,\n",
        " u'amazement': 774,\n",
        " u'amazing': 775,\n",
        " u'amazzzzing': 776,\n",
        " u'ambassador': 777,\n",
        " u'amber': 778,\n",
        " u'ambition': 779,\n",
        " u'ambitious': 780,\n",
        " u'amd': 781,\n",
        " u'amen': 782,\n",
        " u'amendment': 783,\n",
        " u'amendments': 784,\n",
        " u'amends': 785,\n",
        " u'amerians': 786,\n",
        " u'america': 787,\n",
        " u'american': 788,\n",
        " u'american_you_pos': 789,\n",
        " u'americans': 790,\n",
        " u'americanthinker': 791,\n",
        " u'amerikan': 792,\n",
        " u'amerikans': 793,\n",
        " u'amid': 794,\n",
        " u'amir': 795,\n",
        " u'ammede': 796,\n",
        " u'ammunition': 797,\n",
        " u'amnesty': 798,\n",
        " u'among': 799,\n",
        " u'amoral': 800,\n",
        " u'amount': 801,\n",
        " u'amounted': 802,\n",
        " u'amounts': 803,\n",
        " u'amous': 804,\n",
        " u'amused': 805,\n",
        " u'amusement': 806,\n",
        " u'amuses': 807,\n",
        " u'amy': 808,\n",
        " u'an': 809,\n",
        " u'ana': 810,\n",
        " u'anachronism': 811,\n",
        " u'anal': 812,\n",
        " u'analogy': 813,\n",
        " u'analysis': 814,\n",
        " u'analyst': 815,\n",
        " u'anaphylactic': 816,\n",
        " u'anathema': 817,\n",
        " u'anc': 818,\n",
        " u'ancelotti': 819,\n",
        " u'ancestors': 820,\n",
        " u'ancient': 821,\n",
        " u'and': 822,\n",
        " u'andato': 823,\n",
        " u'anderson': 824,\n",
        " u'andf': 825,\n",
        " u'andi': 826,\n",
        " u'andignorant': 827,\n",
        " u'andino': 828,\n",
        " u'andrea': 829,\n",
        " u'andrew': 830,\n",
        " u'android': 831,\n",
        " u'andy': 832,\n",
        " u'andys': 833,\n",
        " u'anecdotal': 834,\n",
        " u'anelka': 835,\n",
        " u'aneurysm': 836,\n",
        " u'anew': 837,\n",
        " u'anf': 838,\n",
        " u'angel': 839,\n",
        " u'angeles': 840,\n",
        " u'angelic': 841,\n",
        " u'angelos': 842,\n",
        " u'angels': 843,\n",
        " u'anger': 844,\n",
        " u'angle': 845,\n",
        " u'anglo': 846,\n",
        " u'anglos': 847,\n",
        " u'angry': 848,\n",
        " u'angsty': 849,\n",
        " u'anh': 850,\n",
        " u'ani': 851,\n",
        " u'animal': 852,\n",
        " u'animals': 853,\n",
        " u'animation': 854,\n",
        " u'anime': 855,\n",
        " u'animosity': 856,\n",
        " u'animoto': 857,\n",
        " u'animus': 858,\n",
        " u'anna': 859,\n",
        " u'annabelle': 860,\n",
        " u'annagillmodel': 861,\n",
        " u'annars': 862,\n",
        " u'annat': 863,\n",
        " u'annavaram': 864,\n",
        " u'annie': 865,\n",
        " u'announced': 866,\n",
        " u'announcement': 867,\n",
        " u'announcements': 868,\n",
        " u'announcers': 869,\n",
        " u'annoy': 870,\n",
        " u'annoyed': 871,\n",
        " u'annoying': 872,\n",
        " u'annoys': 873,\n",
        " u'annual': 874,\n",
        " u'annul': 875,\n",
        " u'anointing': 876,\n",
        " u'anology': 877,\n",
        " u'anon': 878,\n",
        " u'anonymous': 879,\n",
        " u'anonymouse': 880,\n",
        " u'anonymously': 881,\n",
        " u'another': 882,\n",
        " u'anout': 883,\n",
        " u'ans': 884,\n",
        " u'anser': 885,\n",
        " u'answer': 886,\n",
        " u'answered': 887,\n",
        " u'answering': 888,\n",
        " u'answers': 889,\n",
        " u'ant': 890,\n",
        " u'antaga': 891,\n",
        " u'antagonize': 892,\n",
        " u'ante': 893,\n",
        " u'anthem': 894,\n",
        " u'anthems': 895,\n",
        " u'anthony': 896,\n",
        " u'anthropophagy': 897,\n",
        " u'anti': 898,\n",
        " u'anticipate': 899,\n",
        " u'anticipated': 900,\n",
        " u'antics': 901,\n",
        " u'antisemit': 902,\n",
        " u'antlers': 903,\n",
        " u'ants': 904,\n",
        " u'antunnaru': 905,\n",
        " u'anus': 906,\n",
        " u'any': 907,\n",
        " u'anya': 908,\n",
        " u'anybody': 909,\n",
        " u'anyday': 910,\n",
        " u'anyhow': 911,\n",
        " u'anymore': 912,\n",
        " u'anyone': 913,\n",
        " u'anyonr': 914,\n",
        " u'anyplace': 915,\n",
        " u'anything': 916,\n",
        " u'anytime': 917,\n",
        " u'anyway': 918,\n",
        " u'anyways': 919,\n",
        " u'anywhere': 920,\n",
        " u'apa': 921,\n",
        " u'apart': 922,\n",
        " u'apartment': 923,\n",
        " u'ape': 924,\n",
        " u'apes': 925,\n",
        " u'aplico': 926,\n",
        " u'apnay': 927,\n",
        " u'apni': 928,\n",
        " u'apo': 929,\n",
        " u'apocalyptic': 930,\n",
        " u'apologetic': 931,\n",
        " u'apologies': 932,\n",
        " u'apologise': 933,\n",
        " u'apologist': 934,\n",
        " u'apologists': 935,\n",
        " u'apologize': 936,\n",
        " u'apologizing': 937,\n",
        " u'apology': 938,\n",
        " u'apoplectic': 939,\n",
        " u'apostasy': 940,\n",
        " u'app': 941,\n",
        " u'appalachians': 942,\n",
        " u'appalling': 943,\n",
        " u'apparent': 944,\n",
        " u'apparently': 945,\n",
        " u'appeal': 946,\n",
        " u'appealing': 947,\n",
        " u'appear': 948,\n",
        " u'appearance': 949,\n",
        " u'appeared': 950,\n",
        " u'appearing': 951,\n",
        " u'appears': 952,\n",
        " u'appease': 953,\n",
        " u'appeasing': 954,\n",
        " u'appfog': 955,\n",
        " u'apple': 956,\n",
        " u'applegadget': 957,\n",
        " u'apples': 958,\n",
        " u'applicable': 959,\n",
        " u'application': 960,\n",
        " u'applied': 961,\n",
        " u'applies': 962,\n",
        " u'apply': 963,\n",
        " u'appointed': 964,\n",
        " u'appoints': 965,\n",
        " u'appreciate': 966,\n",
        " u'appreciates': 967,\n",
        " u'appreciation': 968,\n",
        " u'appreciative': 969,\n",
        " u'apprentice': 970,\n",
        " u'approaching': 971,\n",
        " u'appropriate': 972,\n",
        " u'approval48': 973,\n",
        " u'approve': 974,\n",
        " u'approved': 975,\n",
        " u'approvel': 976,\n",
        " u'approximately': 977,\n",
        " u'apps': 978,\n",
        " u'appt': 979,\n",
        " u'april': 980,\n",
        " u'aquila': 981,\n",
        " u'aquino': 982,\n",
        " u'aquire': 983,\n",
        " u'aquiring': 984,\n",
        " u'ar': 985,\n",
        " u'ar_rihanna': 986,\n",
        " u'ara': 987,\n",
        " u'arab': 988,\n",
        " u'arabia': 989,\n",
        " u'arabs': 990,\n",
        " u'aramis': 991,\n",
        " u'arar': 992,\n",
        " u'arbetas': 993,\n",
        " u'arbitrary': 994,\n",
        " u'arborist': 995,\n",
        " u'arborists': 996,\n",
        " u'arby': 997,\n",
        " u'arc': 998,\n",
        " u'arcade': 999,\n",
        " ...}"
       ]
      }
     ],
     "prompt_number": 11
    },
    {
     "cell_type": "code",
     "collapsed": false,
     "input": [
      "##### USE THE WORD COUNT MATRIX TO PREDICT INSULT/NOT INSULT (1/0)\n",
      "### BUILD A TRAINING AND TEST SET\n",
      "model = naive_bayes.MultinomialNB().fit(X_train, train.Insult.values)"
     ],
     "language": "python",
     "metadata": {},
     "outputs": [],
     "prompt_number": 31
    },
    {
     "cell_type": "code",
     "collapsed": false,
     "input": [
      "# other things I need to do... cross_validation, and hey, let's try getting the auc score!\n",
      "# google: cross validation sklearn"
     ],
     "language": "python",
     "metadata": {},
     "outputs": [],
     "prompt_number": 22
    },
    {
     "cell_type": "code",
     "collapsed": false,
     "input": [
      "from IPython.display import HTML\n",
      "HTML('<iframe src=http://www.google.com/custom?q=cross+validate+sklearn width=900 height=350></iframe>') "
     ],
     "language": "python",
     "metadata": {},
     "outputs": [
      {
       "html": [
        "<iframe src=http://www.google.com/custom?q=cross+validate+sklearn width=900 height=350></iframe>"
       ],
       "metadata": {},
       "output_type": "pyout",
       "prompt_number": 25,
       "text": [
        "<IPython.core.display.HTML at 0x295a450>"
       ]
      }
     ],
     "prompt_number": 25
    },
    {
     "cell_type": "code",
     "collapsed": false,
     "input": [
      "###### TEST RESULTS\n",
      "###### CROSS VALIDATE\n",
      "####### DISPLAY RESULTS: AUC TO CHECK FOR ERROR\n",
      "print cross_validation.cross_val_score(naive_bayes.MultinomialNB(), X_train, train.Insult)\n",
      "fpr, tpr, thresholds = metrics.roc_curve(train.Insult, model.predict(X_train), pos_label=1)\n",
      "print metrics.auc(fpr, tpr)"
     ],
     "language": "python",
     "metadata": {},
     "outputs": [
      {
       "output_type": "stream",
       "stream": "stdout",
       "text": [
        "[ 0.78799392  0.78647416  0.78859316]\n",
        "0.899660756802\n"
       ]
      }
     ],
     "prompt_number": 33
    },
    {
     "cell_type": "code",
     "collapsed": false,
     "input": [],
     "language": "python",
     "metadata": {},
     "outputs": []
    },
    {
     "cell_type": "code",
     "collapsed": false,
     "input": [],
     "language": "python",
     "metadata": {},
     "outputs": [
      {
       "metadata": {},
       "output_type": "pyout",
       "prompt_number": 29,
       "text": [
        "2235"
       ]
      }
     ],
     "prompt_number": 29
    },
    {
     "cell_type": "code",
     "collapsed": false,
     "input": [
      "######  OUTPUT RESULTS\n",
      "predictions = model.predict_proba(X_test)[:,1]\n",
      "predictions"
     ],
     "language": "python",
     "metadata": {},
     "outputs": [
      {
       "metadata": {},
       "output_type": "pyout",
       "prompt_number": 27,
       "text": [
        "array([ 0.25160818,  0.93542747,  0.00590668, ...,  0.17754247,\n",
        "        0.46883524,  0.18146517])"
       ]
      }
     ],
     "prompt_number": 27
    },
    {
     "cell_type": "markdown",
     "metadata": {},
     "source": [
      "Which pertain , in order, to"
     ]
    },
    {
     "cell_type": "code",
     "collapsed": false,
     "input": [
      "test.Comment"
     ],
     "language": "python",
     "metadata": {},
     "outputs": [
      {
       "metadata": {},
       "output_type": "pyout",
       "prompt_number": 19,
       "text": [
        "0                     like this if you are a tribe fan\n",
        "1                  you're idiot.......................\n",
        "2    I am a woman Babs, and the only \"war on women\"...\n",
        "3    WOW & YOU BENEFITTED SO MANY WINS THIS YEAR FR...\n",
        "4    haha green me red you now loser whos winning n...\n",
        "5    \\r\\nMe and God both hate-faggots.\\r\\n\\r\\nWhat'...\n",
        "6    Oh go kiss the ass of a goat....and you DUMMYC...\n",
        "7                      Not a chance Kid, you're wrong.\n",
        "...\n",
        "2227                         What a smug basket you are. \n",
        "2228    Hey, Nils, you are silent about Muslims killin...\n",
        "2229     You must have crack in your bong, as it ain't...\n",
        "2230    FUCKIN LAME COME ON WTF STOP FUCKING OVER MY B...\n",
        "2231    YOU SHUT YOUR IGNORANT PIE HOLE YOU LITTLE INS...\n",
        "2232    sweetie pie is looking very much like her cous...\n",
        "2233     ball4real where are you with your miami g-ayness\n",
        "2234    Man....if you are a 3 point shooter, you must ...\n",
        "Name: Comment, Length: 2235, dtype: object"
       ]
      }
     ],
     "prompt_number": 19
    },
    {
     "cell_type": "code",
     "collapsed": false,
     "input": [
      "submission = pd.DataFrame({'id' : test.id, 'insult': predictions})\n",
      "submission.to_csv(DATA_DIR + 'insults/submission.csv', index=False)"
     ],
     "language": "python",
     "metadata": {},
     "outputs": [
      {
       "ename": "NameError",
       "evalue": "name 'predictions' is not defined",
       "output_type": "pyerr",
       "traceback": [
        "\u001b[1;31m---------------------------------------------------------------------------\u001b[0m\n\u001b[1;31mNameError\u001b[0m                                 Traceback (most recent call last)",
        "\u001b[1;32m<ipython-input-34-310f32975285>\u001b[0m in \u001b[0;36m<module>\u001b[1;34m()\u001b[0m\n\u001b[1;32m----> 1\u001b[1;33m \u001b[0msubmission\u001b[0m \u001b[1;33m=\u001b[0m \u001b[0mpd\u001b[0m\u001b[1;33m.\u001b[0m\u001b[0mDataFrame\u001b[0m\u001b[1;33m(\u001b[0m\u001b[1;33m{\u001b[0m\u001b[1;34m'id'\u001b[0m \u001b[1;33m:\u001b[0m \u001b[0mtest\u001b[0m\u001b[1;33m.\u001b[0m\u001b[0mid\u001b[0m\u001b[1;33m,\u001b[0m \u001b[1;34m'insult'\u001b[0m\u001b[1;33m:\u001b[0m \u001b[0mpredictions\u001b[0m\u001b[1;33m}\u001b[0m\u001b[1;33m)\u001b[0m\u001b[1;33m\u001b[0m\u001b[0m\n\u001b[0m\u001b[0;32m      2\u001b[0m \u001b[0msubmission\u001b[0m\u001b[1;33m.\u001b[0m\u001b[0mto_csv\u001b[0m\u001b[1;33m(\u001b[0m\u001b[0mDATA_DIR\u001b[0m \u001b[1;33m+\u001b[0m \u001b[1;34m'insults/submission.csv'\u001b[0m\u001b[1;33m,\u001b[0m \u001b[0mindex\u001b[0m\u001b[1;33m=\u001b[0m\u001b[0mFalse\u001b[0m\u001b[1;33m)\u001b[0m\u001b[1;33m\u001b[0m\u001b[0m\n",
        "\u001b[1;31mNameError\u001b[0m: name 'predictions' is not defined"
       ]
      }
     ],
     "prompt_number": 34
    },
    {
     "cell_type": "markdown",
     "metadata": {},
     "source": [
      "![break](assets/resources.png)"
     ]
    },
    {
     "cell_type": "heading",
     "level": 2,
     "metadata": {},
     "source": [
      "Resources"
     ]
    },
    {
     "cell_type": "heading",
     "level": 3,
     "metadata": {},
     "source": [
      "Handbooks"
     ]
    },
    {
     "cell_type": "markdown",
     "metadata": {},
     "source": [
      "![resource](assets/think_bayes.png)[Think Bayes](http://type.hk:2551/calibre/browse/book/360)"
     ]
    },
    {
     "cell_type": "markdown",
     "metadata": {},
     "source": [
      "![resource](assets/bayesian_reasoning.png)[Bayesian Reasoning and Machine Learning](http://type.hk:2551/calibre/browse/book/428)"
     ]
    },
    {
     "cell_type": "heading",
     "level": 3,
     "metadata": {},
     "source": [
      "Lectures"
     ]
    },
    {
     "cell_type": "markdown",
     "metadata": {},
     "source": [
      "* [Bayesian Statistical Inference I (MIT)](http://video.mit.edu/watch/lecture-21-bayesian-statistical-inference-i-13188/)\n",
      "* [Bayesian Statistical Inference II (MIT)](http://video.mit.edu/watch/lecture-22-bayesian-statistical-inference-ii-13189/)"
     ]
    },
    {
     "cell_type": "heading",
     "level": 3,
     "metadata": {},
     "source": [
      "Articles"
     ]
    },
    {
     "cell_type": "markdown",
     "metadata": {},
     "source": [
      "* [Bayesian Statistics](http://zoe.bme.gatech.edu/~bv20/bmestat/Bank/bayes.pdf)\n",
      "* [Bayesian Inference](http://www.bayesian-inference.com/bayesian)\n",
      "* [Naive Bayes in SciKit Learn](http://scikit-learn.org/stable/modules/naive_bayes.html)\n",
      "* [The Optimality of Naive Bayes](http://www.cs.unb.ca/profs/hzhang/publications/FLAIRS04ZhangH.pdf)\n"
     ]
    },
    {
     "cell_type": "markdown",
     "metadata": {},
     "source": [
      "![](http://imgs.xkcd.com/comics/frequentists_vs_bayesians.png)"
     ]
    }
   ],
   "metadata": {}
  }
 ]
}
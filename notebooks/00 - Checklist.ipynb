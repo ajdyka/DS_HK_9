{
 "cells": [
  {
   "cell_type": "markdown",
   "metadata": {},
   "source": [
    "![](http://research.ncsu.edu/dsi/files/2014/10/data-science2.jpg)"
   ]
  },
  {
   "cell_type": "markdown",
   "metadata": {},
   "source": [
    "# Data Science Welcome"
   ]
  },
  {
   "cell_type": "markdown",
   "metadata": {},
   "source": [
    "## Logistics"
   ]
  },
  {
   "cell_type": "markdown",
   "metadata": {},
   "source": [
    "**Instructor** : Mart van de Ven\n",
    "\n",
    "**Contact** : m@type.hk // +852 9149 1764\n",
    "\n",
    "\n",
    "**Classes**\n",
    "* Monday & Wednesday, 19:00 - 22:00\n",
    "* Location : Robin Room, 8/F, The Garage, 33 Des Voex Road,  Central Hong Kong\n",
    "\n",
    "**Workload outside of class** : Roughly 4 hours a week"
   ]
  },
  {
   "cell_type": "markdown",
   "metadata": {},
   "source": [
    "## Course Structure"
   ]
  },
  {
   "cell_type": "markdown",
   "metadata": {},
   "source": [
    "### Course Objectives"
   ]
  },
  {
   "cell_type": "markdown",
   "metadata": {},
   "source": [
    "* Perform exploratory data analysis with powerful programmatic tools, python and command line.\n",
    "* Build and refine machine learning models to predict patterns from data sets.\n",
    "* Learn the language of data scientist to contribute as part of a data scientist team.\n",
    "* Communicate data driven insights to a non-technical audience.\n",
    "\n",
    "**Lots and lots of practice!**"
   ]
  },
  {
   "cell_type": "markdown",
   "metadata": {},
   "source": [
    "### Course Schedule"
   ]
  },
  {
   "cell_type": "markdown",
   "metadata": {},
   "source": [
    "```bash\n",
    "------------ INTRODUCTION ------------\n",
    "\n",
    "01 - Data Science Toolkit\n",
    "02 - Linear Algebra\n",
    "03 - Machine Learning\n",
    "04 - Exploratory Data Analysis\n",
    "\n",
    "------------ ESTIMATION ------------\n",
    "\n",
    "05 - Linear Regression\n",
    "06 - Polynomial Regression\n",
    "07 - Data Wrangling \n",
    "08 - Introduction to R\n",
    "09 - Group Project Presentations\n",
    "\n",
    "------------ MACHINE LEARNING ------------\n",
    "\n",
    "10 - Logistic Regression\n",
    "11 - kNN \n",
    "12 - Decision Trees\n",
    "13 - Random Forests\n",
    "14 - Network Analysis\n",
    "\n",
    "------------ REAL WORLD APPLICATIONS ------------\n",
    "\n",
    "15 - Feature Engineering I (PCA)\n",
    "   - Elevator Pitch Presentations\n",
    "16 - Feature Engineering II (Clustering)\n",
    "17 - Kaggle I (EDA)\n",
    "18 - Kaggle II (Feature Engineering)\n",
    "\n",
    "------------ FINAL PROJECTS ------------\n",
    "\n",
    "19 - Flex Class\n",
    "20 - Flex Class\n",
    "21 - Project Labs\n",
    "22 - Final Presentations\n",
    "```"
   ]
  },
  {
   "cell_type": "markdown",
   "metadata": {},
   "source": [
    "### Lesson Materials"
   ]
  },
  {
   "cell_type": "markdown",
   "metadata": {},
   "source": [
    "Distributed as **Jupyter Notebooks**\n",
    "\n",
    "Generally lesson materials will follow these guidelines:\n",
    "* Cover theory in the first half\n",
    "* Code demos which implement the theory\n",
    "* Assigned Homework excercises to check understanding \n",
    "* List materials and references for further reading"
   ]
  },
  {
   "cell_type": "markdown",
   "metadata": {},
   "source": [
    "Materials are available from [GitHub](https://github.com/ga-students/DS_HK_8/archive/gh-pages.zip)"
   ]
  },
  {
   "cell_type": "markdown",
   "metadata": {},
   "source": [
    "Sign up for GitHub if you haven't already and follow your instructional team:"
   ]
  },
  {
   "cell_type": "markdown",
   "metadata": {},
   "source": [
    "<h4 style=\"text-align:center\">**[TIJPTJIK](https://github.com/tijptjik)** & **[DICKSONK](https://github.com/DicksonK)\n",
    "** </h4>"
   ]
  },
  {
   "cell_type": "markdown",
   "metadata": {},
   "source": [
    "## Projects"
   ]
  },
  {
   "cell_type": "markdown",
   "metadata": {},
   "source": [
    "### Exploratory Data Analysis Project"
   ]
  },
  {
   "cell_type": "markdown",
   "metadata": {},
   "source": [
    "**Deliverable**: Jupyter Notebook, _due week 3_.\n",
    "\n",
    "* Provide a visual account of the dataset's peculiarities. \n",
    "* 4 Topics are provided with datasets - but check with us if you have a dataset you wish to use for this project.\n",
    "* Individual Assignment"
   ]
  },
  {
   "cell_type": "markdown",
   "metadata": {},
   "source": [
    "### Estimation Project"
   ]
  },
  {
   "cell_type": "markdown",
   "metadata": {},
   "source": [
    "**Deliverable**: Presentation to class, _due week 5_.\n",
    "\n",
    "* Estimation problem (regression)\n",
    "* 4 Topics are provided with datasets - but check with us if you have a dataset you wish to use for this project.\n",
    "* In Teams of Two\n",
    "* Inform **INSTRUCTORS** of your chosen pair by _week 3_, lest you be assigned a partner.\n",
    "\n",
    "[View Details](https://github.com/ga-students/DS_HK_8/blob/master/notebooks/AA%20-%20Group%20Assignment.ipynb)"
   ]
  },
  {
   "cell_type": "markdown",
   "metadata": {},
   "source": [
    "### Classification Project"
   ]
  },
  {
   "cell_type": "markdown",
   "metadata": {},
   "source": [
    "**Deliverable**: Jupyter Notebook, _due week 7_.\n",
    "\n",
    "* Classification problem (e.g. logistic regression, decision tree)\n",
    "* 4 Topics are provided with datasets - but check with us if you have a dataset you wish to use for this project.\n",
    "* Individual Assignment\n",
    "\n",
    "[View Details](https://github.com/ga-students/DS_HK_8/blob/master/notebooks/BB%20-%20Individual%20Assignment.ipynb)"
   ]
  },
  {
   "cell_type": "markdown",
   "metadata": {},
   "source": [
    "### Final Project"
   ]
  },
  {
   "cell_type": "markdown",
   "metadata": {},
   "source": [
    "**Deliverable**: Presentation to class and panel who will assess you on both the techical qualities of your project, as well as your ability to communicate its results, _due week 11_.\n",
    "\n",
    "For your final project, you will create a predictive model by doing the following:\n",
    "\n",
    "1. Acquire a real-world data set \n",
    "2. Form a hypothesis about it\n",
    "3. Clean it \n",
    "4. Parse it \n",
    "5. Apply modeling techniques and data analysis principles\n",
    "6. Your final presentation should include the following: \n",
    "\n",
    "    * A clearly articulated problem statement \n",
    "    * A summary of data acquisition, cleaning, and parsing stage \n",
    "    * Qualitative and quantitative market research \n",
    "    * A clear presentation of your predictive model and the processes you took to create it (10-15 minutes)\n",
    "    * Presentation style appropriate to the audience \n",
    "    \n",
    "[View Details](https://github.com/ga-students/DS_HK_8/blob/master/notebooks/XX%20-%20Course%20Project%20Brief.ipynb)"
   ]
  },
  {
   "cell_type": "markdown",
   "metadata": {},
   "source": [
    "# Checklist"
   ]
  },
  {
   "cell_type": "markdown",
   "metadata": {},
   "source": [
    "![](http://blog.coverall.com/wp-content/uploads/2014/06/checklist-shutterstock_156086177.jpg)"
   ]
  },
  {
   "cell_type": "markdown",
   "metadata": {},
   "source": [
    "Let's check these items off our list."
   ]
  },
  {
   "cell_type": "markdown",
   "metadata": {},
   "source": [
    "### Download the Course Files"
   ]
  },
  {
   "cell_type": "markdown",
   "metadata": {},
   "source": [
    "Let's start off with making a central place for your files"
   ]
  },
  {
   "cell_type": "markdown",
   "metadata": {},
   "source": [
    "All these commands are supposes to be run from a terminal.\n",
    "\n",
    "On OSX the default programme is called **`terminal`**:"
   ]
  },
  {
   "cell_type": "markdown",
   "metadata": {},
   "source": [
    "![](http://i.kinja-img.com/gawker-media/image/upload/qawcbzgm01l4qn3hpxss.jpg)"
   ]
  },
  {
   "cell_type": "markdown",
   "metadata": {},
   "source": [
    "on windows you can start **`cmd`**:"
   ]
  },
  {
   "cell_type": "markdown",
   "metadata": {},
   "source": [
    "![](http://winaero.com/blog/wp-content/uploads/2014/10/cmd-elevated-command-prompt-windows-10.png)"
   ]
  },
  {
   "cell_type": "markdown",
   "metadata": {},
   "source": [
    "You should be able to copy paste the following commands - don't type them yourself to avoid mistakes - on OSX, you can use your **`⌘ + V`** short-cut, on windows, right-click and select **`paste`** from the menu."
   ]
  },
  {
   "cell_type": "markdown",
   "metadata": {},
   "source": [
    "### 1. Create the DataBox directory in your user's home directory"
   ]
  },
  {
   "cell_type": "markdown",
   "metadata": {},
   "source": [
    "```bash\n",
    "# OSX\n",
    "mkdir $HOME/DataBox\n",
    "\n",
    "# Windows\n",
    "mkdir %HOMEPATH%\\DataBox\n",
    "```"
   ]
  },
  {
   "cell_type": "markdown",
   "metadata": {},
   "source": [
    "Your directory structure should now look like this, just an empty directory"
   ]
  },
  {
   "cell_type": "markdown",
   "metadata": {},
   "source": [
    "![](assets/step1.png)"
   ]
  },
  {
   "cell_type": "markdown",
   "metadata": {},
   "source": [
    "### 2. Download the Vagrantfile into `~/DataBox`"
   ]
  },
  {
   "cell_type": "markdown",
   "metadata": {},
   "source": [
    "Now let's get you your `Vagrantfile`"
   ]
  },
  {
   "cell_type": "markdown",
   "metadata": {},
   "source": [
    "```bash\n",
    "# OSX\n",
    "curl https://gist.githubusercontent.com/tijptjik/f592bf88d4e9f7b8b2cd/raw/0893014efec54c0d1cde4e00ecc72e6f99c0e72a/Vagrantfile > $HOME/DataBox/Vagrantfile\n",
    "\n",
    "# Windows\n",
    "# Windows doesn't have a reliable native way to download files from the terminal, so that means you're up human! \n",
    "```"
   ]
  },
  {
   "cell_type": "markdown",
   "metadata": {},
   "source": [
    "**Windows** : Open the [VagrantFile](https://gist.githubusercontent.com/tijptjik/f592bf88d4e9f7b8b2cd/raw/0893014efec54c0d1cde4e00ecc72e6f99c0e72a/), right-click, save-as Vagrantfile in the DataBox folder you created earlier which should be in your home folder."
   ]
  },
  {
   "cell_type": "markdown",
   "metadata": {},
   "source": [
    "Your directory structure should now look like this, just the `Vagrantfile` in it"
   ]
  },
  {
   "cell_type": "markdown",
   "metadata": {},
   "source": [
    "![](assets/step2.png)"
   ]
  },
  {
   "cell_type": "markdown",
   "metadata": {},
   "source": [
    "### 3. Download the course files into `~/DataBox/DS_HK_8`"
   ]
  },
  {
   "cell_type": "markdown",
   "metadata": {},
   "source": [
    "#### Online Notebooks"
   ]
  },
  {
   "cell_type": "markdown",
   "metadata": {},
   "source": [
    "The class materials are available as 'read-only' notebooks, at \n",
    "\n",
    "**[ga-students.github.io/DS_HK_8/](http://ga-students.github.io/DS_HK_8/)**\n",
    "\n",
    "However, in order to run python interactively, or to add your own notes to the materials, you'll need to download and serve the notebooks locally - that means, from your own laptop instead of hosted as an online website.\n",
    "\n",
    "Files are posted on [Github](https://github.com/ga-students/DS_HK_8), you can either\n",
    "\n",
    "* Use `git` if you are already familiar with it\n",
    "* If you don't know how to use `git` use the following steps:\n",
    "\n",
    "    1. [Download](https://github.com/ga-students/DS_HK_8/archive/gh-pages.zip) the latest class materials repository.\n",
    "    2. Unzip the **`DS_HK_8-gh-pages.zip`** anywhere.\n",
    "    3. Notice that the archive contains a folder names **`DS_HK_8-gh-pages`**\n",
    "    4. Rename this to **`DS_HK_8`**.\n",
    "    5. Move the folder **`DS_HK_8`** into **`~/DataBox`**.\n",
    "\n",
    "Once you have the files locally, put the directory (**`DS_HK_8`**) into `~/DataBox`"
   ]
  },
  {
   "cell_type": "markdown",
   "metadata": {},
   "source": [
    "Your directory structure should now look like this, with the **`DS_HK_8`** directly under **`DataBox`**."
   ]
  },
  {
   "cell_type": "markdown",
   "metadata": {},
   "source": [
    "![](assets/step3.png)"
   ]
  },
  {
   "cell_type": "markdown",
   "metadata": {},
   "source": [
    "### 4. Move package.box into `~/DataBox`"
   ]
  },
  {
   "cell_type": "markdown",
   "metadata": {},
   "source": [
    "If you have already downloaded the `package.box` Vagrant Box, then simply move it into **`~/DataBox`**."
   ]
  },
  {
   "cell_type": "markdown",
   "metadata": {},
   "source": [
    "If you haven't downloaded it yet, get it from [Google Drive](https://doc-0s-0g-docs.googleusercontent.com/docs/securesc/ha0ro937gcuc7l7deffksulhg5h7mbp1/dnicucnia00gdq084ro3h6mcf4fbih0h/1446372000000/01200024495081765176/*/0B4NMjhoRDH9vMGdFdnRwYUh6c1k?e=download). This contains an entire Operating System and all the software we'll be using in class, so it will take some time to download."
   ]
  },
  {
   "cell_type": "markdown",
   "metadata": {},
   "source": [
    "Your directory structure should now look like this, the most important part is that Vagrantfile and pacakge.box are next to each other."
   ]
  },
  {
   "cell_type": "markdown",
   "metadata": {},
   "source": [
    "![](assets/step4.png)"
   ]
  },
  {
   "cell_type": "markdown",
   "metadata": {},
   "source": [
    "### 5. Install VirtualBox"
   ]
  },
  {
   "cell_type": "markdown",
   "metadata": {},
   "source": [
    "Go to the [Virtualbox download](https://www.virtualbox.org/wiki/Downloads) page and download the appropriate binary. Open the binary and follow the installations instructions."
   ]
  },
  {
   "cell_type": "markdown",
   "metadata": {},
   "source": [
    "### 6. Install Vagrant"
   ]
  },
  {
   "cell_type": "markdown",
   "metadata": {},
   "source": [
    "Go the [Vagrant download](http://www.vagrantup.com/downloads.html) page and download the appropriate binary - choose the 64-bit version when given the choice. Open the binary and follow the installations instructions."
   ]
  },
  {
   "cell_type": "markdown",
   "metadata": {},
   "source": [
    "### 7. Importing the package.box into Vagrant"
   ]
  },
  {
   "cell_type": "markdown",
   "metadata": {},
   "source": [
    "Open a terminal and copy and paste the following command:"
   ]
  },
  {
   "cell_type": "markdown",
   "metadata": {},
   "source": [
    "```bash\n",
    "# OSX\n",
    "cd $HOME/DataBox && vagrant up --provider virtualbox\n",
    "\n",
    "# Windows\n",
    "cd %HOMEPATH%\\DataBox & vagrant up --provider virtualbox\n",
    "```"
   ]
  },
  {
   "cell_type": "markdown",
   "metadata": {},
   "source": [
    "To start, it'll look like this"
   ]
  },
  {
   "cell_type": "markdown",
   "metadata": {},
   "source": [
    "![](assets/step7.1.png)"
   ]
  },
  {
   "cell_type": "markdown",
   "metadata": {},
   "source": [
    "This will take about 10 minutes to complete depending on your machine. After runnning the command, your terminal should display something similar to"
   ]
  },
  {
   "cell_type": "markdown",
   "metadata": {},
   "source": [
    "![](assets/step7.2.png)"
   ]
  },
  {
   "cell_type": "markdown",
   "metadata": {},
   "source": [
    "### 8. Point a browser to localhost:8888 for the Jupyter index"
   ]
  },
  {
   "cell_type": "markdown",
   "metadata": {},
   "source": [
    "Open a browser at [localhost:8888](localhost:8888), it should show you a directory listing of the course files."
   ]
  },
  {
   "cell_type": "markdown",
   "metadata": {},
   "source": [
    "![](assets/step8.png)"
   ]
  },
  {
   "cell_type": "markdown",
   "metadata": {},
   "source": [
    "And you're done! "
   ]
  },
  {
   "cell_type": "markdown",
   "metadata": {},
   "source": [
    "## Daily Operation"
   ]
  },
  {
   "cell_type": "markdown",
   "metadata": {},
   "source": [
    "### Launching the DataBox"
   ]
  },
  {
   "cell_type": "markdown",
   "metadata": {},
   "source": [
    "Now that we've installed the virtual machine with Jupyter notebook server running on it, all we need to do is launch the virtual machine and visit localhost:8888 to access our files. So,"
   ]
  },
  {
   "cell_type": "markdown",
   "metadata": {
    "collapsed": true
   },
   "source": [
    "```bash\n",
    "# OSX\n",
    "cd DataBox && vagrant up\n",
    "\n",
    "# Windows\n",
    "cd DataBox & vagrant up\n",
    "```"
   ]
  },
  {
   "cell_type": "markdown",
   "metadata": {},
   "source": [
    "and head over to your [notebooks](http://localhost:8888/tree/notebooks) at `http://localhost:8888/tree/notebooks`"
   ]
  },
  {
   "cell_type": "markdown",
   "metadata": {},
   "source": [
    "At the end of a session, run"
   ]
  },
  {
   "cell_type": "markdown",
   "metadata": {},
   "source": [
    "```bash\n",
    "vagrant halt\n",
    "```"
   ]
  },
  {
   "cell_type": "markdown",
   "metadata": {},
   "source": [
    "to close the virtual machine and free up the RAM for the rest of your system to use."
   ]
  },
  {
   "cell_type": "markdown",
   "metadata": {},
   "source": [
    "**TIP** : Your terminal always keeps a history of your last commands, so if you don't use your terminal for anything else but to launch the DataBox, then just press the `UP` arrow key and the correct command should be retrieved from history'"
   ]
  },
  {
   "cell_type": "markdown",
   "metadata": {},
   "source": [
    "### Homework & Project Submission"
   ]
  },
  {
   "cell_type": "markdown",
   "metadata": {},
   "source": [
    "Send us your homework as a `gist` through [gist.github.com](https://gist.github.com/)"
   ]
  },
  {
   "cell_type": "markdown",
   "metadata": {},
   "source": [
    "1. Sign in with your GitHub Account\n",
    "2. Open your `.py` or `.ipynb` in a text editor, and copy paste it into the blank gist text area on gist.github.com\n",
    "3. If your project consists of multiple files, the `Add File` button on the bottom left is what you're looking for. Text-files only, so keep it simple."
   ]
  },
  {
   "cell_type": "markdown",
   "metadata": {},
   "source": [
    "## Colofon"
   ]
  },
  {
   "cell_type": "code",
   "execution_count": 2,
   "metadata": {
    "collapsed": false
   },
   "outputs": [
    {
     "name": "stdout",
     "output_type": "stream",
     "text": [
      "Python    2.7.10\n",
      "IPython   4.0.0\n",
      "numpy     1.10.1\n",
      "pandas    0.17.1\n",
      "sklearn   0.16.1\n",
      "seaborn   0.6.0\n"
     ]
    }
   ],
   "source": [
    "from utils import *\n",
    "print_versions()"
   ]
  },
  {
   "cell_type": "code",
   "execution_count": 3,
   "metadata": {
    "collapsed": false
   },
   "outputs": [
    {
     "data": {
      "text/html": [
       "\n",
       "<link rel=\"stylesheet\" href=\"theme/custom.css\">"
      ],
      "text/plain": [
       "<IPython.core.display.HTML object>"
      ]
     },
     "metadata": {},
     "output_type": "display_data"
    }
   ],
   "source": [
    "%%html\n",
    "\n",
    "<link rel=\"stylesheet\" href=\"theme/custom.css\">"
   ]
  }
 ],
 "metadata": {
  "kernelspec": {
   "display_name": "Python 2",
   "language": "python",
   "name": "python2"
  },
  "language_info": {
   "codemirror_mode": {
    "name": "ipython",
    "version": 2
   },
   "file_extension": ".py",
   "mimetype": "text/x-python",
   "name": "python",
   "nbconvert_exporter": "python",
   "pygments_lexer": "ipython2",
   "version": "2.7.10"
  }
 },
 "nbformat": 4,
 "nbformat_minor": 0
}

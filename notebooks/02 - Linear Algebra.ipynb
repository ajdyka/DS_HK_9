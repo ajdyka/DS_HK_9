{
 "cells": [
  {
   "cell_type": "markdown",
   "metadata": {
    "collapsed": false
   },
   "source": [
    "![](http://research.ncsu.edu/dsi/files/2014/10/data-science2.jpg)"
   ]
  },
  {
   "cell_type": "markdown",
   "metadata": {},
   "source": [
    "# Linear Algebra"
   ]
  },
  {
   "cell_type": "markdown",
   "metadata": {},
   "source": [
    "> If people do not believe that mathematics is simple, it is only because they do not realize how complicated life is\n",
    "\n",
    "<footer>~ John von Neumann, 1947 ACM keynote</footer>"
   ]
  },
  {
   "cell_type": "markdown",
   "metadata": {},
   "source": [
    "![break](assets/agenda.png)"
   ]
  },
  {
   "cell_type": "markdown",
   "metadata": {},
   "source": [
    "1. Linear Algebra Review\n",
    "1. The Python Control Flow\n",
    "\n",
    "**Labs** :\n",
    "1. Matrix Multiplication In Python\n",
    "1. Adding Control Flow Into Clicks Aggregation"
   ]
  },
  {
   "cell_type": "markdown",
   "metadata": {},
   "source": [
    "![break](assets/theory.png)"
   ]
  },
  {
   "cell_type": "markdown",
   "metadata": {},
   "source": [
    "## Linear Algebra Review"
   ]
  },
  {
   "cell_type": "markdown",
   "metadata": {},
   "source": [
    "In order to best understand most machine learning algorithms, we need some basis of linear algebra.\n",
    "\n",
    "> Linear algebra is best defined as mathematics in the multidimensional space and the mapping between said spaces."
   ]
  },
  {
   "cell_type": "markdown",
   "metadata": {},
   "source": [
    "### For Example"
   ]
  },
  {
   "cell_type": "markdown",
   "metadata": {},
   "source": [
    "$$y = mx + b$$"
   ]
  },
  {
   "cell_type": "markdown",
   "metadata": {},
   "source": [
    "$$y = m_{1}x_{1} + m_{2}x_{2} + b$$"
   ]
  },
  {
   "cell_type": "markdown",
   "metadata": {},
   "source": [
    "$$y = m_{1}x_{1} + m_{2}x_{2} + m_{3}x_{3} + m_{4}x_{4} + b$$"
   ]
  },
  {
   "cell_type": "markdown",
   "metadata": {},
   "source": [
    "$$y = m_{1}x_{1} + m_{2}x_{2} + m_{3}x_{3} + m_{4}x_{4} + m_{5}x_{5} + m_{6}x_{6} + m_{7}x_{7} + m_{8}x_{8} + m_{9}x_{9} + m_{10}x_{10} + b$$"
   ]
  },
  {
   "cell_type": "markdown",
   "metadata": {},
   "source": [
    "### Matrices"
   ]
  },
  {
   "cell_type": "markdown",
   "metadata": {},
   "source": [
    "> Matrices are an array of real numbers with m rows and n columns\n",
    "\n",
    "Each value in a matrix is called an entry."
   ]
  },
  {
   "cell_type": "markdown",
   "metadata": {},
   "source": [
    "$$\\begin{bmatrix}1 & 5 & 8 & 7\\\\2 & 1 & 3 & 6\\\\3 & 5 & 1 & 0\\\\4 & 6 & 0 & 1\\end{bmatrix}$$"
   ]
  },
  {
   "cell_type": "markdown",
   "metadata": {},
   "source": [
    "$A_{21}$ in the given matrix, refers to the entry on the 2nd row, in the 1st column. The value is 2. "
   ]
  },
  {
   "cell_type": "markdown",
   "metadata": {},
   "source": [
    "### Vectors"
   ]
  },
  {
   "cell_type": "markdown",
   "metadata": {},
   "source": [
    "> Vectors are a special kind of matrix, as they only consist of one dimension of real numbers.\n",
    "\n",
    "These look most like a numeric array (or **list**) in Python.\n",
    "\n",
    "$$\\begin{bmatrix}1 & 3 & 9 & 2\\end{bmatrix}$$\n",
    "\n",
    "Likewise, you can refer to each index or value similarly (`a[0]` in Python is the same entity as 0 in vector a)"
   ]
  },
  {
   "cell_type": "markdown",
   "metadata": {},
   "source": [
    "#### What can vectors capture?"
   ]
  },
  {
   "cell_type": "code",
   "execution_count": null,
   "metadata": {
    "collapsed": false
   },
   "outputs": [],
   "source": [
    "vec = [3.14159, 2.718281828, -1.0, 2.0]"
   ]
  },
  {
   "cell_type": "markdown",
   "metadata": {},
   "source": [
    "Another example: $GF(2)^5$ is set of 5-element bit sequences, e.g. [0,0,0,0,0], and"
   ]
  },
  {
   "cell_type": "code",
   "execution_count": null,
   "metadata": {
    "collapsed": false
   },
   "outputs": [],
   "source": [
    "[0,0,0,0,1]"
   ]
  },
  {
   "cell_type": "markdown",
   "metadata": {},
   "source": [
    "Let `WORDS` be the set of all English word"
   ]
  },
  {
   "cell_type": "markdown",
   "metadata": {},
   "source": [
    "In information retrieval, a document is represented (“bag of words” model) by a\n",
    "function"
   ]
  },
  {
   "cell_type": "markdown",
   "metadata": {},
   "source": [
    "$$f : WORDS \\rightarrow \\mathbb{R}$$"
   ]
  },
  {
   "cell_type": "markdown",
   "metadata": {},
   "source": [
    "specifying, for each word, how many times it appears in the document."
   ]
  },
  {
   "cell_type": "markdown",
   "metadata": {},
   "source": [
    "We often use Python’s dictionaries to represent such functions, e.g."
   ]
  },
  {
   "cell_type": "code",
   "execution_count": null,
   "metadata": {
    "collapsed": false
   },
   "outputs": [],
   "source": [
    "{0:3.14159, 1:2.718281828, 2:-1.0, 3:2.0}"
   ]
  },
  {
   "cell_type": "markdown",
   "metadata": {},
   "source": [
    "What about representing a WORDS-vector over $\\mathbb{R}$?\n",
    "\n",
    "For any single document, most words are not _represented_. They should be\n",
    "mapped to zero.\n",
    "\n",
    "Our convenient convention for representing vectors by dictionaries: allowed to\n",
    "omit key-value pairs when value is zero.\n",
    "\n",
    "**Example**\n",
    "\n",
    "> The rain in Spain falls mainly on the plain” would be represented by\n",
    "the dictionary"
   ]
  },
  {
   "cell_type": "code",
   "execution_count": null,
   "metadata": {
    "collapsed": false
   },
   "outputs": [],
   "source": [
    "{'on': 1, 'Spain': 1, 'in': 1, 'plain': 1, 'the': 2,\n",
    "'mainly': 1, 'rain': 1, 'falls': 1}"
   ]
  },
  {
   "cell_type": "markdown",
   "metadata": {},
   "source": [
    "* Document (for information retrieval)\n",
    "* Binary string (for cryptography/information theory)\n",
    "* Collection of attributes\n",
    "    - LegCo voting record\n",
    "    - Demographic record of a consumer\n",
    "    - characteristics of cancer cells\n",
    "* State of a system\n",
    "    - Population distribution in the world\n",
    "    - Number of copies of a virus in a computer network\n",
    "    - state of a game of Sudoku"
   ]
  },
  {
   "cell_type": "markdown",
   "metadata": {},
   "source": [
    "### Handling"
   ]
  },
  {
   "cell_type": "markdown",
   "metadata": {},
   "source": [
    "**Rule 1!**\n",
    "\n",
    "Matrices can be added together only when they are the same size. If they are not the same size, their sum is **undefined**.\n",
    "\n",
    "$$\\begin{bmatrix}1 & 3 & 9 & 2\\end{bmatrix} + \\begin{bmatrix}2 & 5 & 9 & 4\\end{bmatrix} = \n",
    "\\begin{bmatrix}3 & 8 & 18 & 6\\end{bmatrix} $$\n",
    "\n"
   ]
  },
  {
   "cell_type": "markdown",
   "metadata": {},
   "source": [
    "$$\\begin{bmatrix}8 & 72 & 3 & 1\\end{bmatrix} + \\begin{bmatrix}17 & 55 & 3 & 10\\end{bmatrix} = \n",
    " \\ ? $$"
   ]
  },
  {
   "cell_type": "markdown",
   "metadata": {},
   "source": [
    "**Rule 2!**\n",
    "\n",
    "Matrices can be multiplied by a scalar (single entity) value.\n",
    "\n",
    "> Each value in the matrix is multiplied by the scalar value.\n"
   ]
  },
  {
   "cell_type": "markdown",
   "metadata": {},
   "source": [
    "$$\\begin{bmatrix}1 & 3 & 9 & 2\\end{bmatrix} * 3 =\n",
    "\\begin{bmatrix}3 & 9 & 27 & 6\\end{bmatrix} $$\n"
   ]
  },
  {
   "cell_type": "markdown",
   "metadata": {},
   "source": [
    "$$\\begin{bmatrix}8 & 72 & 3 & 1\\end{bmatrix} * 2 = \\ ? $$\n"
   ]
  },
  {
   "cell_type": "markdown",
   "metadata": {},
   "source": [
    "**Rule 3!**\n",
    "\n",
    "Matrices and vectors can be multiplied together given that the matrix columns are as wide as the vector is long. \n",
    "\n",
    "> The result will always be a vector."
   ]
  },
  {
   "cell_type": "markdown",
   "metadata": {},
   "source": [
    "$$\\begin{bmatrix}1 & 3 & 9 & 2\\\\2 & 4 & 6 & 8\\end{bmatrix} * \\begin{bmatrix}2 \\\\ 3 \\\\ 6 \\\\ 5  \\end{bmatrix} = \\begin{matrix} 2 + 9 + 54 + 10 \\\\ 4 + 12 + 36 + 40 \\end{matrix} = \\begin{bmatrix} 75 \\\\ 92 \\end{bmatrix}$$"
   ]
  },
  {
   "cell_type": "markdown",
   "metadata": {},
   "source": [
    "**Rule 4!**\n",
    "\n",
    "Matrices can be multiplied together using the same rules that we have from matrix-vector multiplication.\n",
    "\n",
    "> The result will always be a matrix."
   ]
  },
  {
   "cell_type": "markdown",
   "metadata": {},
   "source": [
    "$$\\begin{bmatrix}1 & 3 & 9 & 2\\\\2 & 4 & 6 & 8\\end{bmatrix} * \\begin{bmatrix}2 & 1 \\\\ 3 & 2 \\\\ 6 & 0 \\\\ 5 & 4 \\end{bmatrix} = \\begin{matrix} 2 + 9 + 54 + 10 \\\\ 4 + 12 + 36 + 40 \\\\ 1 + 6 + 0 + 8 \\\\ 2 + 8 + 0 + 32\\end{matrix} = \\begin{bmatrix} 75 & 15 \\\\ 92 & 42 \\end{bmatrix}$$\n"
   ]
  },
  {
   "cell_type": "markdown",
   "metadata": {},
   "source": [
    "### That Was Fast... Why Does This Matter?"
   ]
  },
  {
   "cell_type": "markdown",
   "metadata": {},
   "source": [
    "Matrices represent the multiple dimensions in our data! If we had a vector that suggested how important each dimension of our data was, we could use that to find our best **linear model**."
   ]
  },
  {
   "cell_type": "markdown",
   "metadata": {},
   "source": [
    "**Rule 5!**\n",
    "\n",
    "When vectors are multiplied _item-wise_ , that is, each item for one vector is multiplied with the item in the same _position_ in another vector, it is called the **dot-product** of the two vectors."
   ]
  },
  {
   "cell_type": "markdown",
   "metadata": {},
   "source": [
    "Suppose D consists of four main ingredients of beer:\n",
    "\n",
    "```    \n",
    "D = {barley, hops, yeast,water}\n",
    "```\n",
    "\n",
    "A cost vector maps each food to a price per unit amount:\n",
    "```    \n",
    "cost = {barley : $0.5, hops : $0.5, yeast : $.28/g,water : $0.05}\n",
    "```\n",
    "A quantity vector maps each food to an amount (e.g. measured in pounds).\n",
    "```\n",
    "quantity = {barley:0.5 lbs, hops:0.2 oz, yeast:2.5 g, water:10 gallons}\n",
    "```\n",
    "The total cost is the dot-product of cost with quantity:\n",
    "```    \n",
    "cost · quantity = $0.5 · 0.5 + $0.5 · 0.2 + $0.28 · 2.5 + $0.05 · 10 = $1.55\n",
    "```\n",
    "A value vector maps each food to its caloric content per pound:\n",
    "```\n",
    "value = {barley : 544, hops : 101, yeast : 83,water : 0}\n",
    "```\n",
    "The total calories represented by a pint of beer is the dot-product of value with\n",
    "quantity:\n",
    "```\n",
    "value · quantity = 544 · 0.5 + 101 · 0.5 + 83 · 2.5+0 · 10 = 530\n",
    "```"
   ]
  },
  {
   "cell_type": "markdown",
   "metadata": {},
   "source": [
    "We will see matrices quite often in **all** of our data, so pay careful attention to how data is structured and how different algorithms interact with them."
   ]
  },
  {
   "cell_type": "markdown",
   "metadata": {},
   "source": [
    "![break](assets/code.png)"
   ]
  },
  {
   "cell_type": "markdown",
   "metadata": {},
   "source": [
    "## Python Control Flow"
   ]
  },
  {
   "cell_type": "markdown",
   "metadata": {},
   "source": [
    "### Control Flow"
   ]
  },
  {
   "cell_type": "markdown",
   "metadata": {},
   "source": [
    "Python has a number of control flow tools that will be familiar from other languages. \n",
    "\n",
    "> The first is the if-else statement, whose compound syntax looks like this:"
   ]
  },
  {
   "cell_type": "code",
   "execution_count": null,
   "metadata": {
    "collapsed": false
   },
   "outputs": [],
   "source": [
    "x, y = False, True"
   ]
  },
  {
   "cell_type": "code",
   "execution_count": null,
   "metadata": {
    "collapsed": false
   },
   "outputs": [],
   "source": [
    "if x:\n",
    "    print 'apollo'\n",
    "elif y:\n",
    "    print 'starbuck'\n",
    "else:\n",
    "    print 'adama'"
   ]
  },
  {
   "cell_type": "markdown",
   "metadata": {},
   "source": [
    "Next is the while loop. \n",
    "\n",
    "> This executes while a given condition evaluates to True.\n"
   ]
  },
  {
   "cell_type": "code",
   "execution_count": 12,
   "metadata": {
    "collapsed": false
   },
   "outputs": [],
   "source": [
    "x = 0"
   ]
  },
  {
   "cell_type": "code",
   "execution_count": 7,
   "metadata": {
    "collapsed": false
   },
   "outputs": [
    {
     "name": "stdout",
     "output_type": "stream",
     "text": [
      "Galactica\n",
      "Galactica\n",
      "Galactica\n"
     ]
    }
   ],
   "source": [
    "while True:\n",
    "    x += 1\n",
    "    if x > 3:\n",
    "        break\n",
    "    print 'Galactica'"
   ]
  },
  {
   "cell_type": "code",
   "execution_count": 13,
   "metadata": {
    "collapsed": false
   },
   "outputs": [
    {
     "name": "stdout",
     "output_type": "stream",
     "text": [
      "Galactica\n",
      "Galactica\n",
      "Galactica\n"
     ]
    }
   ],
   "source": [
    "while x < 3:\n",
    "    x += 1\n",
    "    print 'Galactica'"
   ]
  },
  {
   "cell_type": "markdown",
   "metadata": {},
   "source": [
    "Another familiar (and useful) construct is the for loop.\n",
    "\n",
    "> This executes a block of code for a range of values."
   ]
  },
  {
   "cell_type": "code",
   "execution_count": 19,
   "metadata": {
    "collapsed": false
   },
   "outputs": [
    {
     "data": {
      "text/plain": [
       "[2, 4, 6, 8, 10, 12, 14, 16, 18]"
      ]
     },
     "execution_count": 19,
     "metadata": {},
     "output_type": "execute_result"
    }
   ],
   "source": [
    "range(2,20,2)"
   ]
  },
  {
   "cell_type": "code",
   "execution_count": null,
   "metadata": {
    "collapsed": true
   },
   "outputs": [],
   "source": []
  },
  {
   "cell_type": "code",
   "execution_count": 12,
   "metadata": {
    "collapsed": false
   },
   "outputs": [
    {
     "name": "stdout",
     "output_type": "stream",
     "text": [
      "0\n",
      "1\n",
      "4\n",
      "9\n"
     ]
    }
   ],
   "source": [
    "for k in range(4):\n",
    "    print k**2"
   ]
  },
  {
   "cell_type": "markdown",
   "metadata": {},
   "source": [
    "The object that a for loop iterates over is called\n",
    "(appropriately) an iterable."
   ]
  },
  {
   "cell_type": "markdown",
   "metadata": {},
   "source": [
    "A useful but possibly unfamiliar construct is the try-\n",
    "except block:"
   ]
  },
  {
   "cell_type": "code",
   "execution_count": 20,
   "metadata": {
    "collapsed": false
   },
   "outputs": [
    {
     "data": {
      "text/plain": [
       "9"
      ]
     },
     "execution_count": 20,
     "metadata": {},
     "output_type": "execute_result"
    }
   ],
   "source": [
    "dict(zip(range(10),[x**2 for x in range(10)]))"
   ]
  },
  {
   "cell_type": "code",
   "execution_count": 21,
   "metadata": {
    "collapsed": false
   },
   "outputs": [
    {
     "ename": "NameError",
     "evalue": "name 'undef' is not defined",
     "output_type": "error",
     "traceback": [
      "\u001b[1;31m---------------------------------------------------------------------------\u001b[0m",
      "\u001b[1;31mNameError\u001b[0m                                 Traceback (most recent call last)",
      "\u001b[1;32m<ipython-input-21-59a5be27c03c>\u001b[0m in \u001b[0;36m<module>\u001b[1;34m()\u001b[0m\n\u001b[1;32m----> 1\u001b[1;33m \u001b[1;32mprint\u001b[0m \u001b[0mundef\u001b[0m\u001b[1;33m\u001b[0m\u001b[0m\n\u001b[0m",
      "\u001b[1;31mNameError\u001b[0m: name 'undef' is not defined"
     ]
    }
   ],
   "source": [
    "print undef"
   ]
  },
  {
   "cell_type": "code",
   "execution_count": 31,
   "metadata": {
    "collapsed": false
   },
   "outputs": [
    {
     "name": "stdout",
     "output_type": "stream",
     "text": [
      "nice try, mr undefined!\n"
     ]
    }
   ],
   "source": [
    "try:\n",
    "    print undef\n",
    "except NameError:\n",
    "    print 'nice try, mr undefined!'        "
   ]
  },
  {
   "cell_type": "markdown",
   "metadata": {},
   "source": [
    "This is useful for catching and dealing with errors, also called exception handling."
   ]
  },
  {
   "cell_type": "markdown",
   "metadata": {},
   "source": [
    "### Functions"
   ]
  },
  {
   "cell_type": "markdown",
   "metadata": {},
   "source": [
    "Python allows you to define custom functions as you\n",
    "would expect:\n"
   ]
  },
  {
   "cell_type": "code",
   "execution_count": 23,
   "metadata": {
    "collapsed": false
   },
   "outputs": [],
   "source": [
    "def x_minus_3(x):\n",
    "    return x - 3"
   ]
  },
  {
   "cell_type": "code",
   "execution_count": null,
   "metadata": {
    "collapsed": false
   },
   "outputs": [],
   "source": [
    "x_minus_3(12)"
   ]
  },
  {
   "cell_type": "markdown",
   "metadata": {},
   "source": [
    "Functions can optionally return a value with a return statement (as this example does)."
   ]
  },
  {
   "cell_type": "markdown",
   "metadata": {},
   "source": [
    "Functions can take a number of arguments as inputs,\n",
    "and these arguments can be specified in two ways:\n"
   ]
  },
  {
   "cell_type": "markdown",
   "metadata": {},
   "source": [
    "#### As positional arguments"
   ]
  },
  {
   "cell_type": "code",
   "execution_count": 37,
   "metadata": {
    "collapsed": false
   },
   "outputs": [],
   "source": [
    "def f(x=10,y=0):\n",
    "    return x - y"
   ]
  },
  {
   "cell_type": "code",
   "execution_count": 29,
   "metadata": {
    "collapsed": false
   },
   "outputs": [],
   "source": [
    "import pandas as pd"
   ]
  },
  {
   "cell_type": "code",
   "execution_count": null,
   "metadata": {
    "collapsed": true
   },
   "outputs": [],
   "source": [
    "pd.read_csv()"
   ]
  },
  {
   "cell_type": "code",
   "execution_count": 38,
   "metadata": {
    "collapsed": false
   },
   "outputs": [
    {
     "data": {
      "text/plain": [
       "0"
      ]
     },
     "execution_count": 38,
     "metadata": {},
     "output_type": "execute_result"
    }
   ],
   "source": [
    "f(y=10)"
   ]
  },
  {
   "cell_type": "code",
   "execution_count": 39,
   "metadata": {
    "collapsed": false
   },
   "outputs": [
    {
     "data": {
      "text/plain": [
       "2"
      ]
     },
     "execution_count": 39,
     "metadata": {},
     "output_type": "execute_result"
    }
   ],
   "source": [
    "f(x=4,y=2)"
   ]
  },
  {
   "cell_type": "code",
   "execution_count": 42,
   "metadata": {
    "collapsed": false
   },
   "outputs": [
    {
     "data": {
      "text/plain": [
       "2"
      ]
     },
     "execution_count": 42,
     "metadata": {},
     "output_type": "execute_result"
    }
   ],
   "source": [
    "f(y=2,x=4)"
   ]
  },
  {
   "cell_type": "markdown",
   "metadata": {},
   "source": [
    "#### Or as keyword arguments"
   ]
  },
  {
   "cell_type": "code",
   "execution_count": 36,
   "metadata": {
    "collapsed": false
   },
   "outputs": [],
   "source": [
    "def g(arg1=1, arg2=1, arg3=1):\n",
    "    return arg1 / float(arg2)"
   ]
  },
  {
   "cell_type": "code",
   "execution_count": 37,
   "metadata": {
    "collapsed": false
   },
   "outputs": [
    {
     "data": {
      "text/plain": [
       "10.0"
      ]
     },
     "execution_count": 37,
     "metadata": {},
     "output_type": "execute_result"
    }
   ],
   "source": [
    "g(arg1=10, arg3=5)"
   ]
  },
  {
   "cell_type": "code",
   "execution_count": 38,
   "metadata": {
    "collapsed": false
   },
   "outputs": [
    {
     "data": {
      "text/plain": [
       "0.1"
      ]
     },
     "execution_count": 38,
     "metadata": {},
     "output_type": "execute_result"
    }
   ],
   "source": [
    "g(arg2=100, arg1=10)"
   ]
  },
  {
   "cell_type": "markdown",
   "metadata": {},
   "source": [
    "![break](assets/code.png)"
   ]
  },
  {
   "cell_type": "markdown",
   "metadata": {},
   "source": [
    "## Lab: Matrix Addition In Python"
   ]
  },
  {
   "cell_type": "markdown",
   "metadata": {},
   "source": [
    "* Build some basic linear algebra functions\n",
    "* Improve comfort with flow patterns\n",
    "* Explore list comprehensions"
   ]
  },
  {
   "cell_type": "markdown",
   "metadata": {},
   "source": [
    "### Practice: Linear Algebra"
   ]
  },
  {
   "cell_type": "markdown",
   "metadata": {},
   "source": [
    "Primarily let's focus on some of the concrete components we talked about in class"
   ]
  },
  {
   "cell_type": "markdown",
   "metadata": {},
   "source": [
    "#### Matrices and Vectors"
   ]
  },
  {
   "cell_type": "markdown",
   "metadata": {},
   "source": [
    "For the most part, we can consider using lists to create matrices and vectors (especially given that a Python list is, essentially, a vector)"
   ]
  },
  {
   "cell_type": "code",
   "execution_count": 39,
   "metadata": {
    "collapsed": false
   },
   "outputs": [
    {
     "name": "stdout",
     "output_type": "stream",
     "text": [
      "[[1, 2, 3, 4], [5, 6, 7, 8], [9, 0, 1, 2]]\n"
     ]
    }
   ],
   "source": [
    "vector = [1, 2, 3]\n",
    "matrix = [ [1, 2, 3, 4], \n",
    "           [5, 6, 7, 8],\n",
    "           [9, 0, 1, 2] ]\n",
    "\n",
    "print matrix"
   ]
  },
  {
   "cell_type": "code",
   "execution_count": 42,
   "metadata": {
    "collapsed": false
   },
   "outputs": [
    {
     "data": {
      "text/plain": [
       "5"
      ]
     },
     "execution_count": 42,
     "metadata": {},
     "output_type": "execute_result"
    }
   ],
   "source": [
    "matrix[1][0]"
   ]
  },
  {
   "cell_type": "markdown",
   "metadata": {},
   "source": [
    "We'll learn more about `numpy` next week, but numpy makes it incredibly easy to auto generate both of these!"
   ]
  },
  {
   "cell_type": "code",
   "execution_count": 40,
   "metadata": {
    "collapsed": false
   },
   "outputs": [
    {
     "name": "stdout",
     "output_type": "stream",
     "text": [
      "[[1 2 3]\n",
      " [4 5 6]\n",
      " [7 8 9]]\n"
     ]
    }
   ],
   "source": [
    "import numpy as np\n",
    "npMatrix = np.matrix('1 2 3; 4 5 6; 7 8 9')\n",
    "\n",
    "print npMatrix"
   ]
  },
  {
   "cell_type": "markdown",
   "metadata": {},
   "source": [
    "#### Math"
   ]
  },
  {
   "cell_type": "code",
   "execution_count": 43,
   "metadata": {
    "collapsed": false
   },
   "outputs": [
    {
     "data": {
      "text/plain": [
       "[1, 2, 3]"
      ]
     },
     "execution_count": 43,
     "metadata": {},
     "output_type": "execute_result"
    }
   ],
   "source": [
    "vector"
   ]
  },
  {
   "cell_type": "code",
   "execution_count": 48,
   "metadata": {
    "collapsed": false
   },
   "outputs": [
    {
     "data": {
      "text/plain": [
       "[1, 2, 3, 1, 2, 3, 1, 2, 3]"
      ]
     },
     "execution_count": 48,
     "metadata": {},
     "output_type": "execute_result"
    }
   ],
   "source": [
    "vector * 3"
   ]
  },
  {
   "cell_type": "markdown",
   "metadata": {},
   "source": [
    "Note that \"common sense\" here won't work: we're looking for a way to multiply each value within a vector by a value, not to repeat the vector 3 times. Here, we can use _[list comprehensions](http://www.secnetix.de/olli/Python/list_comprehensions.hawk)_ instead:\n"
   ]
  },
  {
   "cell_type": "code",
   "execution_count": 57,
   "metadata": {
    "collapsed": false
   },
   "outputs": [
    {
     "data": {
      "text/plain": [
       "[1, 2, 3, 4]"
      ]
     },
     "execution_count": 57,
     "metadata": {},
     "output_type": "execute_result"
    }
   ],
   "source": [
    "items = ['1','2','3','4']\n",
    "\n",
    "[int(item) for item in items]"
   ]
  },
  {
   "cell_type": "code",
   "execution_count": 58,
   "metadata": {
    "collapsed": false
   },
   "outputs": [
    {
     "data": {
      "text/plain": [
       "[3, 6, 9]"
      ]
     },
     "execution_count": 58,
     "metadata": {},
     "output_type": "execute_result"
    }
   ],
   "source": [
    "[x*3 for x in vector]"
   ]
  },
  {
   "cell_type": "markdown",
   "metadata": {},
   "source": [
    "And easier, we can write this as a function."
   ]
  },
  {
   "cell_type": "code",
   "execution_count": 51,
   "metadata": {
    "collapsed": false
   },
   "outputs": [
    {
     "data": {
      "text/plain": [
       "[3, 6, 9]"
      ]
     },
     "execution_count": 51,
     "metadata": {},
     "output_type": "execute_result"
    }
   ],
   "source": [
    "def vectorScalarMultiply(vector, scalar):\n",
    "    return [x*scalar for x in vector]\n",
    "\n",
    "vectorScalarMultiply(vector, 3)"
   ]
  },
  {
   "cell_type": "markdown",
   "metadata": {},
   "source": [
    "(Granted, we could extend the list class… but let's not and say we did)\n",
    "\n",
    "Can also use list comprehensions to transpose a matrix, which should turn the matrix, essentially, on its 'diagonal axis'.\n"
   ]
  },
  {
   "cell_type": "code",
   "execution_count": 56,
   "metadata": {
    "collapsed": false
   },
   "outputs": [
    {
     "data": {
      "text/plain": [
       "[[1, 2, 3, 4], [5, 6, 7, 8], [9, 0, 1, 2]]"
      ]
     },
     "execution_count": 56,
     "metadata": {},
     "output_type": "execute_result"
    }
   ],
   "source": [
    "matrix"
   ]
  },
  {
   "cell_type": "code",
   "execution_count": 55,
   "metadata": {
    "collapsed": false
   },
   "outputs": [
    {
     "data": {
      "text/plain": [
       "[0, 1, 2, 3]"
      ]
     },
     "execution_count": 55,
     "metadata": {},
     "output_type": "execute_result"
    }
   ],
   "source": [
    "range(len(matrix[0]))"
   ]
  },
  {
   "cell_type": "code",
   "execution_count": 53,
   "metadata": {
    "collapsed": false
   },
   "outputs": [
    {
     "data": {
      "text/plain": [
       "[[1, 5, 9], [2, 6, 0], [3, 7, 1], [4, 8, 2]]"
      ]
     },
     "execution_count": 53,
     "metadata": {},
     "output_type": "execute_result"
    }
   ],
   "source": [
    "[ [row[n] for row in matrix] for n in [0, 1, 2, 3]]"
   ]
  },
  {
   "cell_type": "code",
   "execution_count": 60,
   "metadata": {
    "collapsed": false
   },
   "outputs": [
    {
     "name": "stdout",
     "output_type": "stream",
     "text": [
      "[[1 2 3 4]\n",
      " [5 6 7 8]\n",
      " [9 0 1 2]]\n",
      "[1, 2, 3, 4]\n",
      "4\n",
      "[0, 1, 2, 3]\n",
      "[[1 5 9]\n",
      " [2 6 0]\n",
      " [3 7 1]\n",
      " [4 8 2]]\n"
     ]
    }
   ],
   "source": [
    "import numpy as np\n",
    "\n",
    "def matrixTranspose(matrix):\n",
    "    \"\"\"\n",
    "    Matrix Transpose function with interspersed print statements\n",
    "    for explanatory purposes. We'll disect the following list comprehension :\n",
    "    \n",
    "    [ [row[n] for row in matrix] for n in range(len(matrix[0]))]\n",
    "    \n",
    "    \"\"\"\n",
    "    \n",
    "#   Let's inspect which  matrix was provided as an argument? : \n",
    "#\n",
    "#    [[1 2 3 4]\n",
    "#     [5 6 7 8]\n",
    "#     [9 0 1 2]]\n",
    "#\n",
    "    print np.matrix(matrix)\n",
    "    \n",
    "#   Now, let's disect the list comprehension which will transpose this\n",
    "#   matrix. Start from the back when trying to understand what a list \n",
    "#   comprehension does. So we see that it tries the access the first \n",
    "#   row in the Matrix : [1 2 3 4]\n",
    "    print matrix[0]\n",
    "    \n",
    "#   It does this to determine the number of columns the matrix has, as\n",
    "#   each row will have an equal number of elements. \n",
    "    print len(matrix[0])\n",
    "\n",
    "#   The number of columns is them used to create a 'range list' to \n",
    "#   iterate over : [0, 1, 2, 3]\n",
    "    print range(len(matrix[0]))\n",
    "\n",
    "#   So in this particular case the list comprehension is simply:\n",
    "#   [ INNERLOOP for n in [0,1,2,3]]\n",
    "\n",
    "#   INNERLOOP : [row[n] for row in matrix]\n",
    "\n",
    "#   The outer loop (the outer list comprehension) 'locks' the column\n",
    "#   number for each full cycle of inner loop (inner list comprehension).\n",
    "\n",
    "#   So in first instance 'n' is fixed at 0, and so when it executes the\n",
    "#   inner loop :\n",
    "\n",
    "#   [row[n] for row in matrix]\n",
    "\n",
    "#  it goes through each row in the matrix and takes the nth element from the \n",
    "#  row. In the example, in the first cycle 'n' would be 0, and so the elements\n",
    "#  taken from our examplary matrix would be [1,5,9]. These numbers are stored \n",
    "#  inside of a list (that's what list comprehensions do), and it will ask for \n",
    "#  the next value of 'n'. Now that 'n' is fixed as 1, it will go through a whole \n",
    "#  cycle again. Now it takes [2,6,0] from out examplary matrix. This continues \n",
    "#  for as long as there are more rows in the matrix.\n",
    "\n",
    "    return [ [row[n] for row in matrix] for n in range(len(matrix[0]))]\n",
    "\n",
    "#  Ultimately the function returns the transposed matrix : \n",
    "#\n",
    "#   [[1 5 9]\n",
    "#    [2 6 0]\n",
    "#    [3 7 1]\n",
    "#    [4 8 2]]\n",
    "#\n",
    "print np.matrix(matrixTranspose(matrix)) # Formatted as a matrix"
   ]
  },
  {
   "cell_type": "markdown",
   "metadata": {},
   "source": [
    "```python\n",
    "[ [row[n] for row in matrix] for n in [0,1,2,3]]\n",
    "```"
   ]
  },
  {
   "cell_type": "markdown",
   "metadata": {},
   "source": [
    "### Classwork"
   ]
  },
  {
   "cell_type": "markdown",
   "metadata": {},
   "source": [
    "1. Write two more functions: `vectorMatrix multiplication` and `matrix multiplication`. No numpy/scipy! Do this with pure python. Use triple quotes/doc quotes to explain the properties expected for a matrix in these functions:\n"
   ]
  },
  {
   "cell_type": "code",
   "execution_count": null,
   "metadata": {
    "collapsed": false
   },
   "outputs": [],
   "source": [
    "def vectorMatrixMultiplication(matrix,vector):\n",
    "    \"\"\"\n",
    "    Explain exactly what is needed\n",
    "    \"\"\"\n",
    "    return answer"
   ]
  },
  {
   "cell_type": "markdown",
   "metadata": {},
   "source": [
    "Submit this code as a [Gist](http://gist.github.com) and submit it through the [homework submission](https://docs.google.com/a/type.hk/forms/d/1bc9B8_ZUhBFnNSjYtP_3ml2KoIOqTiW5yxkNhWQ9xBQ/viewform?c=0&w=1) form when you're done. Check your answers using the logic we went over from lecture."
   ]
  },
  {
   "cell_type": "markdown",
   "metadata": {},
   "source": [
    "**PROGRAMMER GOAL**\n",
    "\n",
    "Write test cases and use try/catch in your functions for when matrices are not defined correctly (ie: [ [1,2,3], [4,5] ] is not a matrix.) Or, create a matrix class that also follows these rules.\n"
   ]
  },
  {
   "cell_type": "markdown",
   "metadata": {},
   "source": [
    "2. Write a function that creates an identity matrix. An identity matrix is a matrix where value = 1 if the row and column index are the same, and 0 otherwise. It should build any size identity matrix you want.\n",
    "\n",
    "Example: iMatrix(4) should be:"
   ]
  },
  {
   "cell_type": "code",
   "execution_count": null,
   "metadata": {
    "collapsed": false
   },
   "outputs": [],
   "source": [
    "[[1, 0, 0, 0],\n",
    "[0, 1, 0, 0],\n",
    "[0, 0, 1, 0],\n",
    "[0, 0, 0, 1] ]"
   ]
  },
  {
   "cell_type": "markdown",
   "metadata": {},
   "source": [
    "**Send it your scripts as a Gist!**"
   ]
  },
  {
   "cell_type": "markdown",
   "metadata": {},
   "source": [
    "## Mini Project"
   ]
  },
  {
   "cell_type": "markdown",
   "metadata": {},
   "source": [
    "Let's revise the original script we wrote on Class01 to now return a new csv file that summarizes the data in such a way:\n",
    "\n",
    "```\n",
    "# HEADERS:\n",
    "\n",
    "\"age\", \"gender\", \"signed_in\", \"avg_click\", \"avg_impressions\", \"max_click\", \"max_impressions\"\n",
    "```\n",
    "\n",
    "This means that we are now aggregating data by age, gender, and signed_in to get these new data features: avg_click, avg_impressions, max_click, max_impressions.\n",
    "Let's include Age = 0 (null age) as a possible groupable."
   ]
  },
  {
   "cell_type": "markdown",
   "metadata": {},
   "source": [
    "![break](assets/resources.png)"
   ]
  },
  {
   "cell_type": "markdown",
   "metadata": {},
   "source": [
    "## Resources"
   ]
  },
  {
   "cell_type": "markdown",
   "metadata": {},
   "source": [
    "#### Mathematics\n",
    "* [Great review on Linear Algebra](http://cs229.stanford.edu/section/cs229-linalg.pdf)\n",
    "* [Coding the Matrix: Linear Algebra through Computer Science Applications](https://www.coursera.org/course/matrix) - Learn the concepts and methods of linear algebra, and how to use them to think about computational problems arising in computer science. Coursework includes building on the concepts to write small programs and run them on real data.\n",
    "\n",
    "#### Machine Learning\n",
    "[Early learning on its application to linear models](http://dept.stat.lsa.umich.edu/~kshedden/Courses/Stat401/Notes/401-multreg.pdf)\n",
    "\n",
    "#### Code\n",
    "[A Matrix Class implemented in pure python](http://code.activestate.com/recipes/189971-basic-linear-algebra-matrix/)"
   ]
  },
  {
   "cell_type": "markdown",
   "metadata": {},
   "source": [
    "## Colofon"
   ]
  },
  {
   "cell_type": "code",
   "execution_count": 4,
   "metadata": {
    "collapsed": false
   },
   "outputs": [
    {
     "name": "stdout",
     "output_type": "stream",
     "text": [
      "Python    2.7.10\n",
      "IPython   4.0.0\n",
      "numpy     1.10.1\n",
      "pandas    0.17.0\n",
      "sklearn   0.17\n",
      "seaborn   0.6.0\n"
     ]
    }
   ],
   "source": [
    "from utils import *\n",
    "print_versions()"
   ]
  },
  {
   "cell_type": "code",
   "execution_count": 5,
   "metadata": {
    "collapsed": false
   },
   "outputs": [
    {
     "data": {
      "text/html": [
       "\n",
       "<link rel=\"stylesheet\" href=\"theme/custom.css\">"
      ],
      "text/plain": [
       "<IPython.core.display.HTML object>"
      ]
     },
     "metadata": {},
     "output_type": "display_data"
    }
   ],
   "source": [
    "%%html\n",
    "\n",
    "<link rel=\"stylesheet\" href=\"theme/custom.css\">"
   ]
  }
 ],
 "metadata": {
  "kernelspec": {
   "display_name": "Python 2",
   "language": "python",
   "name": "python2"
  },
  "language_info": {
   "codemirror_mode": {
    "name": "ipython",
    "version": 2
   },
   "file_extension": ".py",
   "mimetype": "text/x-python",
   "name": "python",
   "nbconvert_exporter": "python",
   "pygments_lexer": "ipython2",
   "version": "2.7.10"
  }
 },
 "nbformat": 4,
 "nbformat_minor": 0
}
